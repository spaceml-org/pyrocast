{
 "cells": [
  {
   "cell_type": "markdown",
   "id": "78937f3d-6b21-4c69-9ba1-526d018b11b5",
   "metadata": {},
   "source": [
    "# Forecast Random Forest\n",
    "\n",
    "1st August 2022\n",
    "\n",
    "Iterates on CNN2 to include all the geostationary data."
   ]
  },
  {
   "cell_type": "code",
   "execution_count": 1,
   "id": "b291f3ea-cac5-4cda-b58d-189ef600e439",
   "metadata": {},
   "outputs": [],
   "source": [
    "# Libraries\n",
    "import matplotlib.pyplot as plt\n",
    "import pandas as pd\n",
    "import xarray as xr\n",
    "import numpy as np\n",
    "import copy\n",
    "import os\n",
    "import time\n",
    "#from google.cloud import storage\n",
    "from datetime import timedelta, timezone, datetime\n",
    "import zarr\n",
    "#from google.cloud import storage\n",
    "import pickle5\n",
    "import pickle\n",
    "import pandas as pd\n",
    "from datetime import datetime, timedelta\n",
    "import fsspec\n",
    "#from gcsfs import GCSFileSystem\n",
    "from tqdm import tqdm, notebook\n",
    "#from google.cloud import bigquery\n",
    "import seaborn as sns\n",
    "import jax\n",
    "import jax.numpy as jnp\n",
    "from sklearn.cluster import KMeans\n",
    "from sklearn import metrics\n",
    "from sklearn.metrics import roc_curve, roc_auc_score, confusion_matrix\n",
    "import scipy.special as scp\n",
    "from sklearn.ensemble import RandomForestClassifier\n",
    "\n",
    "from itertools import permutations, combinations\n",
    "from scipy.stats import norm\n",
    "import math\n",
    "\n",
    "\n",
    "%load_ext autoreload\n",
    "%autoreload 2\n"
   ]
  },
  {
   "cell_type": "code",
   "execution_count": 2,
   "id": "b8f7a48f",
   "metadata": {},
   "outputs": [
    {
     "name": "stdout",
     "output_type": "stream",
     "text": [
      "Requirement already satisfied: google-cloud in /home/emiliano/anaconda3/lib/python3.7/site-packages (0.34.0)\r\n"
     ]
    }
   ],
   "source": [
    "!pip install google-cloud"
   ]
  },
  {
   "cell_type": "code",
   "execution_count": 3,
   "id": "3fb356fc-5560-414f-9b61-e2f72bc3b1af",
   "metadata": {},
   "outputs": [
    {
     "name": "stdout",
     "output_type": "stream",
     "text": [
      "hsic2.py\n"
     ]
    }
   ],
   "source": [
    "# Custom libraries\n",
    "import sys\n",
    "sys.path.insert(1,'/home/emiliano/Documents/FDL/clean_code/src/')\n",
    "import dataprep as dp\n",
    "from hsic import *\n",
    "#from rf import *\n",
    "from icp import *\n",
    "#import icp_nets as icpn"
   ]
  },
  {
   "cell_type": "markdown",
   "id": "99e02e2f-6bbe-42e1-a18b-ec6eb0734e97",
   "metadata": {},
   "source": [
    "## New Load Data\n",
    "\n",
    "### 1.5 | Split data"
   ]
  },
  {
   "cell_type": "code",
   "execution_count": 4,
   "id": "752fa2a7-3ed8-4435-8e67-85d915e4d425",
   "metadata": {},
   "outputs": [],
   "source": [
    "ML_ready_root = \"../data/\"\n",
    "file = \"Himawari_lazyload_dataset_keys_prediction_v1.pkl\"\n",
    "\n",
    "keys = pickle5.load( open( ML_ready_root+file, \"rb\" ) )\n",
    "keys_image, keys_era5 = keys"
   ]
  },
  {
   "cell_type": "code",
   "execution_count": 5,
   "id": "e770acc6-cf1a-487e-b1ea-0c28215afd85",
   "metadata": {},
   "outputs": [],
   "source": [
    "keys = keys_era5"
   ]
  },
  {
   "cell_type": "code",
   "execution_count": 6,
   "id": "5c8b65fb-9a4e-4062-832f-2949d4738f02",
   "metadata": {},
   "outputs": [
    {
     "data": {
      "text/plain": [
       "[True, True, False, False, True, True]"
      ]
     },
     "execution_count": 6,
     "metadata": {},
     "output_type": "execute_result"
    }
   ],
   "source": [
    "k0 = keys[1][\"flag_then\"][0]\n",
    "k0"
   ]
  },
  {
   "cell_type": "code",
   "execution_count": 7,
   "id": "ac85b969-9792-4b84-b3f1-7b50c8032936",
   "metadata": {},
   "outputs": [
    {
     "data": {
      "text/plain": [
       "[True, False, False, True, True]"
      ]
     },
     "execution_count": 7,
     "metadata": {},
     "output_type": "execute_result"
    }
   ],
   "source": [
    "k0[1:len(k0)]"
   ]
  },
  {
   "cell_type": "code",
   "execution_count": 8,
   "id": "a03dd5b4-cbc5-4faa-9f88-27ddd64a41a2",
   "metadata": {},
   "outputs": [
    {
     "data": {
      "text/plain": [
       "[True, True, False, False, True]"
      ]
     },
     "execution_count": 8,
     "metadata": {},
     "output_type": "execute_result"
    }
   ],
   "source": [
    "k0[0:(len(k0)-1)]"
   ]
  },
  {
   "cell_type": "code",
   "execution_count": 9,
   "id": "d08e5936-0307-440b-b31f-7a97e3360ddf",
   "metadata": {},
   "outputs": [
    {
     "data": {
      "text/plain": [
       "[True, False, False, False, True, False]"
      ]
     },
     "execution_count": 9,
     "metadata": {},
     "output_type": "execute_result"
    }
   ],
   "source": [
    "[k0[0]]+(np.array(k0[1:len(k0)])*np.logical_not(k0[0:(len(k0)-1)])).tolist()"
   ]
  },
  {
   "cell_type": "code",
   "execution_count": 10,
   "id": "f3950cbd-8480-412c-8f97-cc3cfd00de6c",
   "metadata": {},
   "outputs": [],
   "source": [
    "def correctFlags(ks):\n",
    "    return [ks[0]]+(np.array(ks[1:len(ks)])*np.logical_not(ks[0:(len(ks)-1)])).tolist()"
   ]
  },
  {
   "cell_type": "code",
   "execution_count": 11,
   "id": "4ef318d0-340e-4519-bf04-65b66ce2a27a",
   "metadata": {},
   "outputs": [],
   "source": [
    "i = 0\n",
    "correctedFlags = [correctFlags(keys[1][\"flag_then\"][i]) for i in range(len(keys[1][\"flag_then\"]))]"
   ]
  },
  {
   "cell_type": "code",
   "execution_count": 12,
   "id": "6f284638-a5e7-48d2-9d37-0074fe0beb13",
   "metadata": {},
   "outputs": [
    {
     "data": {
      "text/plain": [
       "1167"
      ]
     },
     "execution_count": 12,
     "metadata": {},
     "output_type": "execute_result"
    }
   ],
   "source": [
    "np.sum(dp.flatten(keys[1][\"flag_then\"]))"
   ]
  },
  {
   "cell_type": "code",
   "execution_count": 13,
   "id": "638471bc-2b81-4d63-a7f5-92c12f741854",
   "metadata": {},
   "outputs": [
    {
     "data": {
      "text/plain": [
       "447"
      ]
     },
     "execution_count": 13,
     "metadata": {},
     "output_type": "execute_result"
    }
   ],
   "source": [
    "np.sum(dp.flatten(correctedFlags))"
   ]
  },
  {
   "cell_type": "code",
   "execution_count": 14,
   "id": "267bd264-74e0-455b-bedd-d58d6cd51919",
   "metadata": {},
   "outputs": [
    {
     "data": {
      "text/plain": [
       "6919"
      ]
     },
     "execution_count": 14,
     "metadata": {},
     "output_type": "execute_result"
    }
   ],
   "source": [
    "len(dp.flatten(correctedFlags))"
   ]
  },
  {
   "cell_type": "code",
   "execution_count": 15,
   "id": "69941fd2-1fcf-4d07-8a88-3f8b2027087e",
   "metadata": {},
   "outputs": [],
   "source": [
    "i = 0\n",
    "indxKeep, = np.where([dp.flatten(correctedFlags)[i]==dp.flatten(keys[1][\"flag_then\"])[i] for i in range(len(dp.flatten(correctedFlags)))])"
   ]
  },
  {
   "cell_type": "code",
   "execution_count": 16,
   "id": "d1487313-bd60-4544-ae39-7522307d09e1",
   "metadata": {},
   "outputs": [
    {
     "data": {
      "text/plain": [
       "(6199,)"
      ]
     },
     "execution_count": 16,
     "metadata": {},
     "output_type": "execute_result"
    }
   ],
   "source": [
    "indxKeep.shape"
   ]
  },
  {
   "cell_type": "code",
   "execution_count": 17,
   "id": "cd1a88ea-4706-464e-9bae-e82f28bfc6eb",
   "metadata": {},
   "outputs": [
    {
     "data": {
      "text/plain": [
       "(6919, 5)"
      ]
     },
     "execution_count": 17,
     "metadata": {},
     "output_type": "execute_result"
    }
   ],
   "source": [
    "envVars = np.load(ML_ready_root+'env_era5_pred_v1.npy')\n",
    "envVars.shape"
   ]
  },
  {
   "cell_type": "code",
   "execution_count": 18,
   "id": "843fdf93-e026-4ad6-8243-e7b1e7b169b6",
   "metadata": {},
   "outputs": [
    {
     "data": {
      "text/plain": [
       "array([[ 151.98555486,  -31.58987524, 2019.91232877, 2019.        ,\n",
       "           0.        ],\n",
       "       [ 151.98555486,  -31.58987524, 2019.91232877, 2019.        ,\n",
       "           0.        ],\n",
       "       [ 151.98555486,  -31.58987524, 2019.91232877, 2019.        ,\n",
       "           0.        ],\n",
       "       [ 151.98555486,  -31.58987524, 2019.91232877, 2019.        ,\n",
       "           0.        ],\n",
       "       [ 151.98555486,  -31.58987524, 2019.91506849, 2019.        ,\n",
       "           0.        ]])"
      ]
     },
     "execution_count": 18,
     "metadata": {},
     "output_type": "execute_result"
    }
   ],
   "source": [
    "envVars[0:5,]"
   ]
  },
  {
   "cell_type": "markdown",
   "id": "38912984",
   "metadata": {},
   "source": [
    "\n",
    "Meteorological Era 5 variables\n",
    "\n",
    "| Variable index | Short name | Long name |\n",
    "| -------------- | ---------- | --------- |\n",
    "| 0  | u10  | 10m u component of wind | \n",
    "| 1  | v10  | 10m v component of wind |\n",
    "| 2  | fg10 | 10m wind gust since previous post processing |\n",
    "| 3  | blh  | boundary layer height |\n",
    "| 4  | cape | convective available potential energy |\n",
    "| 5  | cin  | convective inhibition |\n",
    "| 6  | z    | geopotential |\n",
    "| 7  | slhf | surface latent heat flux |\n",
    "| 8  | sshf | surface sensible heat flux |\n",
    "| 9 | w    | surface vertical velocity |\n",
    "| 10 | u    | u component of wind at 250hPa |\n",
    "| 11 | v    | v component of wind at 250hPa |\n",
    "| 12 | cvh  | fraction of high vegetation |\n",
    "| 13 | cvl  | fraction of low vegetation |\n",
    "| 14 | tvh  | type of high vegetation |\n",
    "| 15 | tvl  | type of low vegetation |\n",
    "| 16 | r650 | relative humidity at 650hPa |\n",
    "| 17 | r750 | relative humidity at 750hPa |\n",
    "| 18 | r850 | relative humidity at 850hPa |"
   ]
  },
  {
   "cell_type": "code",
   "execution_count": 19,
   "id": "89a81da1-2348-4d0e-a22b-1f501794c177",
   "metadata": {},
   "outputs": [],
   "source": [
    "#cube = np.load(ML_ready_root+'x_image_det_v1.npy')\n",
    "#labels = np.load(ML_ready_root+'y_image_det_v1.npy')\n",
    "#cube = np.load(ML_ready_root+'x_image_pred_v1.npy')\n",
    "#labels = np.load(ML_ready_root+'y_image_pred_v1.npy')\n",
    "\n",
    "#cube = np.load(ML_ready_root+'xFeat_era5_3vs_pred_v1.npy')\n",
    "#labels = np.load(ML_ready_root+'y_era5_3vs_pred_v1.npy')\n",
    "#cube = np.load(ML_ready_root+'xFeat_era5_19vs_pred_v1.npy')\n",
    "cube = np.load(ML_ready_root+'xFeat_era5_25vs_pred_v2.npy')\n",
    "labels = np.load(ML_ready_root+'y_era5_19vs_pred_v1.npy')\n",
    "\n",
    "#cube = np.load(ML_ready_root+'xFeat_era5_3vs_pred_oracle_v1.npy')\n",
    "#labels = np.load(ML_ready_root+'y_era5_3vs_pred_oracle_v1.npy')\n",
    "#cube = np.load(ML_ready_root+'xFeat_era5_19vs_pred_oracle_v1.npy')\n",
    "#labels = np.load(ML_ready_root+'y_era5_19vs_pred_oracle_v1.npy')\n",
    "\n",
    "#cube = np.load(ML_ready_root+'xFeat_era5_3vs_det_v1.npy')\n",
    "#labels = np.load(ML_ready_root+'y_era5_3vs_det_v1.npy')\n",
    "#cube = np.load(ML_ready_root+'xFeat_era5_19vs_det_v1.npy')\n",
    "#labels = np.load(ML_ready_root+'y_era5_19vs_det_v1.npy')"
   ]
  },
  {
   "cell_type": "code",
   "execution_count": 20,
   "id": "8e08dfad-f5b6-460c-95c0-37c65815f1b5",
   "metadata": {},
   "outputs": [
    {
     "data": {
      "text/plain": [
       "(array([], dtype=int64),)"
      ]
     },
     "execution_count": 20,
     "metadata": {},
     "output_type": "execute_result"
    }
   ],
   "source": [
    "def allZeros(x):\n",
    "    return np.all(x==0)\n",
    "indxZeros = np.where(np.apply_along_axis(allZeros,0,cube))\n",
    "indxZeros"
   ]
  },
  {
   "cell_type": "code",
   "execution_count": 21,
   "id": "07762fe8-b269-4d85-91c0-39a9ddfd9e88",
   "metadata": {},
   "outputs": [],
   "source": [
    "#cube = cube[:,0:66]\n",
    "#cube = cube[:,66:99]\n",
    "#cube = cube[:,66:275]"
   ]
  },
  {
   "cell_type": "code",
   "execution_count": 22,
   "id": "4ede9015-e819-4fe8-acc8-d4f3be6b8ffa",
   "metadata": {},
   "outputs": [
    {
     "data": {
      "text/plain": [
       "(6919, 318)"
      ]
     },
     "execution_count": 22,
     "metadata": {},
     "output_type": "execute_result"
    }
   ],
   "source": [
    "cube.shape"
   ]
  },
  {
   "cell_type": "code",
   "execution_count": 23,
   "id": "f6bc7acd-5a0f-44a9-a222-6fafa5c4a23f",
   "metadata": {},
   "outputs": [
    {
     "data": {
      "text/plain": [
       "(6919,)"
      ]
     },
     "execution_count": 23,
     "metadata": {},
     "output_type": "execute_result"
    }
   ],
   "source": [
    "labels.shape"
   ]
  },
  {
   "cell_type": "code",
   "execution_count": 24,
   "id": "f9f89549-6681-483d-b98c-23c20c9ed293",
   "metadata": {},
   "outputs": [
    {
     "data": {
      "text/plain": [
       "1167"
      ]
     },
     "execution_count": 24,
     "metadata": {},
     "output_type": "execute_result"
    }
   ],
   "source": [
    "np.sum(labels)"
   ]
  },
  {
   "cell_type": "code",
   "execution_count": 25,
   "id": "3f1fe3c9-e067-4ef9-8693-c4626bcaebf0",
   "metadata": {},
   "outputs": [
    {
     "data": {
      "text/plain": [
       "array([1, 1, 0, ..., 0, 0, 0])"
      ]
     },
     "execution_count": 25,
     "metadata": {},
     "output_type": "execute_result"
    }
   ],
   "source": [
    "labels"
   ]
  },
  {
   "cell_type": "code",
   "execution_count": 26,
   "id": "64ee1376-c513-4a30-b56b-92145dffcd10",
   "metadata": {},
   "outputs": [
    {
     "data": {
      "text/plain": [
       "0"
      ]
     },
     "execution_count": 26,
     "metadata": {},
     "output_type": "execute_result"
    }
   ],
   "source": [
    "np.sum(np.isnan(cube))"
   ]
  },
  {
   "cell_type": "code",
   "execution_count": 27,
   "id": "c1ff19a0-d42c-491b-80d0-202043ad68c4",
   "metadata": {},
   "outputs": [
    {
     "data": {
      "text/plain": [
       "99"
      ]
     },
     "execution_count": 27,
     "metadata": {},
     "output_type": "execute_result"
    }
   ],
   "source": [
    "11*9"
   ]
  },
  {
   "cell_type": "code",
   "execution_count": 28,
   "id": "e5c85602-7ace-4eba-a8d9-faa6bfb0c33c",
   "metadata": {},
   "outputs": [
    {
     "data": {
      "text/plain": [
       "275"
      ]
     },
     "execution_count": 28,
     "metadata": {},
     "output_type": "execute_result"
    }
   ],
   "source": [
    "11*25"
   ]
  },
  {
   "cell_type": "code",
   "execution_count": 29,
   "id": "ae9bc338-8529-456f-bcfd-583fcc2327f1",
   "metadata": {},
   "outputs": [
    {
     "data": {
      "text/plain": [
       "66"
      ]
     },
     "execution_count": 29,
     "metadata": {},
     "output_type": "execute_result"
    }
   ],
   "source": [
    "11*6"
   ]
  },
  {
   "cell_type": "code",
   "execution_count": 30,
   "id": "26d26254-0d2e-4b9f-8cf2-293002a9a850",
   "metadata": {},
   "outputs": [],
   "source": [
    "def norml(x):\n",
    "    return (x-np.min(x))/(np.max(x)-np.min(x))\n"
   ]
  },
  {
   "cell_type": "code",
   "execution_count": 31,
   "id": "827b5a80-12c3-486f-b60d-3ff597ad67d3",
   "metadata": {},
   "outputs": [],
   "source": [
    "def norml2(x):\n",
    "    den = (np.nanmax(x)-np.nanmin(x))\n",
    "    if den>0:\n",
    "        #print(\"ya\")\n",
    "        res = (x-np.nanmin(x))/den\n",
    "    else: \n",
    "        print(\"bla\")\n",
    "        res = x\n",
    "    return res\n"
   ]
  },
  {
   "cell_type": "code",
   "execution_count": 32,
   "id": "1218e36f-7656-42bf-8b37-2d0f5898a190",
   "metadata": {},
   "outputs": [],
   "source": [
    "def norml3(x,i):\n",
    "    #print(i)\n",
    "    minX = np.quantile(x[x>0], 0.01)\n",
    "    maxX = np.quantile(x[x>0], 0.99)\n",
    "    res = x\n",
    "    res[x<=minX]=minX\n",
    "    res[x>=maxX]=maxX\n",
    "    res = (res-minX)/(maxX-minX)\n",
    "    \n",
    "    return  res"
   ]
  },
  {
   "cell_type": "code",
   "execution_count": 33,
   "id": "5a46589a-b986-4644-a1ea-f65bc88c0469",
   "metadata": {},
   "outputs": [
    {
     "data": {
      "text/plain": [
       "866571.1794800136"
      ]
     },
     "execution_count": 33,
     "metadata": {},
     "output_type": "execute_result"
    }
   ],
   "source": [
    "np.max(cube)"
   ]
  },
  {
   "cell_type": "code",
   "execution_count": 34,
   "id": "e6fea0a3-3100-4d84-8314-e7ab2941ded4",
   "metadata": {},
   "outputs": [],
   "source": [
    "#np.quantile(cube[:,145], 0.01)"
   ]
  },
  {
   "cell_type": "code",
   "execution_count": 35,
   "id": "a4761ead-a937-4d4a-99cf-45456fdc6d8e",
   "metadata": {},
   "outputs": [],
   "source": [
    "#sns.distplot(cube[:,145])"
   ]
  },
  {
   "cell_type": "code",
   "execution_count": 36,
   "id": "fa8f43a5-5ecc-4cd4-b9c8-2d4a536c4bee",
   "metadata": {},
   "outputs": [
    {
     "data": {
      "text/plain": [
       "(6919, 318)"
      ]
     },
     "execution_count": 36,
     "metadata": {},
     "output_type": "execute_result"
    }
   ],
   "source": [
    "cube.shape"
   ]
  },
  {
   "cell_type": "code",
   "execution_count": 37,
   "id": "b96dba92-0da0-4c75-bc47-bd92dfbf33b0",
   "metadata": {},
   "outputs": [
    {
     "data": {
      "text/plain": [
       "(6919, 318)"
      ]
     },
     "execution_count": 37,
     "metadata": {},
     "output_type": "execute_result"
    }
   ],
   "source": [
    "i = 0\n",
    "cube = np.array([norml2(cube[:,i]) for i in range(cube.shape[1])])\n",
    "cube = np.transpose(cube,[1,0])\n",
    "cube.shape\n"
   ]
  },
  {
   "cell_type": "code",
   "execution_count": 38,
   "id": "896aedeb-4dde-42a4-9282-06376b41b85d",
   "metadata": {},
   "outputs": [
    {
     "data": {
      "text/plain": [
       "0"
      ]
     },
     "execution_count": 38,
     "metadata": {},
     "output_type": "execute_result"
    }
   ],
   "source": [
    "cube[np.isnan(cube)] = 0\n",
    "np.sum(np.isnan(cube))"
   ]
  },
  {
   "cell_type": "code",
   "execution_count": 39,
   "id": "853f78af-7600-4d76-a283-64b03d90bc35",
   "metadata": {},
   "outputs": [
    {
     "data": {
      "text/plain": [
       "2200242"
      ]
     },
     "execution_count": 39,
     "metadata": {},
     "output_type": "execute_result"
    }
   ],
   "source": [
    "np.prod(cube.shape)"
   ]
  },
  {
   "cell_type": "code",
   "execution_count": 40,
   "id": "0565ac5d-45f7-4437-b1af-b0ad215f5b06",
   "metadata": {},
   "outputs": [
    {
     "data": {
      "text/plain": [
       "0"
      ]
     },
     "execution_count": 40,
     "metadata": {},
     "output_type": "execute_result"
    }
   ],
   "source": [
    "np.sum(np.isinf(cube))"
   ]
  },
  {
   "cell_type": "code",
   "execution_count": 41,
   "id": "a48a5f57-d903-4631-8453-ff3dcc6d0ef2",
   "metadata": {},
   "outputs": [
    {
     "data": {
      "text/plain": [
       "275"
      ]
     },
     "execution_count": 41,
     "metadata": {},
     "output_type": "execute_result"
    }
   ],
   "source": [
    "25*11"
   ]
  },
  {
   "cell_type": "code",
   "execution_count": 42,
   "id": "086b0f5e-4df0-401c-bc0e-fcc850fa2ece",
   "metadata": {},
   "outputs": [],
   "source": [
    "#cube = np.transpose(np.array([norml(cube[:,i,:,:]) for i in range(cube.shape[1])]),[1,0,2,3])"
   ]
  },
  {
   "cell_type": "code",
   "execution_count": 43,
   "id": "5e7122ac-2998-488e-840c-444d67d1b3d3",
   "metadata": {},
   "outputs": [],
   "source": [
    "event_ids = np.array(keys[1][\"event_id\"])[np.array(keys[0][\"level1_key\"])]"
   ]
  },
  {
   "cell_type": "code",
   "execution_count": 44,
   "id": "edbebe7f-57eb-47c6-9fbf-536bce676f2f",
   "metadata": {},
   "outputs": [
    {
     "data": {
      "text/plain": [
       "6919"
      ]
     },
     "execution_count": 44,
     "metadata": {},
     "output_type": "execute_result"
    }
   ],
   "source": [
    "len(dp.flatten(keys[1][\"full_flag_now\"]))"
   ]
  },
  {
   "cell_type": "code",
   "execution_count": 45,
   "id": "b0be7d05-0c12-4269-b867-f2693c470d86",
   "metadata": {},
   "outputs": [
    {
     "data": {
      "text/plain": [
       "6919"
      ]
     },
     "execution_count": 45,
     "metadata": {},
     "output_type": "execute_result"
    }
   ],
   "source": [
    "len(dp.flatten(keys[1][\"flag_then\"]))"
   ]
  },
  {
   "cell_type": "code",
   "execution_count": 46,
   "id": "993be7e7-8550-46a5-946d-e3ab70c0d2d5",
   "metadata": {},
   "outputs": [],
   "source": [
    "repos = \"../data/\"\n",
    "file = \"wildfires.pkl\"\n",
    "wildfires = pickle5.load( open( repos+file, \"rb\" ) )\n",
    "wildfires.loc[pd.isnull(wildfires.wildfire_id),\"wildfire_id\"] = wildfires.loc[pd.isnull(wildfires.wildfire_id),\"pyroCb_id\"]"
   ]
  },
  {
   "cell_type": "code",
   "execution_count": 47,
   "id": "fb186e74-e91d-4ec5-aae8-af5b7f148919",
   "metadata": {},
   "outputs": [
    {
     "data": {
      "text/html": [
       "<div>\n",
       "<style scoped>\n",
       "    .dataframe tbody tr th:only-of-type {\n",
       "        vertical-align: middle;\n",
       "    }\n",
       "\n",
       "    .dataframe tbody tr th {\n",
       "        vertical-align: top;\n",
       "    }\n",
       "\n",
       "    .dataframe thead th {\n",
       "        text-align: right;\n",
       "    }\n",
       "</style>\n",
       "<table border=\"1\" class=\"dataframe\">\n",
       "  <thead>\n",
       "    <tr style=\"text-align: right;\">\n",
       "      <th></th>\n",
       "      <th>pyroCb_id</th>\n",
       "      <th>pyroCb_date_utc</th>\n",
       "      <th>pyroCb_time_utc</th>\n",
       "      <th>pyroCb_longitude</th>\n",
       "      <th>pyroCb_latitude</th>\n",
       "      <th>country</th>\n",
       "      <th>region</th>\n",
       "      <th>satellite</th>\n",
       "      <th>wildfire_id</th>\n",
       "      <th>wildfire_ini_date_utc</th>\n",
       "      <th>wildfire_end_date_utc</th>\n",
       "      <th>length_days</th>\n",
       "      <th>wildfire_centroid_longitude</th>\n",
       "      <th>wildfire_centroid_latitude</th>\n",
       "      <th>extract_longitude</th>\n",
       "      <th>extract_latitude</th>\n",
       "      <th>extract_ini_date_utc</th>\n",
       "      <th>extract_end_date_utc</th>\n",
       "      <th>time_zone</th>\n",
       "      <th>length_fire</th>\n",
       "    </tr>\n",
       "  </thead>\n",
       "  <tbody>\n",
       "    <tr>\n",
       "      <th>0</th>\n",
       "      <td>260</td>\n",
       "      <td>2022-06-11</td>\n",
       "      <td>2300.0</td>\n",
       "      <td>-155.6</td>\n",
       "      <td>63.3</td>\n",
       "      <td>US</td>\n",
       "      <td>Alaska</td>\n",
       "      <td>GOES</td>\n",
       "      <td>260</td>\n",
       "      <td>NaT</td>\n",
       "      <td>NaT</td>\n",
       "      <td>None</td>\n",
       "      <td>NaN</td>\n",
       "      <td>NaN</td>\n",
       "      <td>-155.600000</td>\n",
       "      <td>63.30000</td>\n",
       "      <td>2022-06-08 08:00:00+00:00</td>\n",
       "      <td>2022-06-14 08:00:00+00:00</td>\n",
       "      <td>America/Anchorage</td>\n",
       "      <td>6</td>\n",
       "    </tr>\n",
       "    <tr>\n",
       "      <th>1</th>\n",
       "      <td>258</td>\n",
       "      <td>2022-06-12</td>\n",
       "      <td>300.0</td>\n",
       "      <td>-153.4</td>\n",
       "      <td>63.8</td>\n",
       "      <td>US</td>\n",
       "      <td>Alaska</td>\n",
       "      <td>GOES</td>\n",
       "      <td>258</td>\n",
       "      <td>NaT</td>\n",
       "      <td>NaT</td>\n",
       "      <td>None</td>\n",
       "      <td>NaN</td>\n",
       "      <td>NaN</td>\n",
       "      <td>-153.400000</td>\n",
       "      <td>63.80000</td>\n",
       "      <td>2022-06-09 08:00:00+00:00</td>\n",
       "      <td>2022-06-15 08:00:00+00:00</td>\n",
       "      <td>America/Anchorage</td>\n",
       "      <td>6</td>\n",
       "    </tr>\n",
       "    <tr>\n",
       "      <th>2</th>\n",
       "      <td>265</td>\n",
       "      <td>2022-07-02</td>\n",
       "      <td>550.0</td>\n",
       "      <td>-149.7</td>\n",
       "      <td>65.5</td>\n",
       "      <td>US</td>\n",
       "      <td>Alaska</td>\n",
       "      <td>GOES</td>\n",
       "      <td>265</td>\n",
       "      <td>NaT</td>\n",
       "      <td>NaT</td>\n",
       "      <td>None</td>\n",
       "      <td>NaN</td>\n",
       "      <td>NaN</td>\n",
       "      <td>-149.700000</td>\n",
       "      <td>65.50000</td>\n",
       "      <td>2022-06-29 08:00:00+00:00</td>\n",
       "      <td>2022-07-05 08:00:00+00:00</td>\n",
       "      <td>America/Anchorage</td>\n",
       "      <td>6</td>\n",
       "    </tr>\n",
       "    <tr>\n",
       "      <th>3</th>\n",
       "      <td>259</td>\n",
       "      <td>2020-06-08</td>\n",
       "      <td>NaN</td>\n",
       "      <td>-149.6</td>\n",
       "      <td>65.9</td>\n",
       "      <td>US</td>\n",
       "      <td>Alaska</td>\n",
       "      <td>GOES</td>\n",
       "      <td>23353806</td>\n",
       "      <td>2020-06-05</td>\n",
       "      <td>2020-06-12</td>\n",
       "      <td>7</td>\n",
       "      <td>-149.536458</td>\n",
       "      <td>65.85841</td>\n",
       "      <td>-149.536458</td>\n",
       "      <td>65.85841</td>\n",
       "      <td>2020-06-05 08:00:00+00:00</td>\n",
       "      <td>2020-06-12 08:00:00+00:00</td>\n",
       "      <td>America/Anchorage</td>\n",
       "      <td>7</td>\n",
       "    </tr>\n",
       "    <tr>\n",
       "      <th>4</th>\n",
       "      <td>266</td>\n",
       "      <td>2022-07-02</td>\n",
       "      <td>719.0</td>\n",
       "      <td>-149.5</td>\n",
       "      <td>65.6</td>\n",
       "      <td>US</td>\n",
       "      <td>Alaska</td>\n",
       "      <td>GOES</td>\n",
       "      <td>266</td>\n",
       "      <td>NaT</td>\n",
       "      <td>NaT</td>\n",
       "      <td>None</td>\n",
       "      <td>NaN</td>\n",
       "      <td>NaN</td>\n",
       "      <td>-149.500000</td>\n",
       "      <td>65.60000</td>\n",
       "      <td>2022-06-29 08:00:00+00:00</td>\n",
       "      <td>2022-07-05 08:00:00+00:00</td>\n",
       "      <td>America/Anchorage</td>\n",
       "      <td>6</td>\n",
       "    </tr>\n",
       "  </tbody>\n",
       "</table>\n",
       "</div>"
      ],
      "text/plain": [
       "   pyroCb_id pyroCb_date_utc  pyroCb_time_utc  pyroCb_longitude  \\\n",
       "0        260      2022-06-11           2300.0            -155.6   \n",
       "1        258      2022-06-12            300.0            -153.4   \n",
       "2        265      2022-07-02            550.0            -149.7   \n",
       "3        259      2020-06-08              NaN            -149.6   \n",
       "4        266      2022-07-02            719.0            -149.5   \n",
       "\n",
       "   pyroCb_latitude country  region satellite wildfire_id  \\\n",
       "0             63.3      US  Alaska      GOES         260   \n",
       "1             63.8      US  Alaska      GOES         258   \n",
       "2             65.5      US  Alaska      GOES         265   \n",
       "3             65.9      US  Alaska      GOES    23353806   \n",
       "4             65.6      US  Alaska      GOES         266   \n",
       "\n",
       "  wildfire_ini_date_utc wildfire_end_date_utc length_days  \\\n",
       "0                   NaT                   NaT        None   \n",
       "1                   NaT                   NaT        None   \n",
       "2                   NaT                   NaT        None   \n",
       "3            2020-06-05            2020-06-12           7   \n",
       "4                   NaT                   NaT        None   \n",
       "\n",
       "   wildfire_centroid_longitude  wildfire_centroid_latitude  extract_longitude  \\\n",
       "0                          NaN                         NaN        -155.600000   \n",
       "1                          NaN                         NaN        -153.400000   \n",
       "2                          NaN                         NaN        -149.700000   \n",
       "3                  -149.536458                    65.85841        -149.536458   \n",
       "4                          NaN                         NaN        -149.500000   \n",
       "\n",
       "   extract_latitude      extract_ini_date_utc      extract_end_date_utc  \\\n",
       "0          63.30000 2022-06-08 08:00:00+00:00 2022-06-14 08:00:00+00:00   \n",
       "1          63.80000 2022-06-09 08:00:00+00:00 2022-06-15 08:00:00+00:00   \n",
       "2          65.50000 2022-06-29 08:00:00+00:00 2022-07-05 08:00:00+00:00   \n",
       "3          65.85841 2020-06-05 08:00:00+00:00 2020-06-12 08:00:00+00:00   \n",
       "4          65.60000 2022-06-29 08:00:00+00:00 2022-07-05 08:00:00+00:00   \n",
       "\n",
       "           time_zone  length_fire  \n",
       "0  America/Anchorage            6  \n",
       "1  America/Anchorage            6  \n",
       "2  America/Anchorage            6  \n",
       "3  America/Anchorage            7  \n",
       "4  America/Anchorage            6  "
      ]
     },
     "execution_count": 47,
     "metadata": {},
     "output_type": "execute_result"
    }
   ],
   "source": [
    "wildfires.head()"
   ]
  },
  {
   "cell_type": "code",
   "execution_count": 48,
   "id": "7f84bd41-078e-43c4-9b33-9e3af2c2e00d",
   "metadata": {},
   "outputs": [],
   "source": [
    "pyrocb_id = [int(ei.split(\"_\")[0]) for ei in event_ids.tolist()]"
   ]
  },
  {
   "cell_type": "code",
   "execution_count": 49,
   "id": "2ad1d840-4306-4f68-825e-03a03ce0d6d2",
   "metadata": {},
   "outputs": [
    {
     "data": {
      "text/html": [
       "<div>\n",
       "<style scoped>\n",
       "    .dataframe tbody tr th:only-of-type {\n",
       "        vertical-align: middle;\n",
       "    }\n",
       "\n",
       "    .dataframe tbody tr th {\n",
       "        vertical-align: top;\n",
       "    }\n",
       "\n",
       "    .dataframe thead th {\n",
       "        text-align: right;\n",
       "    }\n",
       "</style>\n",
       "<table border=\"1\" class=\"dataframe\">\n",
       "  <thead>\n",
       "    <tr style=\"text-align: right;\">\n",
       "      <th></th>\n",
       "      <th>pyrocb_id</th>\n",
       "      <th>event_id</th>\n",
       "      <th>full_flag_now</th>\n",
       "      <th>flag_then</th>\n",
       "    </tr>\n",
       "  </thead>\n",
       "  <tbody>\n",
       "    <tr>\n",
       "      <th>0</th>\n",
       "      <td>114</td>\n",
       "      <td>114_28</td>\n",
       "      <td>3</td>\n",
       "      <td>True</td>\n",
       "    </tr>\n",
       "    <tr>\n",
       "      <th>1</th>\n",
       "      <td>114</td>\n",
       "      <td>114_28</td>\n",
       "      <td>3</td>\n",
       "      <td>True</td>\n",
       "    </tr>\n",
       "    <tr>\n",
       "      <th>2</th>\n",
       "      <td>114</td>\n",
       "      <td>114_28</td>\n",
       "      <td>4</td>\n",
       "      <td>False</td>\n",
       "    </tr>\n",
       "    <tr>\n",
       "      <th>3</th>\n",
       "      <td>114</td>\n",
       "      <td>114_28</td>\n",
       "      <td>3</td>\n",
       "      <td>False</td>\n",
       "    </tr>\n",
       "    <tr>\n",
       "      <th>4</th>\n",
       "      <td>114</td>\n",
       "      <td>114_28</td>\n",
       "      <td>3</td>\n",
       "      <td>True</td>\n",
       "    </tr>\n",
       "  </tbody>\n",
       "</table>\n",
       "</div>"
      ],
      "text/plain": [
       "   pyrocb_id event_id  full_flag_now  flag_then\n",
       "0        114   114_28              3       True\n",
       "1        114   114_28              3       True\n",
       "2        114   114_28              4      False\n",
       "3        114   114_28              3      False\n",
       "4        114   114_28              3       True"
      ]
     },
     "execution_count": 49,
     "metadata": {},
     "output_type": "execute_result"
    }
   ],
   "source": [
    "event_df = pd.DataFrame({\"pyrocb_id\":pyrocb_id, \"event_id\":event_ids, \"full_flag_now\":dp.flatten(keys[1][\"full_flag_now\"]), \"flag_then\":dp.flatten(keys[1][\"flag_then\"])})\n",
    "event_df.head()"
   ]
  },
  {
   "cell_type": "code",
   "execution_count": 50,
   "id": "2f8eabcf-7a3a-46fd-ac3e-0befb0a9820e",
   "metadata": {},
   "outputs": [
    {
     "data": {
      "text/plain": [
       "(6919, 6)"
      ]
     },
     "execution_count": 50,
     "metadata": {},
     "output_type": "execute_result"
    }
   ],
   "source": [
    "event_df = event_df.merge(wildfires[[\"pyroCb_id\",\"wildfire_id\"]], how=\"left\", left_on=\"pyrocb_id\", right_on=\"pyroCb_id\")\n",
    "event_df.shape"
   ]
  },
  {
   "cell_type": "code",
   "execution_count": 51,
   "id": "ed551f11-5569-42a2-8225-96a0940135f8",
   "metadata": {},
   "outputs": [
    {
     "data": {
      "text/plain": [
       "(6919, 11)"
      ]
     },
     "execution_count": 51,
     "metadata": {},
     "output_type": "execute_result"
    }
   ],
   "source": [
    "event_df = pd.concat([event_df, pd.DataFrame(envVars,columns=[\"lon\",\"lat\",\"date\",\"year\",\"sat\"])], axis=1)\n",
    "event_df.shape"
   ]
  },
  {
   "cell_type": "code",
   "execution_count": 52,
   "id": "cdc21649-ce43-4a3f-9aea-dd35da22c134",
   "metadata": {},
   "outputs": [
    {
     "data": {
      "text/plain": [
       "(6608,)"
      ]
     },
     "execution_count": 52,
     "metadata": {},
     "output_type": "execute_result"
    }
   ],
   "source": [
    "indx, = np.where(event_df.full_flag_now<4)\n",
    "indx.shape"
   ]
  },
  {
   "cell_type": "code",
   "execution_count": 53,
   "id": "01612ecd-47d0-4329-a8fa-28f5105dd5d9",
   "metadata": {},
   "outputs": [
    {
     "data": {
      "text/plain": [
       "(6919, 318)"
      ]
     },
     "execution_count": 53,
     "metadata": {},
     "output_type": "execute_result"
    }
   ],
   "source": [
    "# exlcude pyrocbs now\n",
    "#cube = cube[indx,]\n",
    "#labels = labels[indx,]\n",
    "#envVars = envVars[indx,]\n",
    "#event_df = event_df.iloc[indx]\n",
    "cube.shape"
   ]
  },
  {
   "cell_type": "code",
   "execution_count": 54,
   "id": "b0ced2fd-a173-41f3-b8f7-aff6c9182f32",
   "metadata": {},
   "outputs": [
    {
     "data": {
      "text/plain": [
       "(83, 11)"
      ]
     },
     "execution_count": 54,
     "metadata": {},
     "output_type": "execute_result"
    }
   ],
   "source": [
    "seg_base = event_df.drop_duplicates('wildfire_id')\n",
    "seg_base.shape"
   ]
  },
  {
   "cell_type": "code",
   "execution_count": 55,
   "id": "bfa8b8ba-30c7-45d9-8c7c-ccd51e2dc535",
   "metadata": {},
   "outputs": [
    {
     "data": {
      "text/html": [
       "<div>\n",
       "<style scoped>\n",
       "    .dataframe tbody tr th:only-of-type {\n",
       "        vertical-align: middle;\n",
       "    }\n",
       "\n",
       "    .dataframe tbody tr th {\n",
       "        vertical-align: top;\n",
       "    }\n",
       "\n",
       "    .dataframe thead th {\n",
       "        text-align: right;\n",
       "    }\n",
       "</style>\n",
       "<table border=\"1\" class=\"dataframe\">\n",
       "  <thead>\n",
       "    <tr style=\"text-align: right;\">\n",
       "      <th></th>\n",
       "      <th>pyrocb_id</th>\n",
       "    </tr>\n",
       "    <tr>\n",
       "      <th>sat</th>\n",
       "      <th></th>\n",
       "    </tr>\n",
       "  </thead>\n",
       "  <tbody>\n",
       "    <tr>\n",
       "      <th>0.0</th>\n",
       "      <td>31</td>\n",
       "    </tr>\n",
       "    <tr>\n",
       "      <th>1.0</th>\n",
       "      <td>52</td>\n",
       "    </tr>\n",
       "  </tbody>\n",
       "</table>\n",
       "</div>"
      ],
      "text/plain": [
       "     pyrocb_id\n",
       "sat           \n",
       "0.0         31\n",
       "1.0         52"
      ]
     },
     "execution_count": 55,
     "metadata": {},
     "output_type": "execute_result"
    }
   ],
   "source": [
    "# GOES = 1, HIMAWARI = 0\n",
    "seg_base[[\"pyrocb_id\",\"sat\"]].groupby([\"sat\"]).count()"
   ]
  },
  {
   "cell_type": "code",
   "execution_count": 56,
   "id": "5427a1e0-a804-4573-b9dd-c2aed3edcbe4",
   "metadata": {},
   "outputs": [
    {
     "data": {
      "text/html": [
       "<div>\n",
       "<style scoped>\n",
       "    .dataframe tbody tr th:only-of-type {\n",
       "        vertical-align: middle;\n",
       "    }\n",
       "\n",
       "    .dataframe tbody tr th {\n",
       "        vertical-align: top;\n",
       "    }\n",
       "\n",
       "    .dataframe thead th {\n",
       "        text-align: right;\n",
       "    }\n",
       "</style>\n",
       "<table border=\"1\" class=\"dataframe\">\n",
       "  <thead>\n",
       "    <tr style=\"text-align: right;\">\n",
       "      <th></th>\n",
       "      <th></th>\n",
       "      <th>pyrocb_id</th>\n",
       "    </tr>\n",
       "    <tr>\n",
       "      <th>sat</th>\n",
       "      <th>year</th>\n",
       "      <th></th>\n",
       "    </tr>\n",
       "  </thead>\n",
       "  <tbody>\n",
       "    <tr>\n",
       "      <th rowspan=\"3\" valign=\"top\">0.0</th>\n",
       "      <th>2019.0</th>\n",
       "      <td>24</td>\n",
       "    </tr>\n",
       "    <tr>\n",
       "      <th>2020.0</th>\n",
       "      <td>4</td>\n",
       "    </tr>\n",
       "    <tr>\n",
       "      <th>2021.0</th>\n",
       "      <td>3</td>\n",
       "    </tr>\n",
       "    <tr>\n",
       "      <th rowspan=\"2\" valign=\"top\">1.0</th>\n",
       "      <th>2018.0</th>\n",
       "      <td>5</td>\n",
       "    </tr>\n",
       "    <tr>\n",
       "      <th>2021.0</th>\n",
       "      <td>47</td>\n",
       "    </tr>\n",
       "  </tbody>\n",
       "</table>\n",
       "</div>"
      ],
      "text/plain": [
       "            pyrocb_id\n",
       "sat year             \n",
       "0.0 2019.0         24\n",
       "    2020.0          4\n",
       "    2021.0          3\n",
       "1.0 2018.0          5\n",
       "    2021.0         47"
      ]
     },
     "execution_count": 56,
     "metadata": {},
     "output_type": "execute_result"
    }
   ],
   "source": [
    "# GOES = 1, HIMAWARI = 0\n",
    "seg_base[[\"pyrocb_id\",\"sat\",\"year\"]].groupby([\"sat\",\"year\"]).count()"
   ]
  },
  {
   "cell_type": "code",
   "execution_count": 57,
   "id": "ab2707a9-ad7d-43dd-8b3f-1a1227e53b2e",
   "metadata": {},
   "outputs": [
    {
     "data": {
      "text/html": [
       "<div>\n",
       "<style scoped>\n",
       "    .dataframe tbody tr th:only-of-type {\n",
       "        vertical-align: middle;\n",
       "    }\n",
       "\n",
       "    .dataframe tbody tr th {\n",
       "        vertical-align: top;\n",
       "    }\n",
       "\n",
       "    .dataframe thead th {\n",
       "        text-align: right;\n",
       "    }\n",
       "</style>\n",
       "<table border=\"1\" class=\"dataframe\">\n",
       "  <thead>\n",
       "    <tr style=\"text-align: right;\">\n",
       "      <th></th>\n",
       "      <th>sat</th>\n",
       "      <th>lon</th>\n",
       "      <th>lat</th>\n",
       "      <th>date</th>\n",
       "    </tr>\n",
       "  </thead>\n",
       "  <tbody>\n",
       "    <tr>\n",
       "      <th>0</th>\n",
       "      <td>0.0</td>\n",
       "      <td>151.985555</td>\n",
       "      <td>-31.589875</td>\n",
       "      <td>2019.912329</td>\n",
       "    </tr>\n",
       "    <tr>\n",
       "      <th>6</th>\n",
       "      <td>0.0</td>\n",
       "      <td>151.956344</td>\n",
       "      <td>-32.318750</td>\n",
       "      <td>2019.890411</td>\n",
       "    </tr>\n",
       "    <tr>\n",
       "      <th>11</th>\n",
       "      <td>0.0</td>\n",
       "      <td>123.520000</td>\n",
       "      <td>-32.050000</td>\n",
       "      <td>2021.063014</td>\n",
       "    </tr>\n",
       "    <tr>\n",
       "      <th>17</th>\n",
       "      <td>0.0</td>\n",
       "      <td>150.218571</td>\n",
       "      <td>-35.233573</td>\n",
       "      <td>2020.013699</td>\n",
       "    </tr>\n",
       "    <tr>\n",
       "      <th>23</th>\n",
       "      <td>1.0</td>\n",
       "      <td>-119.806857</td>\n",
       "      <td>37.629127</td>\n",
       "      <td>2018.539726</td>\n",
       "    </tr>\n",
       "  </tbody>\n",
       "</table>\n",
       "</div>"
      ],
      "text/plain": [
       "    sat         lon        lat         date\n",
       "0   0.0  151.985555 -31.589875  2019.912329\n",
       "6   0.0  151.956344 -32.318750  2019.890411\n",
       "11  0.0  123.520000 -32.050000  2021.063014\n",
       "17  0.0  150.218571 -35.233573  2020.013699\n",
       "23  1.0 -119.806857  37.629127  2018.539726"
      ]
     },
     "execution_count": 57,
     "metadata": {},
     "output_type": "execute_result"
    }
   ],
   "source": [
    "seg_base[[\"sat\",\"lon\",\"lat\",\"date\"]].head()"
   ]
  },
  {
   "cell_type": "code",
   "execution_count": null,
   "id": "99cf787a-1b77-4d20-bb29-3e0e3cc71374",
   "metadata": {},
   "outputs": [],
   "source": []
  },
  {
   "cell_type": "code",
   "execution_count": 58,
   "id": "91822963-3af8-4cab-a0f0-e3d8da9817ac",
   "metadata": {},
   "outputs": [],
   "source": [
    "def stdze(x):\n",
    "    return (x-np.mean(x))/np.std(x)"
   ]
  },
  {
   "cell_type": "code",
   "execution_count": 59,
   "id": "06760868-e18d-4c27-b6eb-a148a0011ccd",
   "metadata": {},
   "outputs": [],
   "source": [
    "def addCluster(seg_base, num_clusters,seed):\n",
    "    np.random.seed(seed=seed)\n",
    "    rnds = np.floor(np.arange(0,seg_base.shape[0])/17).astype(int)\n",
    "    #seg_base2 = seg_base[[\"sat\",\"lon\",\"lat\",\"date\"]].to_numpy()\n",
    "    seg_base2 = seg_base[[\"sat\",\"lon\",\"lat\"]].to_numpy()\n",
    "    seg_base2 = np.array([stdze(seg_base2[:,i]) for i in range(seg_base2.shape[1])]).T\n",
    "    N = seg_base2.shape[0]\n",
    "    cluster_size = N//num_clusters\n",
    "    print(\"cluster size: \", cluster_size)\n",
    "    labs = -1*np.ones(N)\n",
    "    kmeans = KMeans(n_clusters=num_clusters, random_state=0).fit(seg_base2)\n",
    "    grps = kmeans.labels_\n",
    "    ids, cnt = np.unique(grps, return_counts=True)\n",
    "    print(pd.DataFrame({\"cluster\":ids,\"count\":cnt}))\n",
    "    o = np.argsort(cnt)\n",
    "    DistMat = kmeans.fit_transform(seg_base2)\n",
    "    \n",
    "    # initialize\n",
    "    indx_obs = np.arange(seg_base2.shape[0]).tolist()\n",
    "    indx_cluster = ids[o][::-1].tolist()\n",
    "    \n",
    "    # loop through clusters from smallest to largest\n",
    "    for i in range(len(indx_obs)):\n",
    "        #print(\"i: \", i)\n",
    "        o2 = np.argsort(DistMat[indx_obs,indx_cluster[0]])\n",
    "        indx_lab = np.array(indx_obs)[o2[0]]\n",
    "        labs[indx_lab] = indx_cluster[0]\n",
    "        indx_cluster.pop(0)\n",
    "        if len(indx_cluster)==0:\n",
    "            indx_cluster = ids[o][::-1].tolist()\n",
    "        indx_obs = list(set(indx_obs).difference([indx_lab]))\n",
    "    \n",
    "    \n",
    "    #seg_base[\"cluster\"]=np.array(labs).astype(int)\n",
    "    seg_base[\"cluster_regional\"]=np.array(grps).astype(int)\n",
    "    seg_base[\"cluster_random\"]=np.array(rnds).astype(int)\n",
    "    return seg_base, seg_base2"
   ]
  },
  {
   "cell_type": "code",
   "execution_count": 60,
   "id": "e7e7a501-175e-4d93-9ff7-ef79f7053b77",
   "metadata": {},
   "outputs": [
    {
     "data": {
      "text/plain": [
       "{'cnt': array([0, 1, 2, 3, 4]), 'uni': array([17, 17, 17, 17, 15])}"
      ]
     },
     "execution_count": 60,
     "metadata": {},
     "output_type": "execute_result"
    }
   ],
   "source": [
    "rand = np.floor(np.arange(0,seg_base.shape[0])/17).astype(int)\n",
    "cnt, uni = np.unique(rand, return_counts=True)\n",
    "{\"cnt\":cnt, \"uni\":uni}"
   ]
  },
  {
   "cell_type": "code",
   "execution_count": 61,
   "id": "547e9c3b-42c0-4ed1-96ab-f8ae8ddd6902",
   "metadata": {},
   "outputs": [
    {
     "data": {
      "text/plain": [
       "16.6"
      ]
     },
     "execution_count": 61,
     "metadata": {},
     "output_type": "execute_result"
    }
   ],
   "source": [
    "83/5"
   ]
  },
  {
   "cell_type": "code",
   "execution_count": 62,
   "id": "a00c2930-12ab-4fa2-8507-815c25ba5540",
   "metadata": {},
   "outputs": [
    {
     "name": "stdout",
     "output_type": "stream",
     "text": [
      "cluster size:  16\n",
      "   cluster  count\n",
      "0        0     12\n",
      "1        1     20\n",
      "2        2     19\n",
      "3        3     20\n",
      "4        4     12\n"
     ]
    },
    {
     "name": "stderr",
     "output_type": "stream",
     "text": [
      "/home/emiliano/anaconda3/lib/python3.7/site-packages/ipykernel_launcher.py:35: SettingWithCopyWarning: \n",
      "A value is trying to be set on a copy of a slice from a DataFrame.\n",
      "Try using .loc[row_indexer,col_indexer] = value instead\n",
      "\n",
      "See the caveats in the documentation: https://pandas.pydata.org/pandas-docs/stable/user_guide/indexing.html#returning-a-view-versus-a-copy\n",
      "/home/emiliano/anaconda3/lib/python3.7/site-packages/ipykernel_launcher.py:36: SettingWithCopyWarning: \n",
      "A value is trying to be set on a copy of a slice from a DataFrame.\n",
      "Try using .loc[row_indexer,col_indexer] = value instead\n",
      "\n",
      "See the caveats in the documentation: https://pandas.pydata.org/pandas-docs/stable/user_guide/indexing.html#returning-a-view-versus-a-copy\n"
     ]
    }
   ],
   "source": [
    "num_clusters=5\n",
    "seed = 123456\n",
    "seg_base, X = addCluster(seg_base, num_clusters=num_clusters, seed=seed)"
   ]
  },
  {
   "cell_type": "code",
   "execution_count": 63,
   "id": "28da61ee-7ecf-495f-9932-6f9d64299eed",
   "metadata": {},
   "outputs": [
    {
     "data": {
      "text/plain": [
       "'..//results/seg_base_v0.pkl'"
      ]
     },
     "execution_count": 63,
     "metadata": {},
     "output_type": "execute_result"
    }
   ],
   "source": [
    "results_root = \"..//results/\"\n",
    "version = \"v0\"\n",
    "file = \"seg_base\"\n",
    "fileRes = results_root+file+\"_\"+version+\".pkl\" \n",
    "fileRes"
   ]
  },
  {
   "cell_type": "code",
   "execution_count": 64,
   "id": "29ee0fcc-9ec3-4eb3-943a-17dc41ea16f9",
   "metadata": {},
   "outputs": [],
   "source": [
    "with open(fileRes, 'wb') as output:  # Overwrites any existing file.\n",
    "        pickle.dump(seg_base, output, pickle.HIGHEST_PROTOCOL)\n"
   ]
  },
  {
   "cell_type": "code",
   "execution_count": 65,
   "id": "bf167f16-6180-4c71-bd25-c671ce678581",
   "metadata": {},
   "outputs": [
    {
     "data": {
      "text/html": [
       "<div>\n",
       "<style scoped>\n",
       "    .dataframe tbody tr th:only-of-type {\n",
       "        vertical-align: middle;\n",
       "    }\n",
       "\n",
       "    .dataframe tbody tr th {\n",
       "        vertical-align: top;\n",
       "    }\n",
       "\n",
       "    .dataframe thead th {\n",
       "        text-align: right;\n",
       "    }\n",
       "</style>\n",
       "<table border=\"1\" class=\"dataframe\">\n",
       "  <thead>\n",
       "    <tr style=\"text-align: right;\">\n",
       "      <th></th>\n",
       "      <th>pyrocb_id</th>\n",
       "    </tr>\n",
       "    <tr>\n",
       "      <th>cluster_random</th>\n",
       "      <th></th>\n",
       "    </tr>\n",
       "  </thead>\n",
       "  <tbody>\n",
       "    <tr>\n",
       "      <th>0</th>\n",
       "      <td>17</td>\n",
       "    </tr>\n",
       "    <tr>\n",
       "      <th>1</th>\n",
       "      <td>17</td>\n",
       "    </tr>\n",
       "    <tr>\n",
       "      <th>2</th>\n",
       "      <td>17</td>\n",
       "    </tr>\n",
       "    <tr>\n",
       "      <th>3</th>\n",
       "      <td>17</td>\n",
       "    </tr>\n",
       "    <tr>\n",
       "      <th>4</th>\n",
       "      <td>15</td>\n",
       "    </tr>\n",
       "  </tbody>\n",
       "</table>\n",
       "</div>"
      ],
      "text/plain": [
       "                pyrocb_id\n",
       "cluster_random           \n",
       "0                      17\n",
       "1                      17\n",
       "2                      17\n",
       "3                      17\n",
       "4                      15"
      ]
     },
     "execution_count": 65,
     "metadata": {},
     "output_type": "execute_result"
    }
   ],
   "source": [
    "cluster_var = \"cluster_random\"\n",
    "#cluster_var = \"cluster_regional\"\n",
    "seg_base[[\"pyrocb_id\",cluster_var]].groupby(cluster_var).count()"
   ]
  },
  {
   "cell_type": "code",
   "execution_count": 66,
   "id": "c6314867-222d-4c8c-8fa9-ffe62e3ad200",
   "metadata": {},
   "outputs": [
    {
     "data": {
      "text/plain": [
       "-0.2766629442204502"
      ]
     },
     "execution_count": 66,
     "metadata": {},
     "output_type": "execute_result"
    }
   ],
   "source": [
    "metrics.silhouette_score(X, seg_base[cluster_var], metric='euclidean')"
   ]
  },
  {
   "cell_type": "code",
   "execution_count": 67,
   "id": "24903513-fe60-493a-969e-d88dd6bff51a",
   "metadata": {},
   "outputs": [],
   "source": [
    "N = seg_base.shape[0]\n",
    "cluster_size = N//num_clusters\n",
    "\n",
    "rand_labs = np.arange(seg_base.shape[0])\n",
    "rand_labs = (rand_labs//cluster_size)%num_clusters\n",
    "indx = np.random.choice(seg_base.shape[0], size=seg_base.shape[0], replace=False)\n",
    "rand_labs = rand_labs[indx]"
   ]
  },
  {
   "cell_type": "code",
   "execution_count": 68,
   "id": "9690d3a4-10d1-4928-9402-99b927efaa98",
   "metadata": {},
   "outputs": [
    {
     "data": {
      "text/plain": [
       "-0.20740481753718246"
      ]
     },
     "execution_count": 68,
     "metadata": {},
     "output_type": "execute_result"
    }
   ],
   "source": [
    "metrics.silhouette_score(X, rand_labs, metric='euclidean')"
   ]
  },
  {
   "cell_type": "code",
   "execution_count": 69,
   "id": "61cc2f79-2829-4418-b120-ac694159d5c8",
   "metadata": {},
   "outputs": [
    {
     "data": {
      "text/html": [
       "<div>\n",
       "<style scoped>\n",
       "    .dataframe tbody tr th:only-of-type {\n",
       "        vertical-align: middle;\n",
       "    }\n",
       "\n",
       "    .dataframe tbody tr th {\n",
       "        vertical-align: top;\n",
       "    }\n",
       "\n",
       "    .dataframe thead th {\n",
       "        text-align: right;\n",
       "    }\n",
       "</style>\n",
       "<table border=\"1\" class=\"dataframe\">\n",
       "  <thead>\n",
       "    <tr style=\"text-align: right;\">\n",
       "      <th></th>\n",
       "      <th>pyrocb_id</th>\n",
       "      <th>event_id</th>\n",
       "      <th>full_flag_now</th>\n",
       "      <th>flag_then</th>\n",
       "      <th>pyroCb_id</th>\n",
       "      <th>wildfire_id</th>\n",
       "      <th>lon</th>\n",
       "      <th>lat</th>\n",
       "      <th>date</th>\n",
       "      <th>year</th>\n",
       "      <th>sat</th>\n",
       "      <th>cluster_regional</th>\n",
       "      <th>cluster_random</th>\n",
       "    </tr>\n",
       "  </thead>\n",
       "  <tbody>\n",
       "    <tr>\n",
       "      <th>0</th>\n",
       "      <td>114</td>\n",
       "      <td>114_28</td>\n",
       "      <td>3</td>\n",
       "      <td>True</td>\n",
       "      <td>114</td>\n",
       "      <td>22810288</td>\n",
       "      <td>151.985555</td>\n",
       "      <td>-31.589875</td>\n",
       "      <td>2019.912329</td>\n",
       "      <td>2019.0</td>\n",
       "      <td>0.0</td>\n",
       "      <td>2</td>\n",
       "      <td>0</td>\n",
       "    </tr>\n",
       "    <tr>\n",
       "      <th>6</th>\n",
       "      <td>171</td>\n",
       "      <td>171_8</td>\n",
       "      <td>2</td>\n",
       "      <td>False</td>\n",
       "      <td>171</td>\n",
       "      <td>22810493</td>\n",
       "      <td>151.956344</td>\n",
       "      <td>-32.318750</td>\n",
       "      <td>2019.890411</td>\n",
       "      <td>2019.0</td>\n",
       "      <td>0.0</td>\n",
       "      <td>2</td>\n",
       "      <td>0</td>\n",
       "    </tr>\n",
       "    <tr>\n",
       "      <th>11</th>\n",
       "      <td>126</td>\n",
       "      <td>126_5</td>\n",
       "      <td>1</td>\n",
       "      <td>False</td>\n",
       "      <td>126</td>\n",
       "      <td>126</td>\n",
       "      <td>123.520000</td>\n",
       "      <td>-32.050000</td>\n",
       "      <td>2021.063014</td>\n",
       "      <td>2021.0</td>\n",
       "      <td>0.0</td>\n",
       "      <td>0</td>\n",
       "      <td>0</td>\n",
       "    </tr>\n",
       "    <tr>\n",
       "      <th>17</th>\n",
       "      <td>91</td>\n",
       "      <td>91_46</td>\n",
       "      <td>3</td>\n",
       "      <td>False</td>\n",
       "      <td>91</td>\n",
       "      <td>22810914</td>\n",
       "      <td>150.218571</td>\n",
       "      <td>-35.233573</td>\n",
       "      <td>2020.013699</td>\n",
       "      <td>2020.0</td>\n",
       "      <td>0.0</td>\n",
       "      <td>2</td>\n",
       "      <td>0</td>\n",
       "    </tr>\n",
       "    <tr>\n",
       "      <th>23</th>\n",
       "      <td>163</td>\n",
       "      <td>163_5</td>\n",
       "      <td>2</td>\n",
       "      <td>True</td>\n",
       "      <td>163</td>\n",
       "      <td>21121935</td>\n",
       "      <td>-119.806857</td>\n",
       "      <td>37.629127</td>\n",
       "      <td>2018.539726</td>\n",
       "      <td>2018.0</td>\n",
       "      <td>1.0</td>\n",
       "      <td>4</td>\n",
       "      <td>0</td>\n",
       "    </tr>\n",
       "  </tbody>\n",
       "</table>\n",
       "</div>"
      ],
      "text/plain": [
       "    pyrocb_id event_id  full_flag_now  flag_then  pyroCb_id wildfire_id  \\\n",
       "0         114   114_28              3       True        114    22810288   \n",
       "6         171    171_8              2      False        171    22810493   \n",
       "11        126    126_5              1      False        126         126   \n",
       "17         91    91_46              3      False         91    22810914   \n",
       "23        163    163_5              2       True        163    21121935   \n",
       "\n",
       "           lon        lat         date    year  sat  cluster_regional  \\\n",
       "0   151.985555 -31.589875  2019.912329  2019.0  0.0                 2   \n",
       "6   151.956344 -32.318750  2019.890411  2019.0  0.0                 2   \n",
       "11  123.520000 -32.050000  2021.063014  2021.0  0.0                 0   \n",
       "17  150.218571 -35.233573  2020.013699  2020.0  0.0                 2   \n",
       "23 -119.806857  37.629127  2018.539726  2018.0  1.0                 4   \n",
       "\n",
       "    cluster_random  \n",
       "0                0  \n",
       "6                0  \n",
       "11               0  \n",
       "17               0  \n",
       "23               0  "
      ]
     },
     "execution_count": 69,
     "metadata": {},
     "output_type": "execute_result"
    }
   ],
   "source": [
    "seg_base.head()"
   ]
  },
  {
   "cell_type": "code",
   "execution_count": 70,
   "id": "4edf5592-80b4-4e4a-b9ae-724f4b3b395d",
   "metadata": {},
   "outputs": [
    {
     "data": {
      "text/plain": [
       "'/home/jupyter/ML_ready/results/cluster_random_clustering.png'"
      ]
     },
     "execution_count": 70,
     "metadata": {},
     "output_type": "execute_result"
    }
   ],
   "source": [
    "results_root = \"/home/jupyter/ML_ready/results/\"\n",
    "typee = cluster_var\n",
    "fileRes = results_root+typee+\"_clustering.png\"\n",
    "fileRes"
   ]
  },
  {
   "cell_type": "code",
   "execution_count": 71,
   "id": "1ee4ab64-cf7e-4d56-ad92-859e360dea0b",
   "metadata": {},
   "outputs": [
    {
     "data": {
      "text/plain": [
       "<matplotlib.legend.Legend at 0x7ff178c7c590>"
      ]
     },
     "execution_count": 71,
     "metadata": {},
     "output_type": "execute_result"
    },
    {
     "data": {
      "image/png": "[encoded data removed]",
      "text/plain": [
       "<Figure size 432x432 with 2 Axes>"
      ]
     },
     "metadata": {
      "needs_background": "light"
     },
     "output_type": "display_data"
    }
   ],
   "source": [
    "i = 0\n",
    "fig, ax = plt.subplots(1, 2, figsize=(6, 6))  # setup the plot\n",
    "for i in np.unique(seg_base[cluster_var]):\n",
    "    scat1 = ax[0].scatter(seg_base.loc[seg_base[cluster_var]==i][\"lon\"], seg_base.loc[seg_base[cluster_var]==i][\"lat\"], label=i)#, s=date_norm\n",
    "    scat1 = ax[1].scatter(seg_base.loc[seg_base[cluster_var]==i][\"lon\"], seg_base.loc[seg_base[cluster_var]==i][\"lat\"], label=i)\n",
    "ax[0].set_xlim([np.min(seg_base[\"lon\"])-2, -100])\n",
    "ax[0].set_ylim([30,np.max(seg_base[\"lat\"])+2])\n",
    "\n",
    "ax[1].set_xlim([115,np.max(seg_base[\"lon\"])+1])\n",
    "ax[1].set_ylim([np.min(seg_base[\"lat\"])-2, -10])\n",
    "\n",
    "\n",
    "fig.text(0.5, 0.04, 'longitude', ha='center')\n",
    "fig.text(0.04, 0.5, 'latitude', va='center', rotation='vertical')\n",
    "\n",
    "\n",
    "\n",
    "ax[0].set_title('North America')\n",
    "ax[1].set_title('Australia')\n",
    "ax[1].legend(bbox_to_anchor=(1.32, 1.0))\n",
    "#plt.savefig(fileRes, format='png', dpi=300)\n"
   ]
  },
  {
   "cell_type": "code",
   "execution_count": 72,
   "id": "cee6332b-2dc0-4ece-b5a6-484558693441",
   "metadata": {},
   "outputs": [],
   "source": [
    "event_df = event_df.merge(seg_base[[\"wildfire_id\",\"cluster_regional\",\"cluster_random\"]], how=\"left\",on=\"wildfire_id\")"
   ]
  },
  {
   "cell_type": "code",
   "execution_count": 73,
   "id": "46d22e6e-1adc-435a-97a9-749b73c60afa",
   "metadata": {},
   "outputs": [
    {
     "data": {
      "text/html": [
       "<div>\n",
       "<style scoped>\n",
       "    .dataframe tbody tr th:only-of-type {\n",
       "        vertical-align: middle;\n",
       "    }\n",
       "\n",
       "    .dataframe tbody tr th {\n",
       "        vertical-align: top;\n",
       "    }\n",
       "\n",
       "    .dataframe thead th {\n",
       "        text-align: right;\n",
       "    }\n",
       "</style>\n",
       "<table border=\"1\" class=\"dataframe\">\n",
       "  <thead>\n",
       "    <tr style=\"text-align: right;\">\n",
       "      <th></th>\n",
       "      <th>pyrocb_id</th>\n",
       "      <th>event_id</th>\n",
       "      <th>full_flag_now</th>\n",
       "      <th>flag_then</th>\n",
       "      <th>pyroCb_id</th>\n",
       "      <th>wildfire_id</th>\n",
       "      <th>lon</th>\n",
       "      <th>lat</th>\n",
       "      <th>date</th>\n",
       "      <th>year</th>\n",
       "      <th>sat</th>\n",
       "      <th>cluster_regional</th>\n",
       "      <th>cluster_random</th>\n",
       "    </tr>\n",
       "  </thead>\n",
       "  <tbody>\n",
       "    <tr>\n",
       "      <th>0</th>\n",
       "      <td>114</td>\n",
       "      <td>114_28</td>\n",
       "      <td>3</td>\n",
       "      <td>True</td>\n",
       "      <td>114</td>\n",
       "      <td>22810288</td>\n",
       "      <td>151.985555</td>\n",
       "      <td>-31.589875</td>\n",
       "      <td>2019.912329</td>\n",
       "      <td>2019.0</td>\n",
       "      <td>0.0</td>\n",
       "      <td>2</td>\n",
       "      <td>0</td>\n",
       "    </tr>\n",
       "    <tr>\n",
       "      <th>1</th>\n",
       "      <td>114</td>\n",
       "      <td>114_28</td>\n",
       "      <td>3</td>\n",
       "      <td>True</td>\n",
       "      <td>114</td>\n",
       "      <td>22810288</td>\n",
       "      <td>151.985555</td>\n",
       "      <td>-31.589875</td>\n",
       "      <td>2019.912329</td>\n",
       "      <td>2019.0</td>\n",
       "      <td>0.0</td>\n",
       "      <td>2</td>\n",
       "      <td>0</td>\n",
       "    </tr>\n",
       "    <tr>\n",
       "      <th>2</th>\n",
       "      <td>114</td>\n",
       "      <td>114_28</td>\n",
       "      <td>4</td>\n",
       "      <td>False</td>\n",
       "      <td>114</td>\n",
       "      <td>22810288</td>\n",
       "      <td>151.985555</td>\n",
       "      <td>-31.589875</td>\n",
       "      <td>2019.912329</td>\n",
       "      <td>2019.0</td>\n",
       "      <td>0.0</td>\n",
       "      <td>2</td>\n",
       "      <td>0</td>\n",
       "    </tr>\n",
       "    <tr>\n",
       "      <th>3</th>\n",
       "      <td>114</td>\n",
       "      <td>114_28</td>\n",
       "      <td>3</td>\n",
       "      <td>False</td>\n",
       "      <td>114</td>\n",
       "      <td>22810288</td>\n",
       "      <td>151.985555</td>\n",
       "      <td>-31.589875</td>\n",
       "      <td>2019.912329</td>\n",
       "      <td>2019.0</td>\n",
       "      <td>0.0</td>\n",
       "      <td>2</td>\n",
       "      <td>0</td>\n",
       "    </tr>\n",
       "    <tr>\n",
       "      <th>4</th>\n",
       "      <td>114</td>\n",
       "      <td>114_28</td>\n",
       "      <td>3</td>\n",
       "      <td>True</td>\n",
       "      <td>114</td>\n",
       "      <td>22810288</td>\n",
       "      <td>151.985555</td>\n",
       "      <td>-31.589875</td>\n",
       "      <td>2019.915068</td>\n",
       "      <td>2019.0</td>\n",
       "      <td>0.0</td>\n",
       "      <td>2</td>\n",
       "      <td>0</td>\n",
       "    </tr>\n",
       "  </tbody>\n",
       "</table>\n",
       "</div>"
      ],
      "text/plain": [
       "   pyrocb_id event_id  full_flag_now  flag_then  pyroCb_id wildfire_id  \\\n",
       "0        114   114_28              3       True        114    22810288   \n",
       "1        114   114_28              3       True        114    22810288   \n",
       "2        114   114_28              4      False        114    22810288   \n",
       "3        114   114_28              3      False        114    22810288   \n",
       "4        114   114_28              3       True        114    22810288   \n",
       "\n",
       "          lon        lat         date    year  sat  cluster_regional  \\\n",
       "0  151.985555 -31.589875  2019.912329  2019.0  0.0                 2   \n",
       "1  151.985555 -31.589875  2019.912329  2019.0  0.0                 2   \n",
       "2  151.985555 -31.589875  2019.912329  2019.0  0.0                 2   \n",
       "3  151.985555 -31.589875  2019.912329  2019.0  0.0                 2   \n",
       "4  151.985555 -31.589875  2019.915068  2019.0  0.0                 2   \n",
       "\n",
       "   cluster_random  \n",
       "0               0  \n",
       "1               0  \n",
       "2               0  \n",
       "3               0  \n",
       "4               0  "
      ]
     },
     "execution_count": 73,
     "metadata": {},
     "output_type": "execute_result"
    }
   ],
   "source": [
    "event_df.head()"
   ]
  },
  {
   "cell_type": "code",
   "execution_count": 74,
   "id": "c1fbf629-7fe2-488e-bf07-5f43c99a4a50",
   "metadata": {},
   "outputs": [
    {
     "data": {
      "text/html": [
       "<div>\n",
       "<style scoped>\n",
       "    .dataframe tbody tr th:only-of-type {\n",
       "        vertical-align: middle;\n",
       "    }\n",
       "\n",
       "    .dataframe tbody tr th {\n",
       "        vertical-align: top;\n",
       "    }\n",
       "\n",
       "    .dataframe thead th {\n",
       "        text-align: right;\n",
       "    }\n",
       "</style>\n",
       "<table border=\"1\" class=\"dataframe\">\n",
       "  <thead>\n",
       "    <tr style=\"text-align: right;\">\n",
       "      <th></th>\n",
       "      <th>pyrocb_id</th>\n",
       "    </tr>\n",
       "    <tr>\n",
       "      <th>cluster_random</th>\n",
       "      <th></th>\n",
       "    </tr>\n",
       "  </thead>\n",
       "  <tbody>\n",
       "    <tr>\n",
       "      <th>0</th>\n",
       "      <td>2751</td>\n",
       "    </tr>\n",
       "    <tr>\n",
       "      <th>1</th>\n",
       "      <td>1963</td>\n",
       "    </tr>\n",
       "    <tr>\n",
       "      <th>2</th>\n",
       "      <td>1380</td>\n",
       "    </tr>\n",
       "    <tr>\n",
       "      <th>3</th>\n",
       "      <td>495</td>\n",
       "    </tr>\n",
       "    <tr>\n",
       "      <th>4</th>\n",
       "      <td>330</td>\n",
       "    </tr>\n",
       "  </tbody>\n",
       "</table>\n",
       "</div>"
      ],
      "text/plain": [
       "                pyrocb_id\n",
       "cluster_random           \n",
       "0                    2751\n",
       "1                    1963\n",
       "2                    1380\n",
       "3                     495\n",
       "4                     330"
      ]
     },
     "execution_count": 74,
     "metadata": {},
     "output_type": "execute_result"
    }
   ],
   "source": [
    "event_df[[\"pyrocb_id\",cluster_var]].groupby(cluster_var).count()"
   ]
  },
  {
   "cell_type": "code",
   "execution_count": 75,
   "id": "863593dd-6c09-47bd-bfad-3aad7d463b6b",
   "metadata": {},
   "outputs": [
    {
     "data": {
      "text/plain": [
       "(6919, 13)"
      ]
     },
     "execution_count": 75,
     "metadata": {},
     "output_type": "execute_result"
    }
   ],
   "source": [
    "event_df.shape"
   ]
  },
  {
   "cell_type": "code",
   "execution_count": 76,
   "id": "20cef9ec-f4dd-49cb-8932-0d5fdc78dc35",
   "metadata": {},
   "outputs": [],
   "source": [
    "#file = \"/home/jupyter/elevation/alwdgg.tif\"\n",
    "#da = xr.open_rasterio(file)\n",
    "#alt = [da.interp(x=event_df.iloc[i].lon, y = event_df.iloc[i].lat, method=\"linear\").values[0] for i in range(event_df.shape[0])]"
   ]
  },
  {
   "cell_type": "code",
   "execution_count": 77,
   "id": "dd9cf98f-bc4f-4a0c-90da-440d3297d927",
   "metadata": {},
   "outputs": [],
   "source": [
    "#event_df[\"altitude\"] = alt\n",
    "#def meanAlt(x):\n",
    "#    return np.mean(x.altitude)\n",
    "#event_df[[\"pyrocb_id\",\"cluster\",\"altitude\"]].groupby(\"cluster\").apply(meanAlt)"
   ]
  },
  {
   "cell_type": "code",
   "execution_count": 78,
   "id": "78e18418-41d0-48a7-b0df-d7a5b4938b53",
   "metadata": {},
   "outputs": [
    {
     "name": "stdout",
     "output_type": "stream",
     "text": [
      "(6919, 5)\n",
      "(6919, 318)\n",
      "(6919,)\n",
      "6919\n"
     ]
    }
   ],
   "source": [
    "print(envVars.shape)\n",
    "print(cube.shape)\n",
    "print(labels.shape)\n",
    "print(len(keys[0][\"level1_key\"]))"
   ]
  },
  {
   "cell_type": "code",
   "execution_count": 79,
   "id": "e10ceadd-398f-49ac-867e-0def9b80218b",
   "metadata": {},
   "outputs": [
    {
     "data": {
      "text/plain": [
       "[<matplotlib.lines.Line2D at 0x7ff17874e590>]"
      ]
     },
     "execution_count": 79,
     "metadata": {},
     "output_type": "execute_result"
    },
    {
     "data": {
      "image/png": "[encoded data removed]",
      "text/plain": [
       "<Figure size 432x288 with 1 Axes>"
      ]
     },
     "metadata": {
      "needs_background": "light"
     },
     "output_type": "display_data"
    }
   ],
   "source": [
    "plt.plot(envVars[:,2])"
   ]
  },
  {
   "cell_type": "code",
   "execution_count": 80,
   "id": "367c98e1-9a99-48f8-ada4-d9b5650d4c0b",
   "metadata": {},
   "outputs": [],
   "source": [
    "mu_env = [np.mean(envVars[:,i]) for i in range(envVars.shape[1])]\n",
    "sigma_env = [np.std(envVars[:,i]) for i in range(envVars.shape[1])]"
   ]
  },
  {
   "cell_type": "code",
   "execution_count": 81,
   "id": "5ca63d17-0b8d-4648-a33f-c973de8e410f",
   "metadata": {},
   "outputs": [
    {
     "data": {
      "text/plain": [
       "[82.03730074296445,\n",
       " -15.836401755772682,\n",
       " 2019.9820624961642,\n",
       " 2019.45281109987,\n",
       " 0.23023558317675966]"
      ]
     },
     "execution_count": 81,
     "metadata": {},
     "output_type": "execute_result"
    }
   ],
   "source": [
    "mu_env"
   ]
  },
  {
   "cell_type": "code",
   "execution_count": 82,
   "id": "13e5e8c5-8650-4778-993a-fb629d8e10ec",
   "metadata": {},
   "outputs": [
    {
     "data": {
      "text/plain": [
       "[110.63039472732746,\n",
       " 32.406044911163136,\n",
       " 0.8347076386002498,\n",
       " 0.8607601604282905,\n",
       " 0.42098356193088715]"
      ]
     },
     "execution_count": 82,
     "metadata": {},
     "output_type": "execute_result"
    }
   ],
   "source": [
    "sigma_env"
   ]
  },
  {
   "cell_type": "code",
   "execution_count": 83,
   "id": "8b78ef30-ea01-4d24-ad8f-7905677c813d",
   "metadata": {},
   "outputs": [],
   "source": [
    "satellite_list = dp.flatten(keys[1][\"satellite\"])"
   ]
  },
  {
   "cell_type": "code",
   "execution_count": 84,
   "id": "10d7325a-556a-4fb8-b6f7-9f8fd662a918",
   "metadata": {},
   "outputs": [],
   "source": [
    "satellite_list = np.array(satellite_list)"
   ]
  },
  {
   "cell_type": "code",
   "execution_count": 85,
   "id": "08163dc5-2959-4d59-800d-16ea5617e458",
   "metadata": {},
   "outputs": [],
   "source": [
    "event_ids = np.array(keys[1][\"event_id\"])[np.array(keys[0][\"level1_key\"])]"
   ]
  },
  {
   "cell_type": "code",
   "execution_count": 86,
   "id": "748bad6f-6743-4133-ac1a-faf7e0cd92e2",
   "metadata": {},
   "outputs": [],
   "source": [
    "aux = [(e,v) for (e,v) in zip(event_ids.astype(float), envVars[:,2])]"
   ]
  },
  {
   "cell_type": "code",
   "execution_count": 87,
   "id": "e020dd1e-c0f9-407c-9667-79d9e17e2539",
   "metadata": {},
   "outputs": [
    {
     "data": {
      "text/plain": [
       "(6919,)"
      ]
     },
     "execution_count": 87,
     "metadata": {},
     "output_type": "execute_result"
    }
   ],
   "source": [
    "aux = np.array( aux, dtype=[('x', 'float'), ('y', 'float')])\n",
    "aux.shape\n"
   ]
  },
  {
   "cell_type": "code",
   "execution_count": 88,
   "id": "59715a3f-08f3-44d1-b56f-489d5a18cfa4",
   "metadata": {},
   "outputs": [],
   "source": [
    "o = np.argsort(aux, order=('x','y'))\n"
   ]
  },
  {
   "cell_type": "code",
   "execution_count": 89,
   "id": "76734363-fec8-45c7-80dd-e49f829b42e8",
   "metadata": {},
   "outputs": [
    {
     "data": {
      "text/plain": [
       "[<matplotlib.lines.Line2D at 0x7ff17866d3d0>]"
      ]
     },
     "execution_count": 89,
     "metadata": {},
     "output_type": "execute_result"
    },
    {
     "data": {
      "image/png": "[encoded data removed]",
      "text/plain": [
       "<Figure size 432x288 with 1 Axes>"
      ]
     },
     "metadata": {
      "needs_background": "light"
     },
     "output_type": "display_data"
    }
   ],
   "source": [
    "plt.plot(o)"
   ]
  },
  {
   "cell_type": "code",
   "execution_count": 90,
   "id": "326c9d05-de4c-4036-a3d7-05d08a781aa7",
   "metadata": {},
   "outputs": [
    {
     "data": {
      "text/plain": [
       "array(['63_1', '63_1', '63_1', ..., '172_18', '172_18', '172_18'],\n",
       "      dtype='<U6')"
      ]
     },
     "execution_count": 90,
     "metadata": {},
     "output_type": "execute_result"
    }
   ],
   "source": [
    "event_ids[o]"
   ]
  },
  {
   "cell_type": "code",
   "execution_count": 91,
   "id": "de2a0f55-a1fe-47d2-9f7f-7eb302a63364",
   "metadata": {},
   "outputs": [
    {
     "data": {
      "text/plain": [
       "array([2019.04657534, 2019.04657534, 2019.04657534, ..., 2020.02739726,\n",
       "       2020.02739726, 2020.02739726])"
      ]
     },
     "execution_count": 91,
     "metadata": {},
     "output_type": "execute_result"
    }
   ],
   "source": [
    "envVars[o,2]"
   ]
  },
  {
   "cell_type": "code",
   "execution_count": 92,
   "id": "ddcfcd17-418c-4e12-99cb-1d53afa35eb3",
   "metadata": {},
   "outputs": [],
   "source": [
    "#o = np.argsort(envVars[:,2])\n",
    "#envVars = envVars[o,:]\n",
    "#cube = cube[o,:]\n",
    "#labels = labels[o]\n",
    "#satellite_list = satellite_list[o]\n",
    "#event_df= event_df.iloc[o]"
   ]
  },
  {
   "cell_type": "code",
   "execution_count": 93,
   "id": "749638ad-737c-401b-8090-fe927f0213d8",
   "metadata": {},
   "outputs": [],
   "source": [
    "\n",
    "#envVars = envVars[indxKeep,:]\n",
    "#cube = cube[indxKeep,:]\n",
    "#labels = labels[indxKeep]\n",
    "#satellite_list = satellite_list[indxKeep]\n",
    "#event_df= event_df.iloc[indxKeep]"
   ]
  },
  {
   "cell_type": "code",
   "execution_count": 94,
   "id": "0f3920f6-3034-45b0-9539-a366f458fccb",
   "metadata": {},
   "outputs": [
    {
     "data": {
      "text/plain": [
       "(6919, 318)"
      ]
     },
     "execution_count": 94,
     "metadata": {},
     "output_type": "execute_result"
    }
   ],
   "source": [
    "cube.shape"
   ]
  },
  {
   "cell_type": "code",
   "execution_count": 95,
   "id": "199452f0-2ca2-43ad-93be-ca4f2d7116e2",
   "metadata": {},
   "outputs": [
    {
     "data": {
      "text/plain": [
       "(6919, 318)"
      ]
     },
     "execution_count": 95,
     "metadata": {},
     "output_type": "execute_result"
    }
   ],
   "source": [
    "cube.shape"
   ]
  },
  {
   "cell_type": "code",
   "execution_count": 96,
   "id": "053525a8-8db8-46f3-8ab9-23fd7a3cfb3b",
   "metadata": {},
   "outputs": [
    {
     "data": {
      "text/plain": [
       "(6919, 13)"
      ]
     },
     "execution_count": 96,
     "metadata": {},
     "output_type": "execute_result"
    }
   ],
   "source": [
    "event_df.shape"
   ]
  },
  {
   "cell_type": "code",
   "execution_count": 97,
   "id": "63872533-ef29-4236-9ee2-279612be7e41",
   "metadata": {},
   "outputs": [
    {
     "data": {
      "text/plain": [
       "1167"
      ]
     },
     "execution_count": 97,
     "metadata": {},
     "output_type": "execute_result"
    }
   ],
   "source": [
    "np.sum(event_df.flag_then)"
   ]
  },
  {
   "cell_type": "code",
   "execution_count": 98,
   "id": "a298ded0-099d-48f4-925d-e1571970aa18",
   "metadata": {},
   "outputs": [
    {
     "data": {
      "text/plain": [
       "1167"
      ]
     },
     "execution_count": 98,
     "metadata": {},
     "output_type": "execute_result"
    }
   ],
   "source": [
    "np.sum(labels)"
   ]
  },
  {
   "cell_type": "code",
   "execution_count": 99,
   "id": "8fcca297-6d47-4543-99df-19e133825fa1",
   "metadata": {},
   "outputs": [
    {
     "data": {
      "text/html": [
       "<div>\n",
       "<style scoped>\n",
       "    .dataframe tbody tr th:only-of-type {\n",
       "        vertical-align: middle;\n",
       "    }\n",
       "\n",
       "    .dataframe tbody tr th {\n",
       "        vertical-align: top;\n",
       "    }\n",
       "\n",
       "    .dataframe thead th {\n",
       "        text-align: right;\n",
       "    }\n",
       "</style>\n",
       "<table border=\"1\" class=\"dataframe\">\n",
       "  <thead>\n",
       "    <tr style=\"text-align: right;\">\n",
       "      <th></th>\n",
       "      <th></th>\n",
       "      <th>pyrocb_id</th>\n",
       "    </tr>\n",
       "    <tr>\n",
       "      <th>cluster_random</th>\n",
       "      <th>flag_then</th>\n",
       "      <th></th>\n",
       "    </tr>\n",
       "  </thead>\n",
       "  <tbody>\n",
       "    <tr>\n",
       "      <th rowspan=\"2\" valign=\"top\">0</th>\n",
       "      <th>False</th>\n",
       "      <td>2334</td>\n",
       "    </tr>\n",
       "    <tr>\n",
       "      <th>True</th>\n",
       "      <td>417</td>\n",
       "    </tr>\n",
       "    <tr>\n",
       "      <th rowspan=\"2\" valign=\"top\">1</th>\n",
       "      <th>False</th>\n",
       "      <td>1657</td>\n",
       "    </tr>\n",
       "    <tr>\n",
       "      <th>True</th>\n",
       "      <td>306</td>\n",
       "    </tr>\n",
       "    <tr>\n",
       "      <th rowspan=\"2\" valign=\"top\">2</th>\n",
       "      <th>False</th>\n",
       "      <td>1204</td>\n",
       "    </tr>\n",
       "    <tr>\n",
       "      <th>True</th>\n",
       "      <td>176</td>\n",
       "    </tr>\n",
       "    <tr>\n",
       "      <th rowspan=\"2\" valign=\"top\">3</th>\n",
       "      <th>False</th>\n",
       "      <td>325</td>\n",
       "    </tr>\n",
       "    <tr>\n",
       "      <th>True</th>\n",
       "      <td>170</td>\n",
       "    </tr>\n",
       "    <tr>\n",
       "      <th rowspan=\"2\" valign=\"top\">4</th>\n",
       "      <th>False</th>\n",
       "      <td>232</td>\n",
       "    </tr>\n",
       "    <tr>\n",
       "      <th>True</th>\n",
       "      <td>98</td>\n",
       "    </tr>\n",
       "  </tbody>\n",
       "</table>\n",
       "</div>"
      ],
      "text/plain": [
       "                          pyrocb_id\n",
       "cluster_random flag_then           \n",
       "0              False           2334\n",
       "               True             417\n",
       "1              False           1657\n",
       "               True             306\n",
       "2              False           1204\n",
       "               True             176\n",
       "3              False            325\n",
       "               True             170\n",
       "4              False            232\n",
       "               True              98"
      ]
     },
     "execution_count": 99,
     "metadata": {},
     "output_type": "execute_result"
    }
   ],
   "source": [
    "event_df[[\"flag_then\",cluster_var,\"pyrocb_id\"]].groupby([cluster_var,\"flag_then\"]).count()"
   ]
  },
  {
   "cell_type": "code",
   "execution_count": 100,
   "id": "dc4d1b89-9e56-4c96-abbd-6c93bed554d1",
   "metadata": {},
   "outputs": [
    {
     "data": {
      "text/html": [
       "<div>\n",
       "<style scoped>\n",
       "    .dataframe tbody tr th:only-of-type {\n",
       "        vertical-align: middle;\n",
       "    }\n",
       "\n",
       "    .dataframe tbody tr th {\n",
       "        vertical-align: top;\n",
       "    }\n",
       "\n",
       "    .dataframe thead th {\n",
       "        text-align: right;\n",
       "    }\n",
       "</style>\n",
       "<table border=\"1\" class=\"dataframe\">\n",
       "  <thead>\n",
       "    <tr style=\"text-align: right;\">\n",
       "      <th></th>\n",
       "      <th></th>\n",
       "      <th>pyrocb_id</th>\n",
       "    </tr>\n",
       "    <tr>\n",
       "      <th>full_flag_now</th>\n",
       "      <th>flag_then</th>\n",
       "      <th></th>\n",
       "    </tr>\n",
       "  </thead>\n",
       "  <tbody>\n",
       "    <tr>\n",
       "      <th rowspan=\"2\" valign=\"top\">0</th>\n",
       "      <th>False</th>\n",
       "      <td>207</td>\n",
       "    </tr>\n",
       "    <tr>\n",
       "      <th>True</th>\n",
       "      <td>4</td>\n",
       "    </tr>\n",
       "    <tr>\n",
       "      <th rowspan=\"2\" valign=\"top\">1</th>\n",
       "      <th>False</th>\n",
       "      <td>3025</td>\n",
       "    </tr>\n",
       "    <tr>\n",
       "      <th>True</th>\n",
       "      <td>192</td>\n",
       "    </tr>\n",
       "    <tr>\n",
       "      <th rowspan=\"2\" valign=\"top\">2</th>\n",
       "      <th>False</th>\n",
       "      <td>1122</td>\n",
       "    </tr>\n",
       "    <tr>\n",
       "      <th>True</th>\n",
       "      <td>283</td>\n",
       "    </tr>\n",
       "    <tr>\n",
       "      <th rowspan=\"2\" valign=\"top\">3</th>\n",
       "      <th>False</th>\n",
       "      <td>1203</td>\n",
       "    </tr>\n",
       "    <tr>\n",
       "      <th>True</th>\n",
       "      <td>572</td>\n",
       "    </tr>\n",
       "    <tr>\n",
       "      <th rowspan=\"2\" valign=\"top\">4</th>\n",
       "      <th>False</th>\n",
       "      <td>195</td>\n",
       "    </tr>\n",
       "    <tr>\n",
       "      <th>True</th>\n",
       "      <td>116</td>\n",
       "    </tr>\n",
       "  </tbody>\n",
       "</table>\n",
       "</div>"
      ],
      "text/plain": [
       "                         pyrocb_id\n",
       "full_flag_now flag_then           \n",
       "0             False            207\n",
       "              True               4\n",
       "1             False           3025\n",
       "              True             192\n",
       "2             False           1122\n",
       "              True             283\n",
       "3             False           1203\n",
       "              True             572\n",
       "4             False            195\n",
       "              True             116"
      ]
     },
     "execution_count": 100,
     "metadata": {},
     "output_type": "execute_result"
    }
   ],
   "source": [
    "event_df[[\"flag_then\",\"full_flag_now\",\"pyrocb_id\"]].groupby([\"full_flag_now\",\"flag_then\"]).count()"
   ]
  },
  {
   "cell_type": "code",
   "execution_count": 101,
   "id": "9d0e78ef-9a57-441d-9f18-93a83b4528f0",
   "metadata": {},
   "outputs": [],
   "source": [
    "# cluster, wildfire_id, red_flag_now, flag_then"
   ]
  },
  {
   "cell_type": "code",
   "execution_count": 102,
   "id": "7a4c5cdb-cfe6-476b-ba44-be0105217cfb",
   "metadata": {},
   "outputs": [
    {
     "data": {
      "text/html": [
       "<div>\n",
       "<style scoped>\n",
       "    .dataframe tbody tr th:only-of-type {\n",
       "        vertical-align: middle;\n",
       "    }\n",
       "\n",
       "    .dataframe tbody tr th {\n",
       "        vertical-align: top;\n",
       "    }\n",
       "\n",
       "    .dataframe thead th {\n",
       "        text-align: right;\n",
       "    }\n",
       "</style>\n",
       "<table border=\"1\" class=\"dataframe\">\n",
       "  <thead>\n",
       "    <tr style=\"text-align: right;\">\n",
       "      <th></th>\n",
       "      <th>pyrocb_id</th>\n",
       "    </tr>\n",
       "    <tr>\n",
       "      <th>full_flag_now</th>\n",
       "      <th></th>\n",
       "    </tr>\n",
       "  </thead>\n",
       "  <tbody>\n",
       "    <tr>\n",
       "      <th>0</th>\n",
       "      <td>211</td>\n",
       "    </tr>\n",
       "    <tr>\n",
       "      <th>1</th>\n",
       "      <td>3217</td>\n",
       "    </tr>\n",
       "    <tr>\n",
       "      <th>2</th>\n",
       "      <td>1405</td>\n",
       "    </tr>\n",
       "    <tr>\n",
       "      <th>3</th>\n",
       "      <td>1775</td>\n",
       "    </tr>\n",
       "    <tr>\n",
       "      <th>4</th>\n",
       "      <td>311</td>\n",
       "    </tr>\n",
       "  </tbody>\n",
       "</table>\n",
       "</div>"
      ],
      "text/plain": [
       "               pyrocb_id\n",
       "full_flag_now           \n",
       "0                    211\n",
       "1                   3217\n",
       "2                   1405\n",
       "3                   1775\n",
       "4                    311"
      ]
     },
     "execution_count": 102,
     "metadata": {},
     "output_type": "execute_result"
    }
   ],
   "source": [
    "event_df[[\"pyrocb_id\",\"full_flag_now\"]].groupby(\"full_flag_now\").count()"
   ]
  },
  {
   "cell_type": "code",
   "execution_count": 103,
   "id": "5c6b8851-ec80-4a4e-8844-c48de8d9a02b",
   "metadata": {},
   "outputs": [],
   "source": [
    "mydict = {0:\"none\", 1:\"none\", 2:\"conv\", 3:\"deep conv\",4:\"pyrocb\"}"
   ]
  },
  {
   "cell_type": "code",
   "execution_count": 104,
   "id": "59a9b3a3-9f19-4341-8823-7e77855095cf",
   "metadata": {},
   "outputs": [
    {
     "data": {
      "text/html": [
       "<div>\n",
       "<style scoped>\n",
       "    .dataframe tbody tr th:only-of-type {\n",
       "        vertical-align: middle;\n",
       "    }\n",
       "\n",
       "    .dataframe tbody tr th {\n",
       "        vertical-align: top;\n",
       "    }\n",
       "\n",
       "    .dataframe thead th {\n",
       "        text-align: right;\n",
       "    }\n",
       "</style>\n",
       "<table border=\"1\" class=\"dataframe\">\n",
       "  <thead>\n",
       "    <tr style=\"text-align: right;\">\n",
       "      <th></th>\n",
       "      <th>pyrocb_id</th>\n",
       "    </tr>\n",
       "    <tr>\n",
       "      <th>red_flag_now</th>\n",
       "      <th></th>\n",
       "    </tr>\n",
       "  </thead>\n",
       "  <tbody>\n",
       "    <tr>\n",
       "      <th>conv</th>\n",
       "      <td>1405</td>\n",
       "    </tr>\n",
       "    <tr>\n",
       "      <th>deep conv</th>\n",
       "      <td>1775</td>\n",
       "    </tr>\n",
       "    <tr>\n",
       "      <th>none</th>\n",
       "      <td>3428</td>\n",
       "    </tr>\n",
       "    <tr>\n",
       "      <th>pyrocb</th>\n",
       "      <td>311</td>\n",
       "    </tr>\n",
       "  </tbody>\n",
       "</table>\n",
       "</div>"
      ],
      "text/plain": [
       "              pyrocb_id\n",
       "red_flag_now           \n",
       "conv               1405\n",
       "deep conv          1775\n",
       "none               3428\n",
       "pyrocb              311"
      ]
     },
     "execution_count": 104,
     "metadata": {},
     "output_type": "execute_result"
    }
   ],
   "source": [
    "event_df[\"red_flag_now\"] =event_df[\"full_flag_now\"].replace(mydict)\n",
    "event_df[[\"pyrocb_id\",\"red_flag_now\"]].groupby(\"red_flag_now\").count()"
   ]
  },
  {
   "cell_type": "code",
   "execution_count": 105,
   "id": "f7ee569b-a13f-4bf9-a202-b919d8296652",
   "metadata": {},
   "outputs": [
    {
     "data": {
      "text/html": [
       "<div>\n",
       "<style scoped>\n",
       "    .dataframe tbody tr th:only-of-type {\n",
       "        vertical-align: middle;\n",
       "    }\n",
       "\n",
       "    .dataframe tbody tr th {\n",
       "        vertical-align: top;\n",
       "    }\n",
       "\n",
       "    .dataframe thead th {\n",
       "        text-align: right;\n",
       "    }\n",
       "</style>\n",
       "<table border=\"1\" class=\"dataframe\">\n",
       "  <thead>\n",
       "    <tr style=\"text-align: right;\">\n",
       "      <th></th>\n",
       "      <th>pyrocb_id</th>\n",
       "      <th>event_id</th>\n",
       "      <th>full_flag_now</th>\n",
       "      <th>flag_then</th>\n",
       "      <th>pyroCb_id</th>\n",
       "      <th>wildfire_id</th>\n",
       "      <th>lon</th>\n",
       "      <th>lat</th>\n",
       "      <th>date</th>\n",
       "      <th>year</th>\n",
       "      <th>sat</th>\n",
       "      <th>cluster_regional</th>\n",
       "      <th>cluster_random</th>\n",
       "      <th>red_flag_now</th>\n",
       "    </tr>\n",
       "  </thead>\n",
       "  <tbody>\n",
       "    <tr>\n",
       "      <th>0</th>\n",
       "      <td>114</td>\n",
       "      <td>114_28</td>\n",
       "      <td>3</td>\n",
       "      <td>True</td>\n",
       "      <td>114</td>\n",
       "      <td>22810288</td>\n",
       "      <td>151.985555</td>\n",
       "      <td>-31.589875</td>\n",
       "      <td>2019.912329</td>\n",
       "      <td>2019.0</td>\n",
       "      <td>0.0</td>\n",
       "      <td>2</td>\n",
       "      <td>0</td>\n",
       "      <td>deep conv</td>\n",
       "    </tr>\n",
       "    <tr>\n",
       "      <th>1</th>\n",
       "      <td>114</td>\n",
       "      <td>114_28</td>\n",
       "      <td>3</td>\n",
       "      <td>True</td>\n",
       "      <td>114</td>\n",
       "      <td>22810288</td>\n",
       "      <td>151.985555</td>\n",
       "      <td>-31.589875</td>\n",
       "      <td>2019.912329</td>\n",
       "      <td>2019.0</td>\n",
       "      <td>0.0</td>\n",
       "      <td>2</td>\n",
       "      <td>0</td>\n",
       "      <td>deep conv</td>\n",
       "    </tr>\n",
       "    <tr>\n",
       "      <th>2</th>\n",
       "      <td>114</td>\n",
       "      <td>114_28</td>\n",
       "      <td>4</td>\n",
       "      <td>False</td>\n",
       "      <td>114</td>\n",
       "      <td>22810288</td>\n",
       "      <td>151.985555</td>\n",
       "      <td>-31.589875</td>\n",
       "      <td>2019.912329</td>\n",
       "      <td>2019.0</td>\n",
       "      <td>0.0</td>\n",
       "      <td>2</td>\n",
       "      <td>0</td>\n",
       "      <td>pyrocb</td>\n",
       "    </tr>\n",
       "    <tr>\n",
       "      <th>3</th>\n",
       "      <td>114</td>\n",
       "      <td>114_28</td>\n",
       "      <td>3</td>\n",
       "      <td>False</td>\n",
       "      <td>114</td>\n",
       "      <td>22810288</td>\n",
       "      <td>151.985555</td>\n",
       "      <td>-31.589875</td>\n",
       "      <td>2019.912329</td>\n",
       "      <td>2019.0</td>\n",
       "      <td>0.0</td>\n",
       "      <td>2</td>\n",
       "      <td>0</td>\n",
       "      <td>deep conv</td>\n",
       "    </tr>\n",
       "    <tr>\n",
       "      <th>4</th>\n",
       "      <td>114</td>\n",
       "      <td>114_28</td>\n",
       "      <td>3</td>\n",
       "      <td>True</td>\n",
       "      <td>114</td>\n",
       "      <td>22810288</td>\n",
       "      <td>151.985555</td>\n",
       "      <td>-31.589875</td>\n",
       "      <td>2019.915068</td>\n",
       "      <td>2019.0</td>\n",
       "      <td>0.0</td>\n",
       "      <td>2</td>\n",
       "      <td>0</td>\n",
       "      <td>deep conv</td>\n",
       "    </tr>\n",
       "  </tbody>\n",
       "</table>\n",
       "</div>"
      ],
      "text/plain": [
       "   pyrocb_id event_id  full_flag_now  flag_then  pyroCb_id wildfire_id  \\\n",
       "0        114   114_28              3       True        114    22810288   \n",
       "1        114   114_28              3       True        114    22810288   \n",
       "2        114   114_28              4      False        114    22810288   \n",
       "3        114   114_28              3      False        114    22810288   \n",
       "4        114   114_28              3       True        114    22810288   \n",
       "\n",
       "          lon        lat         date    year  sat  cluster_regional  \\\n",
       "0  151.985555 -31.589875  2019.912329  2019.0  0.0                 2   \n",
       "1  151.985555 -31.589875  2019.912329  2019.0  0.0                 2   \n",
       "2  151.985555 -31.589875  2019.912329  2019.0  0.0                 2   \n",
       "3  151.985555 -31.589875  2019.912329  2019.0  0.0                 2   \n",
       "4  151.985555 -31.589875  2019.915068  2019.0  0.0                 2   \n",
       "\n",
       "   cluster_random red_flag_now  \n",
       "0               0    deep conv  \n",
       "1               0    deep conv  \n",
       "2               0       pyrocb  \n",
       "3               0    deep conv  \n",
       "4               0    deep conv  "
      ]
     },
     "execution_count": 105,
     "metadata": {},
     "output_type": "execute_result"
    }
   ],
   "source": [
    "event_df.head()"
   ]
  },
  {
   "cell_type": "code",
   "execution_count": 106,
   "id": "9056c078-631f-4c67-8180-9d415494a768",
   "metadata": {},
   "outputs": [],
   "source": [
    "#cluster = 0\n",
    "#event_df_clus = event_df.loc[event_df.cluster==cluster]\n",
    "tab = event_df[[\"cluster_regional\",\"cluster_random\",\"pyrocb_id\",\"wildfire_id\",\"red_flag_now\",\"flag_then\"]].groupby([cluster_var,\"wildfire_id\",\"red_flag_now\",\"flag_then\"]).count()"
   ]
  },
  {
   "cell_type": "code",
   "execution_count": 107,
   "id": "747fefff-c308-44ab-9b11-d4bde29eb208",
   "metadata": {},
   "outputs": [
    {
     "data": {
      "text/plain": [
       "True"
      ]
     },
     "execution_count": 107,
     "metadata": {},
     "output_type": "execute_result"
    }
   ],
   "source": [
    "np.all(tab.to_numpy()>0)"
   ]
  },
  {
   "cell_type": "code",
   "execution_count": 108,
   "id": "4fb51830-ba15-487b-8da9-b3e858d01f4e",
   "metadata": {},
   "outputs": [],
   "source": [
    "tab = tab.reset_index().rename(columns={\"pyrocb_id\":\"freq\"})"
   ]
  },
  {
   "cell_type": "code",
   "execution_count": 109,
   "id": "2866eac3-5fb0-45d2-a839-bd85a115ba19",
   "metadata": {},
   "outputs": [
    {
     "data": {
      "text/plain": [
       "278"
      ]
     },
     "execution_count": 109,
     "metadata": {},
     "output_type": "execute_result"
    }
   ],
   "source": [
    "np.max(tab.freq)"
   ]
  },
  {
   "cell_type": "code",
   "execution_count": 110,
   "id": "95ea2c1a-31b8-4570-bba9-6f41703854b5",
   "metadata": {},
   "outputs": [
    {
     "data": {
      "text/plain": [
       "117038"
      ]
     },
     "execution_count": 110,
     "metadata": {},
     "output_type": "execute_result"
    }
   ],
   "source": [
    "np.max(tab.freq)*tab.shape[0]"
   ]
  },
  {
   "cell_type": "code",
   "execution_count": 111,
   "id": "ceffd370-00ec-4a59-bbee-42fb21209c3f",
   "metadata": {},
   "outputs": [],
   "source": [
    "tab[\"weight\"]= 1/tab.freq"
   ]
  },
  {
   "cell_type": "code",
   "execution_count": 112,
   "id": "01069684-88a6-4504-bed4-ab3c13801906",
   "metadata": {},
   "outputs": [
    {
     "data": {
      "text/html": [
       "<div>\n",
       "<style scoped>\n",
       "    .dataframe tbody tr th:only-of-type {\n",
       "        vertical-align: middle;\n",
       "    }\n",
       "\n",
       "    .dataframe tbody tr th {\n",
       "        vertical-align: top;\n",
       "    }\n",
       "\n",
       "    .dataframe thead th {\n",
       "        text-align: right;\n",
       "    }\n",
       "</style>\n",
       "<table border=\"1\" class=\"dataframe\">\n",
       "  <thead>\n",
       "    <tr style=\"text-align: right;\">\n",
       "      <th></th>\n",
       "      <th>cluster_random</th>\n",
       "      <th>wildfire_id</th>\n",
       "      <th>red_flag_now</th>\n",
       "      <th>flag_then</th>\n",
       "      <th>cluster_regional</th>\n",
       "      <th>freq</th>\n",
       "      <th>weight</th>\n",
       "    </tr>\n",
       "  </thead>\n",
       "  <tbody>\n",
       "    <tr>\n",
       "      <th>0</th>\n",
       "      <td>0</td>\n",
       "      <td>126</td>\n",
       "      <td>conv</td>\n",
       "      <td>False</td>\n",
       "      <td>7</td>\n",
       "      <td>7</td>\n",
       "      <td>0.142857</td>\n",
       "    </tr>\n",
       "    <tr>\n",
       "      <th>1</th>\n",
       "      <td>0</td>\n",
       "      <td>126</td>\n",
       "      <td>deep conv</td>\n",
       "      <td>False</td>\n",
       "      <td>8</td>\n",
       "      <td>8</td>\n",
       "      <td>0.125000</td>\n",
       "    </tr>\n",
       "    <tr>\n",
       "      <th>2</th>\n",
       "      <td>0</td>\n",
       "      <td>126</td>\n",
       "      <td>deep conv</td>\n",
       "      <td>True</td>\n",
       "      <td>1</td>\n",
       "      <td>1</td>\n",
       "      <td>1.000000</td>\n",
       "    </tr>\n",
       "    <tr>\n",
       "      <th>3</th>\n",
       "      <td>0</td>\n",
       "      <td>126</td>\n",
       "      <td>none</td>\n",
       "      <td>False</td>\n",
       "      <td>16</td>\n",
       "      <td>16</td>\n",
       "      <td>0.062500</td>\n",
       "    </tr>\n",
       "    <tr>\n",
       "      <th>4</th>\n",
       "      <td>0</td>\n",
       "      <td>126</td>\n",
       "      <td>pyrocb</td>\n",
       "      <td>False</td>\n",
       "      <td>4</td>\n",
       "      <td>4</td>\n",
       "      <td>0.250000</td>\n",
       "    </tr>\n",
       "  </tbody>\n",
       "</table>\n",
       "</div>"
      ],
      "text/plain": [
       "   cluster_random  wildfire_id red_flag_now  flag_then  cluster_regional  \\\n",
       "0               0          126         conv      False                 7   \n",
       "1               0          126    deep conv      False                 8   \n",
       "2               0          126    deep conv       True                 1   \n",
       "3               0          126         none      False                16   \n",
       "4               0          126       pyrocb      False                 4   \n",
       "\n",
       "   freq    weight  \n",
       "0     7  0.142857  \n",
       "1     8  0.125000  \n",
       "2     1  1.000000  \n",
       "3    16  0.062500  \n",
       "4     4  0.250000  "
      ]
     },
     "execution_count": 112,
     "metadata": {},
     "output_type": "execute_result"
    }
   ],
   "source": [
    "tab.head()"
   ]
  },
  {
   "cell_type": "code",
   "execution_count": 113,
   "id": "715c4f60-d49e-4701-96ef-f0136682d969",
   "metadata": {},
   "outputs": [],
   "source": [
    "event_df = event_df.merge(tab[[\"cluster_regional\",\"cluster_random\",\"wildfire_id\",\"red_flag_now\",\"flag_then\",\"weight\"]], how=\"left\", on=[\"cluster_regional\",\"cluster_random\",\"wildfire_id\",\"red_flag_now\",\"flag_then\"])"
   ]
  },
  {
   "cell_type": "code",
   "execution_count": 114,
   "id": "40b55beb-f7a2-4474-8c99-23accf3c2431",
   "metadata": {},
   "outputs": [],
   "source": [
    "mu = [np.mean(cube[:,i]) for i in range(cube.shape[1])]\n",
    "sigma = [np.std(cube[:,i]) for i in range(cube.shape[1])]"
   ]
  },
  {
   "cell_type": "code",
   "execution_count": 115,
   "id": "260858af-9308-4a6b-a88f-6e20537a3e83",
   "metadata": {},
   "outputs": [],
   "source": [
    "from sklearn.model_selection import train_test_split"
   ]
  },
  {
   "cell_type": "code",
   "execution_count": 116,
   "id": "0241154f-4e79-4263-a7b0-dc7cf4c0365d",
   "metadata": {},
   "outputs": [],
   "source": [
    "#X_train, X_val, y_train, y_val = train_test_split(big_datacube, flag_list, test_size=0.20, random_state=42, stratify=None, shuffle=False)\n",
    "#y_val.shape"
   ]
  },
  {
   "cell_type": "code",
   "execution_count": 117,
   "id": "be2f0c03-49ed-4984-96e3-75b7fe8753ee",
   "metadata": {},
   "outputs": [
    {
     "data": {
      "text/plain": [
       "5535"
      ]
     },
     "execution_count": 117,
     "metadata": {},
     "output_type": "execute_result"
    }
   ],
   "source": [
    "cutoff = int(envVars.shape[0]*0.8)\n",
    "cutoff"
   ]
  },
  {
   "cell_type": "code",
   "execution_count": 118,
   "id": "92c8178f-136c-4c38-9f6c-9a24bf1fd7f8",
   "metadata": {},
   "outputs": [
    {
     "data": {
      "text/plain": [
       "(6919, 318)"
      ]
     },
     "execution_count": 118,
     "metadata": {},
     "output_type": "execute_result"
    }
   ],
   "source": [
    "cube.shape"
   ]
  },
  {
   "cell_type": "code",
   "execution_count": 119,
   "id": "c828bd7b-7947-4130-9a8a-52071f40dcd7",
   "metadata": {},
   "outputs": [
    {
     "data": {
      "text/plain": [
       "0"
      ]
     },
     "execution_count": 119,
     "metadata": {},
     "output_type": "execute_result"
    }
   ],
   "source": [
    "np.sum(np.isnan(cube))"
   ]
  },
  {
   "cell_type": "code",
   "execution_count": 120,
   "id": "a6b77c53-66dc-4cb0-90b5-0825dddb760c",
   "metadata": {},
   "outputs": [],
   "source": [
    "# By satellite and day\n",
    "#indx1,  = np.where(satellite_list != \"Himawari\")\n",
    "#num_rem = int(cube.shape[0]*0.2)-indx1.shape[0]\n",
    "#print(num_rem )\n",
    "#indx2, = np.where(satellite_list == \"Himawari\")\n",
    "#indx2 = indx2[0:num_rem]\n",
    "#indx_val = np.hstack([indx1, indx2])\n",
    "#indx_val.shape"
   ]
  },
  {
   "cell_type": "code",
   "execution_count": 121,
   "id": "09c1895d-429d-4ae5-9555-1452dd85e99b",
   "metadata": {},
   "outputs": [],
   "source": [
    "# by event_id and date\n",
    "#indx_val = np.arange(cutoff, envVars.shape[0])\n",
    "#indx_val"
   ]
  },
  {
   "cell_type": "code",
   "execution_count": 122,
   "id": "dff0c581-ac14-4e8b-a050-908815e4c61c",
   "metadata": {},
   "outputs": [],
   "source": [
    "#by cluster\n",
    "cluster = 1\n",
    "indx_val, =  np.where(event_df[cluster_var]==cluster)"
   ]
  },
  {
   "cell_type": "code",
   "execution_count": 123,
   "id": "12c3941c-92f2-40e7-add1-a5e148a6f3c3",
   "metadata": {},
   "outputs": [],
   "source": [
    "# by event_id: choose until you breach 20%"
   ]
  },
  {
   "cell_type": "code",
   "execution_count": 124,
   "id": "b779bdfa-1b8a-4add-babd-c47c668dd5e9",
   "metadata": {},
   "outputs": [],
   "source": [
    "indx_train = np.array(list(set(np.arange(0, cube.shape[0])).difference(indx_val)))"
   ]
  },
  {
   "cell_type": "code",
   "execution_count": 125,
   "id": "e0301e6e-767d-4a97-b15b-ed4cb55d5abc",
   "metadata": {},
   "outputs": [
    {
     "data": {
      "text/plain": [
       "(6919, 318)"
      ]
     },
     "execution_count": 125,
     "metadata": {},
     "output_type": "execute_result"
    }
   ],
   "source": [
    "cube.shape"
   ]
  },
  {
   "cell_type": "code",
   "execution_count": 126,
   "id": "0601bd42-9639-42ed-a22f-a496098ba907",
   "metadata": {},
   "outputs": [
    {
     "data": {
      "text/plain": [
       "(1963,)"
      ]
     },
     "execution_count": 126,
     "metadata": {},
     "output_type": "execute_result"
    }
   ],
   "source": [
    "X_train = cube[indx_train,:]\n",
    "X_val = cube[indx_val,:]\n",
    "y_train = labels[indx_train]\n",
    "y_val = labels[indx_val]\n",
    "Env_train = envVars[indx_train,3:5]\n",
    "Env_val = envVars[indx_val,3:5]\n",
    "y_val.shape"
   ]
  },
  {
   "cell_type": "code",
   "execution_count": 127,
   "id": "de33a782-7bbf-43d3-b27c-735f3d8a116e",
   "metadata": {},
   "outputs": [
    {
     "data": {
      "text/plain": [
       "(6919, 15)"
      ]
     },
     "execution_count": 127,
     "metadata": {},
     "output_type": "execute_result"
    }
   ],
   "source": [
    "event_df.shape"
   ]
  },
  {
   "cell_type": "code",
   "execution_count": 128,
   "id": "b17b80c4-b940-4456-8d40-8c7f4e2015cc",
   "metadata": {},
   "outputs": [],
   "source": [
    "event_df_train = event_df.iloc[indx_train]\n",
    "event_df_val = event_df.iloc[indx_val]"
   ]
  },
  {
   "cell_type": "code",
   "execution_count": 129,
   "id": "4d6606d8-9310-4202-a9fe-ed575bfd2871",
   "metadata": {},
   "outputs": [
    {
     "data": {
      "text/plain": [
       "array([[ 151.98555486,  -31.58987524, 2019.91232877, 2019.        ,\n",
       "           0.        ],\n",
       "       [ 151.98555486,  -31.58987524, 2019.91232877, 2019.        ,\n",
       "           0.        ],\n",
       "       [ 151.98555486,  -31.58987524, 2019.91232877, 2019.        ,\n",
       "           0.        ],\n",
       "       [ 151.98555486,  -31.58987524, 2019.91232877, 2019.        ,\n",
       "           0.        ],\n",
       "       [ 151.98555486,  -31.58987524, 2019.91506849, 2019.        ,\n",
       "           0.        ],\n",
       "       [ 151.98555486,  -31.58987524, 2019.91506849, 2019.        ,\n",
       "           0.        ],\n",
       "       [ 151.956344  ,  -32.31875   , 2019.89041096, 2019.        ,\n",
       "           0.        ],\n",
       "       [ 151.956344  ,  -32.31875   , 2019.89041096, 2019.        ,\n",
       "           0.        ],\n",
       "       [ 151.956344  ,  -32.31875   , 2019.89041096, 2019.        ,\n",
       "           0.        ],\n",
       "       [ 151.956344  ,  -32.31875   , 2019.89315068, 2019.        ,\n",
       "           0.        ]])"
      ]
     },
     "execution_count": 129,
     "metadata": {},
     "output_type": "execute_result"
    }
   ],
   "source": [
    "envVars[0:10,]"
   ]
  },
  {
   "cell_type": "code",
   "execution_count": 130,
   "id": "9fac46f3-878b-4160-8a83-7d8ee4f69c7a",
   "metadata": {},
   "outputs": [
    {
     "data": {
      "text/plain": [
       "24"
      ]
     },
     "execution_count": 130,
     "metadata": {},
     "output_type": "execute_result"
    }
   ],
   "source": [
    "#met_varss = [\"u10\", \"v10\", \"fg10\", \"blh\", \"cape\", \"cin\", \"z\", \"slhf\", \"sshf\", \"w\", \"u\", \"v\", \"cvh\", \"cvl\", \"tvh\", \"tvl\", \"r650\", \"r750\", \"r850\"]\n",
    "met_varss = [\"u10\", \"v10\", \"fg10\", \"blh\", \"cape\", \"cin\", \"z\", \"slhf\", \"sshf\", \"w\", \"u\", \"v\", \"cvh\", \"cvl\", \"tvh\", \"tvl\", \"r650\", \"r750\", \"r850\",\"uv10\", \"uv250\", \"alt\", \"typeH\", \"typeL\"]\n",
    "len(met_varss)"
   ]
  },
  {
   "cell_type": "code",
   "execution_count": 131,
   "id": "13bcb328-30e9-4737-ab46-44e28973999d",
   "metadata": {},
   "outputs": [],
   "source": [
    "img_varss = [\"ch1\",\"ch2\",\"ch3\",\"ch4\",\"ch5\",\"ch6\"]\n",
    "varss = img_varss+met_varss"
   ]
  },
  {
   "cell_type": "code",
   "execution_count": 132,
   "id": "273f97b6-9d40-4af0-a987-b175812eb0a6",
   "metadata": {},
   "outputs": [
    {
     "data": {
      "text/plain": [
       "array([  0,  11,  22,  33,  44,  55,  66,  77,  88,  99, 110, 121, 132,\n",
       "       143, 154, 165, 176, 187, 198, 209, 220, 231, 242, 253, 264, 275,\n",
       "       286, 297, 308, 312, 318])"
      ]
     },
     "execution_count": 132,
     "metadata": {},
     "output_type": "execute_result"
    }
   ],
   "source": [
    "posts =np.arange(0,cube.shape[1]+1-10, 11)\n",
    "posts = np.array(posts.tolist()+[posts[posts.shape[0]-1]+4,posts[posts.shape[0]-1]+10])\n",
    "posts"
   ]
  },
  {
   "cell_type": "markdown",
   "id": "4402753d-11b1-4afe-8e4a-0dfcaf2af3a7",
   "metadata": {},
   "source": [
    "# ICP"
   ]
  },
  {
   "cell_type": "code",
   "execution_count": 133,
   "id": "ccb61113-5b41-4c31-8a79-7e6b0598d13f",
   "metadata": {},
   "outputs": [
    {
     "name": "stdout",
     "output_type": "stream",
     "text": [
      "['ch1', 'ch2', 'ch3', 'ch4', 'ch5', 'ch6', 'u10', 'v10', 'fg10', 'blh', 'cape', 'cin', 'z', 'slhf', 'sshf', 'w', 'u', 'v', 'cvh', 'cvl', 'tvh', 'tvl', 'r650', 'r750', 'r850', 'uv10', 'uv250', 'alt', 'typeH', 'typeL']\n",
      "30\n"
     ]
    },
    {
     "data": {
      "text/plain": [
       "(30,)"
      ]
     },
     "execution_count": 133,
     "metadata": {},
     "output_type": "execute_result"
    }
   ],
   "source": [
    "print(varss)\n",
    "print(len(varss))\n",
    "indxIncl = [10,21]\n",
    "indxIncl = [0,4,5,13,16,17,18]\n",
    "#indxIncl = [29]\n",
    "indxIncl = np.arange(len(varss)).tolist()\n",
    "indxIncl \n",
    "np.array(varss)[indxIncl].shape"
   ]
  },
  {
   "cell_type": "code",
   "execution_count": 134,
   "id": "1cce699c-dffb-43b8-9d49-dd82487727e2",
   "metadata": {},
   "outputs": [
    {
     "data": {
      "text/plain": [
       "(6919, 5)"
      ]
     },
     "execution_count": 134,
     "metadata": {},
     "output_type": "execute_result"
    }
   ],
   "source": [
    "i = 0\n",
    "envv = np.array([(event_df[\"cluster_regional\"]==i)*1 for i in np.arange(5)]).T\n",
    "envv.shape"
   ]
  },
  {
   "cell_type": "code",
   "execution_count": 135,
   "id": "d810f64f",
   "metadata": {},
   "outputs": [
    {
     "data": {
      "text/plain": [
       "(6919, 5)"
      ]
     },
     "execution_count": 135,
     "metadata": {},
     "output_type": "execute_result"
    }
   ],
   "source": [
    "envVars.shape"
   ]
  },
  {
   "cell_type": "code",
   "execution_count": 136,
   "id": "1380bf01",
   "metadata": {},
   "outputs": [
    {
     "data": {
      "text/plain": [
       "330"
      ]
     },
     "execution_count": 136,
     "metadata": {},
     "output_type": "execute_result"
    }
   ],
   "source": [
    "30*11"
   ]
  },
  {
   "cell_type": "code",
   "execution_count": 137,
   "id": "b88fac11",
   "metadata": {},
   "outputs": [
    {
     "data": {
      "text/html": [
       "<div>\n",
       "<style scoped>\n",
       "    .dataframe tbody tr th:only-of-type {\n",
       "        vertical-align: middle;\n",
       "    }\n",
       "\n",
       "    .dataframe tbody tr th {\n",
       "        vertical-align: top;\n",
       "    }\n",
       "\n",
       "    .dataframe thead th {\n",
       "        text-align: right;\n",
       "    }\n",
       "</style>\n",
       "<table border=\"1\" class=\"dataframe\">\n",
       "  <thead>\n",
       "    <tr style=\"text-align: right;\">\n",
       "      <th></th>\n",
       "      <th>pyrocb_id</th>\n",
       "      <th>event_id</th>\n",
       "      <th>full_flag_now</th>\n",
       "      <th>flag_then</th>\n",
       "      <th>pyroCb_id</th>\n",
       "      <th>wildfire_id</th>\n",
       "      <th>lon</th>\n",
       "      <th>lat</th>\n",
       "      <th>date</th>\n",
       "      <th>year</th>\n",
       "      <th>sat</th>\n",
       "      <th>cluster_regional</th>\n",
       "      <th>cluster_random</th>\n",
       "      <th>red_flag_now</th>\n",
       "      <th>weight</th>\n",
       "    </tr>\n",
       "  </thead>\n",
       "  <tbody>\n",
       "    <tr>\n",
       "      <th>0</th>\n",
       "      <td>114</td>\n",
       "      <td>114_28</td>\n",
       "      <td>3</td>\n",
       "      <td>True</td>\n",
       "      <td>114</td>\n",
       "      <td>22810288</td>\n",
       "      <td>151.985555</td>\n",
       "      <td>-31.589875</td>\n",
       "      <td>2019.912329</td>\n",
       "      <td>2019.0</td>\n",
       "      <td>0.0</td>\n",
       "      <td>2</td>\n",
       "      <td>0</td>\n",
       "      <td>deep conv</td>\n",
       "      <td>NaN</td>\n",
       "    </tr>\n",
       "    <tr>\n",
       "      <th>1</th>\n",
       "      <td>114</td>\n",
       "      <td>114_28</td>\n",
       "      <td>3</td>\n",
       "      <td>True</td>\n",
       "      <td>114</td>\n",
       "      <td>22810288</td>\n",
       "      <td>151.985555</td>\n",
       "      <td>-31.589875</td>\n",
       "      <td>2019.912329</td>\n",
       "      <td>2019.0</td>\n",
       "      <td>0.0</td>\n",
       "      <td>2</td>\n",
       "      <td>0</td>\n",
       "      <td>deep conv</td>\n",
       "      <td>NaN</td>\n",
       "    </tr>\n",
       "    <tr>\n",
       "      <th>2</th>\n",
       "      <td>114</td>\n",
       "      <td>114_28</td>\n",
       "      <td>4</td>\n",
       "      <td>False</td>\n",
       "      <td>114</td>\n",
       "      <td>22810288</td>\n",
       "      <td>151.985555</td>\n",
       "      <td>-31.589875</td>\n",
       "      <td>2019.912329</td>\n",
       "      <td>2019.0</td>\n",
       "      <td>0.0</td>\n",
       "      <td>2</td>\n",
       "      <td>0</td>\n",
       "      <td>pyrocb</td>\n",
       "      <td>NaN</td>\n",
       "    </tr>\n",
       "    <tr>\n",
       "      <th>3</th>\n",
       "      <td>114</td>\n",
       "      <td>114_28</td>\n",
       "      <td>3</td>\n",
       "      <td>False</td>\n",
       "      <td>114</td>\n",
       "      <td>22810288</td>\n",
       "      <td>151.985555</td>\n",
       "      <td>-31.589875</td>\n",
       "      <td>2019.912329</td>\n",
       "      <td>2019.0</td>\n",
       "      <td>0.0</td>\n",
       "      <td>2</td>\n",
       "      <td>0</td>\n",
       "      <td>deep conv</td>\n",
       "      <td>NaN</td>\n",
       "    </tr>\n",
       "    <tr>\n",
       "      <th>4</th>\n",
       "      <td>114</td>\n",
       "      <td>114_28</td>\n",
       "      <td>3</td>\n",
       "      <td>True</td>\n",
       "      <td>114</td>\n",
       "      <td>22810288</td>\n",
       "      <td>151.985555</td>\n",
       "      <td>-31.589875</td>\n",
       "      <td>2019.915068</td>\n",
       "      <td>2019.0</td>\n",
       "      <td>0.0</td>\n",
       "      <td>2</td>\n",
       "      <td>0</td>\n",
       "      <td>deep conv</td>\n",
       "      <td>NaN</td>\n",
       "    </tr>\n",
       "  </tbody>\n",
       "</table>\n",
       "</div>"
      ],
      "text/plain": [
       "   pyrocb_id event_id  full_flag_now  flag_then  pyroCb_id wildfire_id  \\\n",
       "0        114   114_28              3       True        114    22810288   \n",
       "1        114   114_28              3       True        114    22810288   \n",
       "2        114   114_28              4      False        114    22810288   \n",
       "3        114   114_28              3      False        114    22810288   \n",
       "4        114   114_28              3       True        114    22810288   \n",
       "\n",
       "          lon        lat         date    year  sat  cluster_regional  \\\n",
       "0  151.985555 -31.589875  2019.912329  2019.0  0.0                 2   \n",
       "1  151.985555 -31.589875  2019.912329  2019.0  0.0                 2   \n",
       "2  151.985555 -31.589875  2019.912329  2019.0  0.0                 2   \n",
       "3  151.985555 -31.589875  2019.912329  2019.0  0.0                 2   \n",
       "4  151.985555 -31.589875  2019.915068  2019.0  0.0                 2   \n",
       "\n",
       "   cluster_random red_flag_now  weight  \n",
       "0               0    deep conv     NaN  \n",
       "1               0    deep conv     NaN  \n",
       "2               0       pyrocb     NaN  \n",
       "3               0    deep conv     NaN  \n",
       "4               0    deep conv     NaN  "
      ]
     },
     "execution_count": 137,
     "metadata": {},
     "output_type": "execute_result"
    }
   ],
   "source": [
    "event_df.head()"
   ]
  },
  {
   "cell_type": "markdown",
   "id": "754092c9",
   "metadata": {},
   "source": [
    "## Conditional independence test Y indep E | X based on delong test for diff of AUC and Random Forests"
   ]
  },
  {
   "cell_type": "markdown",
   "id": "d34eb9bb",
   "metadata": {},
   "source": [
    "### Obtain out-of-sample probability of ocurrence using random forest with an without environment E variables"
   ]
  },
  {
   "cell_type": "code",
   "execution_count": 138,
   "id": "548dfc4d-fa82-4905-8f99-6c7a02545802",
   "metadata": {},
   "outputs": [
    {
     "name": "stdout",
     "output_type": "stream",
     "text": [
      "elapsed time:  48.947426319122314\n"
     ]
    }
   ],
   "source": [
    "\n",
    "start_time = time.time()\n",
    "y_pred_noE = getTestProbsWrapper(cube, labels, event_df, cluster_var, indxIncl, posts, numTrees=100)\n",
    "y_pred_E = getTestProbsWrapper(cube, labels, event_df, cluster_var, indxIncl, posts, numTrees=100, envVar=envVars[:,0:3])\n",
    "elapsed_time = time.time() - start_time\n",
    "print(\"elapsed time: \", elapsed_time) # 30 secs for 5 folds, 10 combs each\n",
    "\n"
   ]
  },
  {
   "cell_type": "code",
   "execution_count": 139,
   "id": "369b09de-4230-4301-b69b-7f3a4fab664b",
   "metadata": {},
   "outputs": [
    {
     "data": {
      "text/plain": [
       "33.333333333333336"
      ]
     },
     "execution_count": 139,
     "metadata": {},
     "output_type": "execute_result"
    }
   ],
   "source": [
    "4000*30/60/60 # hours"
   ]
  },
  {
   "cell_type": "code",
   "execution_count": 140,
   "id": "fb3e6753-1740-409a-b404-4e44c3567c3b",
   "metadata": {},
   "outputs": [
    {
     "data": {
      "text/plain": [
       "list"
      ]
     },
     "execution_count": 140,
     "metadata": {},
     "output_type": "execute_result"
    }
   ],
   "source": [
    "type(indxIncl)"
   ]
  },
  {
   "cell_type": "code",
   "execution_count": 141,
   "id": "c3e0a16e-5aa0-4ffc-9a5d-ce056593c360",
   "metadata": {},
   "outputs": [
    {
     "data": {
      "text/plain": [
       "0.9023607749266155"
      ]
     },
     "execution_count": 141,
     "metadata": {},
     "output_type": "execute_result"
    }
   ],
   "source": [
    "roc_auc_score(labels, y_pred_noE)"
   ]
  },
  {
   "cell_type": "code",
   "execution_count": 142,
   "id": "603e34f1-7714-4387-855f-0639c58f13b1",
   "metadata": {},
   "outputs": [
    {
     "data": {
      "text/plain": [
       "0.9029231515017168"
      ]
     },
     "execution_count": 142,
     "metadata": {},
     "output_type": "execute_result"
    }
   ],
   "source": [
    "roc_auc_score(labels, y_pred_E)"
   ]
  },
  {
   "cell_type": "code",
   "execution_count": 143,
   "id": "2b686575-22c6-4886-9699-2a101bac30ad",
   "metadata": {},
   "outputs": [
    {
     "data": {
      "text/plain": [
       "0.8157904386520386"
      ]
     },
     "execution_count": 143,
     "metadata": {},
     "output_type": "execute_result"
    }
   ],
   "source": [
    "elapsed_time/60 #3.4 mins for 500 trees, 41 secs for 100 trees"
   ]
  },
  {
   "cell_type": "code",
   "execution_count": 144,
   "id": "861d70b6-c7c6-412a-88d9-f4b301301c31",
   "metadata": {},
   "outputs": [
    {
     "data": {
      "text/plain": [
       "6.322375899553299"
      ]
     },
     "execution_count": 144,
     "metadata": {},
     "output_type": "execute_result"
    }
   ],
   "source": [
    "np.sum(np.arange(len(varss))+1)*elapsed_time/60/60 #5 hours for greedy algo"
   ]
  },
  {
   "cell_type": "code",
   "execution_count": 145,
   "id": "a52bae27-6061-4c90-b05c-7464d13e6645",
   "metadata": {},
   "outputs": [
    {
     "data": {
      "text/plain": [
       "30"
      ]
     },
     "execution_count": 145,
     "metadata": {},
     "output_type": "execute_result"
    }
   ],
   "source": [
    "len(varss)"
   ]
  },
  {
   "cell_type": "code",
   "execution_count": 146,
   "id": "c2711f5b-4955-4214-98e4-ae249e6b6ddb",
   "metadata": {},
   "outputs": [
    {
     "data": {
      "text/plain": [
       "['ch1',\n",
       " 'ch2',\n",
       " 'ch3',\n",
       " 'ch4',\n",
       " 'ch5',\n",
       " 'ch6',\n",
       " 'u10',\n",
       " 'v10',\n",
       " 'fg10',\n",
       " 'blh',\n",
       " 'cape',\n",
       " 'cin',\n",
       " 'z',\n",
       " 'slhf',\n",
       " 'sshf',\n",
       " 'w',\n",
       " 'u',\n",
       " 'v',\n",
       " 'cvh',\n",
       " 'cvl',\n",
       " 'tvh',\n",
       " 'tvl',\n",
       " 'r650',\n",
       " 'r750',\n",
       " 'r850',\n",
       " 'uv10',\n",
       " 'uv250',\n",
       " 'alt',\n",
       " 'typeH',\n",
       " 'typeL']"
      ]
     },
     "execution_count": 146,
     "metadata": {},
     "output_type": "execute_result"
    }
   ],
   "source": [
    "varss"
   ]
  },
  {
   "cell_type": "code",
   "execution_count": 147,
   "id": "789cce98-d20e-423d-b41b-d2b3c3b92de1",
   "metadata": {},
   "outputs": [],
   "source": [
    "\n",
    "def comb(n,p):\n",
    "    return math.factorial(n)/(math.factorial(n-p)*math.factorial(p))"
   ]
  },
  {
   "cell_type": "code",
   "execution_count": 148,
   "id": "86d93fd3-57e5-4940-91f7-1715a08d8c72",
   "metadata": {},
   "outputs": [
    {
     "data": {
      "text/plain": [
       "30045015.0"
      ]
     },
     "execution_count": 148,
     "metadata": {},
     "output_type": "execute_result"
    }
   ],
   "source": [
    "comb(30,10)"
   ]
  },
  {
   "cell_type": "code",
   "execution_count": 149,
   "id": "4ce49a83-241c-4acc-9d77-c4ee81e3e150",
   "metadata": {},
   "outputs": [
    {
     "data": {
      "text/plain": [
       "268435455.0"
      ]
     },
     "execution_count": 149,
     "metadata": {},
     "output_type": "execute_result"
    }
   ],
   "source": [
    "np.sum([comb(len(varss)-2,i) for i in range(len(varss)-2)])\n",
    "#1,073,741,823"
   ]
  },
  {
   "cell_type": "markdown",
   "id": "e4cf9fae",
   "metadata": {},
   "source": [
    "### given proabilities of pyroCb with and without using environment E variables obtain hypothesis test"
   ]
  },
  {
   "cell_type": "code",
   "execution_count": 150,
   "id": "c9e6942f-d943-482e-b85e-e9e2a634e34f",
   "metadata": {},
   "outputs": [
    {
     "data": {
      "text/plain": [
       "{'stat': 0.43680331921220966,\n",
       " 'pval_1tail': 0.33112699581587857,\n",
       " 'pval_2tail': 0.6622539916317571,\n",
       " 'auc_E': 0.9033884685944421,\n",
       " 'auc_noE': 0.9028258019691973}"
      ]
     },
     "execution_count": 150,
     "metadata": {},
     "output_type": "execute_result"
    }
   ],
   "source": [
    "equalAUC_hypTest(y_pred_noE, y_pred_E, labels)"
   ]
  },
  {
   "cell_type": "code",
   "execution_count": 151,
   "id": "58a607ab",
   "metadata": {},
   "outputs": [
    {
     "data": {
      "text/plain": [
       "numpy.ndarray"
      ]
     },
     "execution_count": 151,
     "metadata": {},
     "output_type": "execute_result"
    }
   ],
   "source": [
    "type(labels)"
   ]
  },
  {
   "cell_type": "code",
   "execution_count": 152,
   "id": "0d8cb7d6-3aa2-4507-90e4-6dd0af891923",
   "metadata": {},
   "outputs": [],
   "source": [
    "#getHypWrapper(cube, labels, event_df, cluster_var, indxIncl, posts, envVar=envv)"
   ]
  },
  {
   "cell_type": "code",
   "execution_count": 153,
   "id": "88df473d-1ccc-4c80-a3cf-991c7f53ec6d",
   "metadata": {},
   "outputs": [
    {
     "data": {
      "text/plain": [
       "range(0, 30)"
      ]
     },
     "execution_count": 153,
     "metadata": {},
     "output_type": "execute_result"
    }
   ],
   "source": [
    "range(len(indxIncl))"
   ]
  },
  {
   "cell_type": "code",
   "execution_count": 154,
   "id": "a590edeb-234d-4974-884a-aa4b9d6639fa",
   "metadata": {},
   "outputs": [
    {
     "data": {
      "text/plain": [
       "(28,)"
      ]
     },
     "execution_count": 154,
     "metadata": {},
     "output_type": "execute_result"
    }
   ],
   "source": [
    "#indxIncl = [10,21]\n",
    "#indxIncl = [29]\n",
    "indxIncl = np.arange(len(varss)).tolist()\n",
    "indxIncl.pop(21)\n",
    "indxIncl.pop(20)\n",
    "np.array(varss)[indxIncl].shape\n"
   ]
  },
  {
   "cell_type": "code",
   "execution_count": 155,
   "id": "3c8162c0-c6ed-4b7f-97ce-2efa95e9d4f0",
   "metadata": {},
   "outputs": [
    {
     "data": {
      "text/plain": [
       "(6919, 3)"
      ]
     },
     "execution_count": 155,
     "metadata": {},
     "output_type": "execute_result"
    }
   ],
   "source": [
    "envVars[:,0:3].shape"
   ]
  },
  {
   "cell_type": "code",
   "execution_count": 156,
   "id": "5921f043-35d9-4e4f-8d69-7593e3f192b3",
   "metadata": {},
   "outputs": [
    {
     "data": {
      "text/plain": [
       "array([[ 151.98555486,  -31.58987524, 2019.91232877, 2019.        ,\n",
       "           0.        ],\n",
       "       [ 151.98555486,  -31.58987524, 2019.91232877, 2019.        ,\n",
       "           0.        ],\n",
       "       [ 151.98555486,  -31.58987524, 2019.91232877, 2019.        ,\n",
       "           0.        ],\n",
       "       [ 151.98555486,  -31.58987524, 2019.91232877, 2019.        ,\n",
       "           0.        ],\n",
       "       [ 151.98555486,  -31.58987524, 2019.91506849, 2019.        ,\n",
       "           0.        ]])"
      ]
     },
     "execution_count": 156,
     "metadata": {},
     "output_type": "execute_result"
    }
   ],
   "source": [
    "envVars[0:5,:]"
   ]
  },
  {
   "cell_type": "code",
   "execution_count": 157,
   "id": "48c7a212-ba3e-4aa0-9438-5211d895c9dc",
   "metadata": {},
   "outputs": [
    {
     "data": {
      "text/plain": [
       "array([], dtype=int64)"
      ]
     },
     "execution_count": 157,
     "metadata": {},
     "output_type": "execute_result"
    }
   ],
   "source": [
    "def allZeros(x):\n",
    "    return np.all(x==0)\n",
    "\n",
    "indxZeros, = np.where(np.apply_along_axis(allZeros, 0, cube))\n",
    "indxZeros"
   ]
  },
  {
   "cell_type": "code",
   "execution_count": 158,
   "id": "25ee5048-3522-4c81-bd9d-9b31cd9022b3",
   "metadata": {},
   "outputs": [
    {
     "data": {
      "text/plain": [
       "(6919, 318)"
      ]
     },
     "execution_count": 158,
     "metadata": {},
     "output_type": "execute_result"
    }
   ],
   "source": [
    "cube.shape"
   ]
  },
  {
   "cell_type": "markdown",
   "id": "b5ac6953",
   "metadata": {},
   "source": [
    "### obtain conditional idependence test statistic and p-values where S is all variables in cube"
   ]
  },
  {
   "cell_type": "code",
   "execution_count": 159,
   "id": "c6cd4dd1-6e80-4b66-b7d2-e72df386f50a",
   "metadata": {},
   "outputs": [
    {
     "name": "stdout",
     "output_type": "stream",
     "text": [
      "{'stat': 15.064018277269675, 'pval_1tail': 0.0, 'pval_2tail': 1.3964169741618638e-51, 'auc_E': 0.6343472232349323, 'auc_noE': 0.49189031822551654}\n",
      "elapsed time:  56.633333683013916\n"
     ]
    }
   ],
   "source": [
    "start_time = time.time()\n",
    "print(getHypWrapper(cube, labels, envVars[:,0:3], event_df, cluster_var, [], posts, numTrees=100))\n",
    "elapsed_time = time.time() - start_time\n",
    "print(\"elapsed time: \", elapsed_time) # 30 secs for 5 folds, 10 combs each\n",
    "\n"
   ]
  },
  {
   "cell_type": "markdown",
   "id": "685b97ad",
   "metadata": {},
   "source": [
    "## Greedy ICP algorithm"
   ]
  },
  {
   "cell_type": "code",
   "execution_count": 160,
   "id": "f3dbf040",
   "metadata": {},
   "outputs": [],
   "source": [
    "varss  = img_varss+met_varss\n",
    "indxIncl = np.arange(len(varss)).tolist()\n",
    "cluster_var = \"cluster_random\""
   ]
  },
  {
   "cell_type": "code",
   "execution_count": 161,
   "id": "6af6545c",
   "metadata": {},
   "outputs": [
    {
     "data": {
      "text/plain": [
       "array([  0,  11,  22,  33,  44,  55,  66,  77,  88,  99, 110, 121, 132,\n",
       "       143, 154, 165, 176, 187, 198, 209, 220, 231, 242, 253, 264, 275,\n",
       "       286, 297, 308, 312, 318])"
      ]
     },
     "execution_count": 161,
     "metadata": {},
     "output_type": "execute_result"
    }
   ],
   "source": [
    "posts =np.arange(0,cube.shape[1]+1-10, 11)\n",
    "posts = np.array(posts.tolist()+[posts[posts.shape[0]-1]+4,posts[posts.shape[0]-1]+10])\n",
    "posts"
   ]
  },
  {
   "cell_type": "code",
   "execution_count": 162,
   "id": "4596479b-ff55-4673-a358-72cb29176627",
   "metadata": {},
   "outputs": [
    {
     "name": "stdout",
     "output_type": "stream",
     "text": [
      "elapsed time:  4.9591064453125e-05\n"
     ]
    }
   ],
   "source": [
    "start_time = time.time()\n",
    "#res = greedyICP(cube, labels, envVars[:,0:3], event_df, cluster_var, indxIncl, posts, varss, numTrees=100, pvalTest=\"pval_1tail\")\n",
    "elapsed_time = time.time() - start_time\n",
    "print(\"elapsed time: \", elapsed_time) # 30 secs for 5 folds, 10 combs each\n",
    "\n",
    "\n"
   ]
  },
  {
   "cell_type": "code",
   "execution_count": 163,
   "id": "2ef9e31e",
   "metadata": {},
   "outputs": [
    {
     "data": {
      "text/plain": [
       "numpy.ndarray"
      ]
     },
     "execution_count": 163,
     "metadata": {},
     "output_type": "execute_result"
    }
   ],
   "source": [
    "type(posts)"
   ]
  },
  {
   "cell_type": "code",
   "execution_count": 164,
   "id": "75503dde-9eb3-4f71-a292-106788da6cd4",
   "metadata": {},
   "outputs": [],
   "source": [
    "results_root = \"/home/emiliano/Documents/FDL/clean_code/results/\"\n",
    "version = \"v_1Tail_0\"\n",
    "file = \"greedyICP\"\n",
    "fileRes = results_root+file+\"_\"+version+\"_pvals.pkl\" \n",
    "\n"
   ]
  },
  {
   "cell_type": "code",
   "execution_count": 165,
   "id": "33922501-6b31-42a7-800f-ca608ead265f",
   "metadata": {},
   "outputs": [],
   "source": [
    "#with open(fileRes, 'wb') as output:  # Overwrites any existing file.\n",
    "#        pickle.dump(res, output, pickle.HIGHEST_PROTOCOL)\n"
   ]
  },
  {
   "cell_type": "code",
   "execution_count": 166,
   "id": "1bd1a498-cf74-44a9-bc38-5031be10f8cf",
   "metadata": {},
   "outputs": [],
   "source": [
    "res = pickle5.load( open( fileRes, \"rb\" ) )"
   ]
  },
  {
   "cell_type": "code",
   "execution_count": 167,
   "id": "86d1ab31-dcdd-4b59-8fb4-e5aac15922fd",
   "metadata": {},
   "outputs": [],
   "source": [
    "res[\"auc_E\"][len(res[\"auc_E\"])-1] = np.nan\n",
    "res[\"auc_noE\"][len(res[\"auc_noE\"])-1] = np.nan"
   ]
  },
  {
   "cell_type": "code",
   "execution_count": 168,
   "id": "30cc4f5b",
   "metadata": {},
   "outputs": [
    {
     "data": {
      "text/plain": [
       "{'indxVar': [7,\n",
       "  11,\n",
       "  2,\n",
       "  26,\n",
       "  1,\n",
       "  4,\n",
       "  13,\n",
       "  23,\n",
       "  8,\n",
       "  22,\n",
       "  16,\n",
       "  3,\n",
       "  18,\n",
       "  29,\n",
       "  28,\n",
       "  19,\n",
       "  15,\n",
       "  9,\n",
       "  25,\n",
       "  12,\n",
       "  0,\n",
       "  6,\n",
       "  14,\n",
       "  24,\n",
       "  17,\n",
       "  5,\n",
       "  10,\n",
       "  27],\n",
       " 'pval': [0.9970881518893356,\n",
       "  0.952974630086952,\n",
       "  0.9876114077954912,\n",
       "  0.9915727932203089,\n",
       "  0.9888641937906915,\n",
       "  0.9972830498084125,\n",
       "  0.9247900033327765,\n",
       "  0.6989058049989874,\n",
       "  0.9978588046263228,\n",
       "  0.9408609662986253,\n",
       "  0.8605459146123757,\n",
       "  0.9716214322646464,\n",
       "  0.8032961390320478,\n",
       "  0.793116974660327,\n",
       "  0.9942265283278617,\n",
       "  0.7065646715244065,\n",
       "  0.7746215887661947,\n",
       "  0.4588607822193832,\n",
       "  0.7420020001860061,\n",
       "  0.2669457043271346,\n",
       "  0.2735975022798396,\n",
       "  0.18113949148218245,\n",
       "  0.002270971804075428,\n",
       "  0.006783507658306931,\n",
       "  6.400589030564063e-06,\n",
       "  0.0,\n",
       "  0.0,\n",
       "  nan],\n",
       " 'auc_E': [0.8982943607133851,\n",
       "  0.8988468918868373,\n",
       "  0.8968999908381099,\n",
       "  0.8973681592804659,\n",
       "  0.8976664098545359,\n",
       "  0.8972516015848522,\n",
       "  0.8986993316327998,\n",
       "  0.8957557281408901,\n",
       "  0.895426475008396,\n",
       "  0.8926053912425662,\n",
       "  0.8923786850340902,\n",
       "  0.8901602134976285,\n",
       "  0.8898413939184501,\n",
       "  0.8903158224927955,\n",
       "  0.8896285494308077,\n",
       "  0.8898799980657186,\n",
       "  0.8907611861686183,\n",
       "  0.8888886614499563,\n",
       "  0.8869065844214781,\n",
       "  0.8885282567082763,\n",
       "  0.8841750801634025,\n",
       "  0.8812170187476127,\n",
       "  0.873184971303589,\n",
       "  0.8622237782915364,\n",
       "  0.8618180621183135,\n",
       "  0.8117000416135995,\n",
       "  0.7604692081223751,\n",
       "  nan],\n",
       " 'auc_noE': [0.9022355609530466,\n",
       "  0.9010194557887097,\n",
       "  0.8999394339697631,\n",
       "  0.9005240110569709,\n",
       "  0.9006553247779883,\n",
       "  0.9006855820826041,\n",
       "  0.9006128453109169,\n",
       "  0.8964588005836132,\n",
       "  0.8992108738467971,\n",
       "  0.8948584425557318,\n",
       "  0.8938493688993325,\n",
       "  0.8925772206486136,\n",
       "  0.8910577971843103,\n",
       "  0.8914271449716895,\n",
       "  0.8928428291058815,\n",
       "  0.890644479422243,\n",
       "  0.8917754766016754,\n",
       "  0.8887466160740998,\n",
       "  0.8878043171589216,\n",
       "  0.8876855237018831,\n",
       "  0.8832660195680733,\n",
       "  0.8798469441464869,\n",
       "  0.8690868206119058,\n",
       "  0.8583937699200691,\n",
       "  0.8550647211585217,\n",
       "  0.7927863942642467,\n",
       "  0.6985812451728725,\n",
       "  nan]}"
      ]
     },
     "execution_count": 168,
     "metadata": {},
     "output_type": "execute_result"
    }
   ],
   "source": [
    "res"
   ]
  },
  {
   "cell_type": "code",
   "execution_count": 169,
   "id": "085a7116-cb9c-45db-b04d-1018ef58112c",
   "metadata": {},
   "outputs": [
    {
     "data": {
      "text/plain": [
       "dict_keys(['indxVar', 'pval', 'auc_E', 'auc_noE'])"
      ]
     },
     "execution_count": 169,
     "metadata": {},
     "output_type": "execute_result"
    }
   ],
   "source": [
    "res.keys()"
   ]
  },
  {
   "cell_type": "code",
   "execution_count": 170,
   "id": "6d2d0ac0-51bc-4b3a-83c3-e1a1c513fa68",
   "metadata": {
    "scrolled": true
   },
   "outputs": [
    {
     "data": {
      "text/plain": [
       "<matplotlib.collections.PathCollection at 0x7ff178650890>"
      ]
     },
     "execution_count": 170,
     "metadata": {},
     "output_type": "execute_result"
    },
    {
     "data": {
      "image/png": "[encoded data removed]",
      "text/plain": [
       "<Figure size 432x288 with 1 Axes>"
      ]
     },
     "metadata": {
      "needs_background": "light"
     },
     "output_type": "display_data"
    }
   ],
   "source": [
    "plt.scatter(np.array(varss)[res[\"indxVar\"]], res[\"pval\"])"
   ]
  },
  {
   "cell_type": "code",
   "execution_count": 171,
   "id": "3f93eb60-4d42-481a-a52f-c6e51d3dc3ce",
   "metadata": {},
   "outputs": [
    {
     "name": "stderr",
     "output_type": "stream",
     "text": [
      "/home/emiliano/anaconda3/lib/python3.7/site-packages/ipykernel_launcher.py:1: RuntimeWarning: divide by zero encountered in log\n",
      "  \"\"\"Entry point for launching an IPython kernel.\n"
     ]
    },
    {
     "data": {
      "text/plain": [
       "<matplotlib.collections.PathCollection at 0x7ff178456d90>"
      ]
     },
     "execution_count": 171,
     "metadata": {},
     "output_type": "execute_result"
    },
    {
     "data": {
      "image/png": "[encoded data removed]",
      "text/plain": [
       "<Figure size 432x288 with 1 Axes>"
      ]
     },
     "metadata": {
      "needs_background": "light"
     },
     "output_type": "display_data"
    }
   ],
   "source": [
    "plt.scatter(np.array(varss)[res[\"indxVar\"]], np.log(res[\"pval\"]))"
   ]
  },
  {
   "cell_type": "markdown",
   "id": "8b593e85",
   "metadata": {},
   "source": [
    "## Get AUC for model with novars and with only E vars"
   ]
  },
  {
   "cell_type": "markdown",
   "id": "41a57ce3",
   "metadata": {},
   "source": [
    "### Get figure 2 from paper"
   ]
  },
  {
   "cell_type": "code",
   "execution_count": 172,
   "id": "2292f609-0073-4308-9e82-5e0f64ca338e",
   "metadata": {},
   "outputs": [
    {
     "data": {
      "text/html": [
       "<div>\n",
       "<style scoped>\n",
       "    .dataframe tbody tr th:only-of-type {\n",
       "        vertical-align: middle;\n",
       "    }\n",
       "\n",
       "    .dataframe tbody tr th {\n",
       "        vertical-align: top;\n",
       "    }\n",
       "\n",
       "    .dataframe thead th {\n",
       "        text-align: right;\n",
       "    }\n",
       "</style>\n",
       "<table border=\"1\" class=\"dataframe\">\n",
       "  <thead>\n",
       "    <tr style=\"text-align: right;\">\n",
       "      <th></th>\n",
       "      <th>var</th>\n",
       "      <th>pval</th>\n",
       "      <th>auc_noE</th>\n",
       "      <th>auc_E</th>\n",
       "    </tr>\n",
       "  </thead>\n",
       "  <tbody>\n",
       "    <tr>\n",
       "      <th>0</th>\n",
       "      <td>v10</td>\n",
       "      <td>0.997088</td>\n",
       "      <td>0.902236</td>\n",
       "      <td>0.898294</td>\n",
       "    </tr>\n",
       "    <tr>\n",
       "      <th>1</th>\n",
       "      <td>cin</td>\n",
       "      <td>0.952975</td>\n",
       "      <td>0.901019</td>\n",
       "      <td>0.898847</td>\n",
       "    </tr>\n",
       "    <tr>\n",
       "      <th>2</th>\n",
       "      <td>ch3</td>\n",
       "      <td>0.987611</td>\n",
       "      <td>0.899939</td>\n",
       "      <td>0.896900</td>\n",
       "    </tr>\n",
       "    <tr>\n",
       "      <th>3</th>\n",
       "      <td>uv250</td>\n",
       "      <td>0.991573</td>\n",
       "      <td>0.900524</td>\n",
       "      <td>0.897368</td>\n",
       "    </tr>\n",
       "    <tr>\n",
       "      <th>4</th>\n",
       "      <td>ch2</td>\n",
       "      <td>0.988864</td>\n",
       "      <td>0.900655</td>\n",
       "      <td>0.897666</td>\n",
       "    </tr>\n",
       "  </tbody>\n",
       "</table>\n",
       "</div>"
      ],
      "text/plain": [
       "     var      pval   auc_noE     auc_E\n",
       "0    v10  0.997088  0.902236  0.898294\n",
       "1    cin  0.952975  0.901019  0.898847\n",
       "2    ch3  0.987611  0.899939  0.896900\n",
       "3  uv250  0.991573  0.900524  0.897368\n",
       "4    ch2  0.988864  0.900655  0.897666"
      ]
     },
     "execution_count": 172,
     "metadata": {},
     "output_type": "execute_result"
    }
   ],
   "source": [
    "df = pd.DataFrame({\"var\":np.array(varss)[res[\"indxVar\"]], \"pval\":res[\"pval\"], \"auc_noE\":res[\"auc_noE\"], \"auc_E\":res[\"auc_E\"]})\n",
    "df.head()"
   ]
  },
  {
   "cell_type": "code",
   "execution_count": 173,
   "id": "f31f2189-b4bf-4e4e-941c-a271ba5ab75d",
   "metadata": {},
   "outputs": [
    {
     "data": {
      "text/plain": [
       "'../data/'"
      ]
     },
     "execution_count": 173,
     "metadata": {},
     "output_type": "execute_result"
    }
   ],
   "source": [
    "ML_ready_root"
   ]
  },
  {
   "cell_type": "markdown",
   "id": "35eb6df9",
   "metadata": {},
   "source": [
    "### Figure 2a"
   ]
  },
  {
   "cell_type": "code",
   "execution_count": 174,
   "id": "69104ee1-14ec-4415-bae6-e217b693ab0c",
   "metadata": {},
   "outputs": [
    {
     "data": {
      "text/plain": [
       "<matplotlib.legend.Legend at 0x7ff178353e50>"
      ]
     },
     "execution_count": 174,
     "metadata": {},
     "output_type": "execute_result"
    },
    {
     "data": {
      "image/png": "[encoded data removed]",
      "text/plain": [
       "<Figure size 432x288 with 1 Axes>"
      ]
     },
     "metadata": {
      "needs_background": "light"
     },
     "output_type": "display_data"
    }
   ],
   "source": [
    "df2 = df.copy()\n",
    "df2[\"dummy\"] = 1\n",
    "g = sns.stripplot(data=df2, x=\"var\", y=\"pval\", hue=\"dummy\",size=10)\n",
    "plt.xticks(rotation=90)\n",
    "plt.xticks(size=12)\n",
    "plt.xlabel(\"excluded variable\",size=20)\n",
    "plt.ylabel(\"p-value\",size=20)\n",
    "#g.set(xlabel='excluded variable', ylabel='p-value')\n",
    "#plt.legend(bbox_to_anchor=(1.25, 1),borderaxespad=0)\n",
    "plt.legend([],[], frameon=False)\n",
    "#plt.savefig(ML_ready_root+\"results/greedyICP_pval.png\", format='png', dpi=300)"
   ]
  },
  {
   "cell_type": "code",
   "execution_count": 175,
   "id": "47eb6041-9409-4892-80a2-240033ffc439",
   "metadata": {},
   "outputs": [
    {
     "data": {
      "text/html": [
       "<div>\n",
       "<style scoped>\n",
       "    .dataframe tbody tr th:only-of-type {\n",
       "        vertical-align: middle;\n",
       "    }\n",
       "\n",
       "    .dataframe tbody tr th {\n",
       "        vertical-align: top;\n",
       "    }\n",
       "\n",
       "    .dataframe thead th {\n",
       "        text-align: right;\n",
       "    }\n",
       "</style>\n",
       "<table border=\"1\" class=\"dataframe\">\n",
       "  <thead>\n",
       "    <tr style=\"text-align: right;\">\n",
       "      <th></th>\n",
       "      <th>var</th>\n",
       "      <th>variable</th>\n",
       "      <th>value</th>\n",
       "    </tr>\n",
       "  </thead>\n",
       "  <tbody>\n",
       "    <tr>\n",
       "      <th>0</th>\n",
       "      <td>v10</td>\n",
       "      <td>pval</td>\n",
       "      <td>0.997088</td>\n",
       "    </tr>\n",
       "    <tr>\n",
       "      <th>1</th>\n",
       "      <td>cin</td>\n",
       "      <td>pval</td>\n",
       "      <td>0.952975</td>\n",
       "    </tr>\n",
       "    <tr>\n",
       "      <th>2</th>\n",
       "      <td>ch3</td>\n",
       "      <td>pval</td>\n",
       "      <td>0.987611</td>\n",
       "    </tr>\n",
       "    <tr>\n",
       "      <th>3</th>\n",
       "      <td>uv250</td>\n",
       "      <td>pval</td>\n",
       "      <td>0.991573</td>\n",
       "    </tr>\n",
       "    <tr>\n",
       "      <th>4</th>\n",
       "      <td>ch2</td>\n",
       "      <td>pval</td>\n",
       "      <td>0.988864</td>\n",
       "    </tr>\n",
       "  </tbody>\n",
       "</table>\n",
       "</div>"
      ],
      "text/plain": [
       "     var variable     value\n",
       "0    v10     pval  0.997088\n",
       "1    cin     pval  0.952975\n",
       "2    ch3     pval  0.987611\n",
       "3  uv250     pval  0.991573\n",
       "4    ch2     pval  0.988864"
      ]
     },
     "execution_count": 175,
     "metadata": {},
     "output_type": "execute_result"
    }
   ],
   "source": [
    "df  =pd.melt(df, id_vars=\"var\")\n",
    "df.head()"
   ]
  },
  {
   "cell_type": "markdown",
   "id": "45319a7b",
   "metadata": {},
   "source": [
    "### Figure 2b"
   ]
  },
  {
   "cell_type": "code",
   "execution_count": 176,
   "id": "963fe0f7-aef9-4ce7-b63e-88290f0a03c4",
   "metadata": {
    "scrolled": true
   },
   "outputs": [
    {
     "data": {
      "text/plain": [
       "[None, None]"
      ]
     },
     "execution_count": 176,
     "metadata": {},
     "output_type": "execute_result"
    },
    {
     "data": {
      "image/png": "[encoded data removed]",
      "text/plain": [
       "<Figure size 432x288 with 1 Axes>"
      ]
     },
     "metadata": {
      "needs_background": "light"
     },
     "output_type": "display_data"
    }
   ],
   "source": [
    "g = sns.stripplot(data=df.loc[df.variable!=\"pval\"], x=\"var\", y=\"value\", hue=\"variable\", size=8)\n",
    "plt.xticks(rotation=90)\n",
    "plt.xticks(size=12)\n",
    "plt.xlabel(\"excluded variable\",size=20)\n",
    "plt.ylabel(\"auc\",size=20)\n",
    "plt.setp(g.get_legend().get_texts(), fontsize='18') # for legend text\n",
    "plt.setp(g.get_legend().get_title(), fontsize='20') # for legend title\n",
    "#g.set(xlabel='excluded variable', ylabel='p-value')\n",
    "#plt.legend(bbox_to_anchor=(1.25, 1),borderaxespad=0)\n",
    "#plt.savefig(ML_ready_root+\"results/greedyICP_auc.png\", format='png', dpi=300)"
   ]
  },
  {
   "cell_type": "code",
   "execution_count": 177,
   "id": "97d4ad4a-1a6b-4687-a8b4-ced11cffd1e7",
   "metadata": {},
   "outputs": [
    {
     "data": {
      "text/plain": [
       "28"
      ]
     },
     "execution_count": 177,
     "metadata": {},
     "output_type": "execute_result"
    }
   ],
   "source": [
    "len(res[\"indxVar\"])"
   ]
  },
  {
   "cell_type": "code",
   "execution_count": 178,
   "id": "ed6b711f-050d-4169-af8b-34e6486381eb",
   "metadata": {},
   "outputs": [
    {
     "data": {
      "text/plain": [
       "2509.0"
      ]
     },
     "execution_count": 178,
     "metadata": {},
     "output_type": "execute_result"
    }
   ],
   "source": [
    "np.sum([comb(12,i) for i in range(6,12)])\n",
    "# 793"
   ]
  },
  {
   "cell_type": "code",
   "execution_count": 179,
   "id": "912627e6-1b7b-4fd7-bd82-8d86956ffe58",
   "metadata": {},
   "outputs": [
    {
     "data": {
      "text/plain": [
       "3.4438239203559024e-05"
      ]
     },
     "execution_count": 179,
     "metadata": {},
     "output_type": "execute_result"
    }
   ],
   "source": [
    "elapsed_time*2500/60/60 #5 hours"
   ]
  },
  {
   "cell_type": "code",
   "execution_count": 180,
   "id": "889d8fab-2613-4045-9504-fa9b8c7c9c74",
   "metadata": {},
   "outputs": [
    {
     "data": {
      "text/plain": [
       "array(['v10', 'cin', 'ch3', 'uv250', 'ch2', 'ch5', 'slhf', 'r750', 'fg10',\n",
       "       'r650', 'u', 'ch4', 'cvh', 'typeL', 'typeH', 'cvl', 'w', 'blh',\n",
       "       'uv10', 'z', 'ch1', 'u10', 'sshf', 'r850', 'v', 'ch6', 'cape',\n",
       "       'alt'], dtype='<U5')"
      ]
     },
     "execution_count": 180,
     "metadata": {},
     "output_type": "execute_result"
    }
   ],
   "source": [
    "np.array(varss)[res[\"indxVar\"]]"
   ]
  },
  {
   "cell_type": "code",
   "execution_count": 181,
   "id": "b3f083fa-de39-4581-9370-0529cc5eebb3",
   "metadata": {},
   "outputs": [
    {
     "data": {
      "text/plain": [
       "array(['v10', 'cin', 'ch3', 'uv250', 'ch2', 'ch5', 'slhf', 'r750', 'fg10',\n",
       "       'r650', 'u', 'ch4', 'cvh', 'typeL', 'typeH', 'cvl', 'w', 'blh',\n",
       "       'uv10', 'z', 'ch1', 'u10', 'sshf', 'r850', 'v', 'ch6', 'cape',\n",
       "       'alt'], dtype='<U5')"
      ]
     },
     "execution_count": 181,
     "metadata": {},
     "output_type": "execute_result"
    }
   ],
   "source": [
    "np.array(varss)[res[\"indxVar\"]]"
   ]
  },
  {
   "cell_type": "code",
   "execution_count": 182,
   "id": "dd7669d1-9772-4c58-89a9-85da59394a8f",
   "metadata": {},
   "outputs": [
    {
     "data": {
      "text/plain": [
       "['ch1',\n",
       " 'ch2',\n",
       " 'ch3',\n",
       " 'ch4',\n",
       " 'ch5',\n",
       " 'ch6',\n",
       " 'u10',\n",
       " 'v10',\n",
       " 'fg10',\n",
       " 'blh',\n",
       " 'cape',\n",
       " 'cin',\n",
       " 'z',\n",
       " 'slhf',\n",
       " 'sshf',\n",
       " 'w',\n",
       " 'u',\n",
       " 'v',\n",
       " 'cvh',\n",
       " 'cvl',\n",
       " 'tvh',\n",
       " 'tvl',\n",
       " 'r650',\n",
       " 'r750',\n",
       " 'r850',\n",
       " 'uv10',\n",
       " 'uv250',\n",
       " 'alt',\n",
       " 'typeH',\n",
       " 'typeL']"
      ]
     },
     "execution_count": 182,
     "metadata": {},
     "output_type": "execute_result"
    }
   ],
   "source": [
    "varss"
   ]
  },
  {
   "cell_type": "code",
   "execution_count": 183,
   "id": "d9d6df69-37f8-4d36-9178-564569e2667a",
   "metadata": {},
   "outputs": [
    {
     "data": {
      "text/plain": [
       "array(['alt', 'cape', 'ch6', 'v', 'r850', 'sshf', 'u10', 'ch1', 'z',\n",
       "       'uv10', 'blh'], dtype='<U5')"
      ]
     },
     "execution_count": 183,
     "metadata": {},
     "output_type": "execute_result"
    }
   ],
   "source": [
    "np.array(varss)[res[\"indxVar\"][::-1][0:11]]"
   ]
  },
  {
   "cell_type": "code",
   "execution_count": 184,
   "id": "36b828c3-2cf4-4dad-9b7c-f508c3622ddb",
   "metadata": {},
   "outputs": [
    {
     "name": "stdout",
     "output_type": "stream",
     "text": [
      "11\n"
     ]
    },
    {
     "data": {
      "text/plain": [
       "array(['alt', 'cape', 'ch6', 'v', 'r850', 'sshf', 'u10', 'ch1', 'z',\n",
       "       'uv10', 'blh'], dtype='<U5')"
      ]
     },
     "execution_count": 184,
     "metadata": {},
     "output_type": "execute_result"
    }
   ],
   "source": [
    "indxIncl = res[\"indxVar\"][::-1][0:11]\n",
    "print(len(indxIncl))\n",
    "np.array(varss)[indxIncl]"
   ]
  },
  {
   "cell_type": "code",
   "execution_count": 185,
   "id": "2459c672-c515-4fed-ab3c-63ef776a7b35",
   "metadata": {},
   "outputs": [
    {
     "data": {
      "text/plain": [
       "[8, 9, 10, 11]"
      ]
     },
     "execution_count": 185,
     "metadata": {},
     "output_type": "execute_result"
    }
   ],
   "source": [
    "[i for i in range(8,12)]"
   ]
  },
  {
   "cell_type": "code",
   "execution_count": 186,
   "id": "718987e9",
   "metadata": {},
   "outputs": [
    {
     "data": {
      "text/plain": [
       "array(['v10', 'cin', 'ch3', 'uv250', 'ch2', 'ch5', 'slhf', 'r750', 'fg10',\n",
       "       'r650', 'u', 'ch4', 'cvh', 'typeL', 'typeH', 'cvl', 'w', 'blh',\n",
       "       'uv10', 'z', 'ch1', 'u10', 'sshf', 'r850', 'v', 'ch6', 'cape',\n",
       "       'alt'], dtype='<U5')"
      ]
     },
     "execution_count": 186,
     "metadata": {},
     "output_type": "execute_result"
    }
   ],
   "source": [
    "np.array(varss)[res[\"indxVar\"]]"
   ]
  },
  {
   "cell_type": "markdown",
   "id": "78cf9631",
   "metadata": {},
   "source": [
    "## Run exhaustive ICP on all combinations of size 8 or larger from 12 variables selected using greedy ICP"
   ]
  },
  {
   "cell_type": "code",
   "execution_count": 187,
   "id": "89701d6c-e29b-407d-90d2-c56652a0d093",
   "metadata": {},
   "outputs": [],
   "source": [
    "#varsSelec = ['v10','v','ch1','alt','sshf','u10','ch6','z','r650','cape','ch5','r850']#\n",
    "varsSelec = ['alt', 'cape', 'ch6', 'v', 'r850', 'sshf', 'u10', 'ch1', 'z','uv10', 'blh']"
   ]
  },
  {
   "cell_type": "code",
   "execution_count": 188,
   "id": "a7416b24-a6a3-4743-9b77-2b98281ef106",
   "metadata": {},
   "outputs": [],
   "source": [
    "i = 0\n",
    "indxIncl = np.sort([findIndxAux(varss, varsSelec, i) for i in range(len(varsSelec))]).tolist()"
   ]
  },
  {
   "cell_type": "code",
   "execution_count": 189,
   "id": "6e28bbab-534d-4c0d-82af-9d2c9e078e93",
   "metadata": {},
   "outputs": [],
   "source": [
    "i = 8\n",
    "combos = dp.flatten([list(combinations(np.array(varss)[indxIncl], i)) for i in range(8,12)])\n",
    "#combos = dp.flatten([list(combinations(np.array(varss)[indxIncl], i)) for i in range(4,12)])"
   ]
  },
  {
   "cell_type": "code",
   "execution_count": 190,
   "id": "5a37b5e9-2163-458a-8168-d15c2a57cbd0",
   "metadata": {},
   "outputs": [
    {
     "data": {
      "text/plain": [
       "232"
      ]
     },
     "execution_count": 190,
     "metadata": {},
     "output_type": "execute_result"
    }
   ],
   "source": [
    "len(combos)"
   ]
  },
  {
   "cell_type": "code",
   "execution_count": 191,
   "id": "2e0fcae0-f53e-4a4b-85d8-65873e77cc9e",
   "metadata": {},
   "outputs": [],
   "source": [
    "combos = [list(c) for c in combos]"
   ]
  },
  {
   "cell_type": "code",
   "execution_count": 192,
   "id": "ae5a034b-fa95-48a2-825c-da70167018da",
   "metadata": {},
   "outputs": [
    {
     "name": "stdout",
     "output_type": "stream",
     "text": [
      "elapsed time:  7.081031799316406e-05\n"
     ]
    }
   ],
   "source": [
    "start_time = time.time()\n",
    "#res_ex = exhaustiveICP(cube, labels, envVars[:,0:3], event_df, cluster_var, varss, combos, posts, numTrees=100)\n",
    "elapsed_time = time.time() - start_time\n",
    "print(\"elapsed time: \", elapsed_time) # 30 secs for 5 folds, 10 combs each\n"
   ]
  },
  {
   "cell_type": "code",
   "execution_count": 193,
   "id": "720aad68-4334-4ada-aaf9-24d891687528",
   "metadata": {},
   "outputs": [],
   "source": [
    "results_root = \"/home/emiliano/Documents/FDL/clean_code/results/\"\n",
    "version = \"v_1Tail_0\"\n",
    "file = \"exhaustiveICP_8_11\"\n",
    "fileRes = results_root+file+\"_\"+version+\"_pvals.pkl\" "
   ]
  },
  {
   "cell_type": "code",
   "execution_count": 194,
   "id": "53b2356b-49a7-42ad-ae9b-bc8aa5c1772d",
   "metadata": {},
   "outputs": [],
   "source": [
    "#results_root = \"/home/jupyter/ML_ready/results/\"\n",
    "#version = \"v_1Tail_0\"\n",
    "#file = \"exhaustiveICP_8_11\"\n",
    "#fileRes = results_root+file+\"_\"+version+\"_pvals.pkl\" "
   ]
  },
  {
   "cell_type": "code",
   "execution_count": 195,
   "id": "93686b28-5566-4072-8e3f-1fb1225dd05b",
   "metadata": {},
   "outputs": [],
   "source": [
    "#with open(fileRes, 'wb') as output:  # Overwrites any existing file.\n",
    "#        pickle.dump(res_ex, output, pickle.HIGHEST_PROTOCOL)\n"
   ]
  },
  {
   "cell_type": "code",
   "execution_count": 196,
   "id": "44761ec2-0d6e-4e43-82d8-c456e6facdb6",
   "metadata": {},
   "outputs": [],
   "source": [
    "res_ex = pickle5.load( open( fileRes, \"rb\" ) )"
   ]
  },
  {
   "cell_type": "code",
   "execution_count": 197,
   "id": "37c03ae5",
   "metadata": {},
   "outputs": [
    {
     "data": {
      "text/plain": [
       "232"
      ]
     },
     "execution_count": 197,
     "metadata": {},
     "output_type": "execute_result"
    }
   ],
   "source": [
    "len(res_ex)"
   ]
  },
  {
   "cell_type": "code",
   "execution_count": 198,
   "id": "67d31406-8e52-4333-b587-299e1e3cea07",
   "metadata": {},
   "outputs": [],
   "source": [
    "sig = 0.05\n",
    "indxCombos, = np.where([r[\"pval_1tail\"]>sig for r in res_ex])"
   ]
  },
  {
   "cell_type": "code",
   "execution_count": 199,
   "id": "6195fd40-de30-45ee-8c45-2f059504f42f",
   "metadata": {},
   "outputs": [
    {
     "data": {
      "text/plain": [
       "60"
      ]
     },
     "execution_count": 199,
     "metadata": {},
     "output_type": "execute_result"
    }
   ],
   "source": [
    "combosPass = [combos[i] for i in indxCombos]\n",
    "len(combosPass)"
   ]
  },
  {
   "cell_type": "code",
   "execution_count": 200,
   "id": "2079cc2d-1b6e-4e87-870c-f0f18fe9e8c9",
   "metadata": {},
   "outputs": [
    {
     "data": {
      "text/plain": [
       "[['ch1', 'ch6', 'u10', 'blh', 'cape', 'z', 'sshf', 'r850'],\n",
       " ['ch1', 'ch6', 'u10', 'blh', 'cape', 'z', 'sshf', 'alt'],\n",
       " ['ch1', 'ch6', 'u10', 'blh', 'cape', 'z', 'v', 'r850'],\n",
       " ['ch1', 'ch6', 'u10', 'blh', 'cape', 'z', 'r850', 'uv10'],\n",
       " ['ch1', 'ch6', 'u10', 'blh', 'cape', 'sshf', 'v', 'uv10'],\n",
       " ['ch1', 'ch6', 'u10', 'blh', 'cape', 'sshf', 'r850', 'alt'],\n",
       " ['ch1', 'ch6', 'u10', 'blh', 'cape', 'v', 'r850', 'uv10'],\n",
       " ['ch1', 'ch6', 'u10', 'blh', 'cape', 'v', 'uv10', 'alt'],\n",
       " ['ch1', 'ch6', 'u10', 'blh', 'cape', 'r850', 'uv10', 'alt'],\n",
       " ['ch1', 'ch6', 'u10', 'blh', 'z', 'sshf', 'v', 'r850'],\n",
       " ['ch1', 'ch6', 'u10', 'blh', 'z', 'v', 'r850', 'alt'],\n",
       " ['ch1', 'ch6', 'u10', 'blh', 'sshf', 'v', 'uv10', 'alt'],\n",
       " ['ch1', 'ch6', 'u10', 'cape', 'z', 'sshf', 'v', 'r850'],\n",
       " ['ch1', 'ch6', 'u10', 'cape', 'sshf', 'v', 'r850', 'uv10'],\n",
       " ['ch1', 'ch6', 'u10', 'z', 'sshf', 'r850', 'uv10', 'alt'],\n",
       " ['ch1', 'ch6', 'u10', 'z', 'v', 'r850', 'uv10', 'alt'],\n",
       " ['ch1', 'ch6', 'blh', 'cape', 'z', 'sshf', 'v', 'r850'],\n",
       " ['ch1', 'ch6', 'blh', 'cape', 'z', 'sshf', 'v', 'uv10'],\n",
       " ['ch1', 'ch6', 'blh', 'cape', 'z', 'r850', 'uv10', 'alt'],\n",
       " ['ch1', 'ch6', 'blh', 'z', 'sshf', 'v', 'r850', 'alt'],\n",
       " ['ch1', 'ch6', 'cape', 'z', 'sshf', 'v', 'r850', 'uv10'],\n",
       " ['ch1', 'ch6', 'cape', 'sshf', 'v', 'r850', 'uv10', 'alt'],\n",
       " ['ch1', 'u10', 'blh', 'cape', 'z', 'v', 'r850', 'uv10'],\n",
       " ['ch1', 'blh', 'cape', 'sshf', 'v', 'r850', 'uv10', 'alt'],\n",
       " ['ch6', 'u10', 'blh', 'cape', 'z', 'v', 'r850', 'uv10'],\n",
       " ['ch6', 'u10', 'blh', 'cape', 'sshf', 'v', 'r850', 'alt'],\n",
       " ['ch6', 'u10', 'blh', 'cape', 'sshf', 'r850', 'uv10', 'alt'],\n",
       " ['ch6', 'u10', 'blh', 'z', 'sshf', 'v', 'r850', 'alt'],\n",
       " ['ch6', 'u10', 'blh', 'z', 'v', 'r850', 'uv10', 'alt'],\n",
       " ['ch6', 'blh', 'cape', 'z', 'v', 'r850', 'uv10', 'alt'],\n",
       " ['ch1', 'ch6', 'u10', 'blh', 'cape', 'z', 'sshf', 'r850', 'uv10'],\n",
       " ['ch1', 'ch6', 'u10', 'blh', 'cape', 'z', 'sshf', 'r850', 'alt'],\n",
       " ['ch1', 'ch6', 'u10', 'blh', 'cape', 'z', 'v', 'r850', 'uv10'],\n",
       " ['ch1', 'ch6', 'u10', 'blh', 'cape', 'z', 'v', 'uv10', 'alt'],\n",
       " ['ch1', 'ch6', 'u10', 'blh', 'cape', 'z', 'r850', 'uv10', 'alt'],\n",
       " ['ch1', 'ch6', 'u10', 'blh', 'cape', 'sshf', 'v', 'uv10', 'alt'],\n",
       " ['ch1', 'ch6', 'u10', 'blh', 'cape', 'sshf', 'r850', 'uv10', 'alt'],\n",
       " ['ch1', 'ch6', 'u10', 'blh', 'cape', 'v', 'r850', 'uv10', 'alt'],\n",
       " ['ch1', 'ch6', 'u10', 'blh', 'z', 'sshf', 'v', 'r850', 'uv10'],\n",
       " ['ch1', 'ch6', 'u10', 'blh', 'z', 'sshf', 'v', 'uv10', 'alt'],\n",
       " ['ch1', 'ch6', 'u10', 'blh', 'z', 'sshf', 'r850', 'uv10', 'alt'],\n",
       " ['ch1', 'ch6', 'u10', 'blh', 'z', 'v', 'r850', 'uv10', 'alt'],\n",
       " ['ch1', 'ch6', 'u10', 'blh', 'sshf', 'v', 'r850', 'uv10', 'alt'],\n",
       " ['ch1', 'ch6', 'u10', 'cape', 'z', 'v', 'r850', 'uv10', 'alt'],\n",
       " ['ch1', 'ch6', 'u10', 'z', 'sshf', 'v', 'r850', 'uv10', 'alt'],\n",
       " ['ch1', 'ch6', 'blh', 'cape', 'z', 'sshf', 'r850', 'uv10', 'alt'],\n",
       " ['ch1', 'ch6', 'blh', 'cape', 'sshf', 'v', 'r850', 'uv10', 'alt'],\n",
       " ['ch1', 'ch6', 'blh', 'z', 'sshf', 'v', 'r850', 'uv10', 'alt'],\n",
       " ['ch1', 'u10', 'blh', 'cape', 'z', 'sshf', 'r850', 'uv10', 'alt'],\n",
       " ['ch1', 'u10', 'blh', 'cape', 'z', 'v', 'r850', 'uv10', 'alt'],\n",
       " ['ch1', 'u10', 'blh', 'cape', 'sshf', 'v', 'r850', 'uv10', 'alt'],\n",
       " ['ch1', 'u10', 'blh', 'z', 'sshf', 'v', 'r850', 'uv10', 'alt'],\n",
       " ['ch1', 'u10', 'cape', 'z', 'sshf', 'v', 'r850', 'uv10', 'alt'],\n",
       " ['ch6', 'u10', 'blh', 'cape', 'z', 'sshf', 'r850', 'uv10', 'alt'],\n",
       " ['ch6', 'blh', 'cape', 'z', 'sshf', 'v', 'r850', 'uv10', 'alt'],\n",
       " ['ch1', 'ch6', 'u10', 'blh', 'cape', 'z', 'sshf', 'v', 'uv10', 'alt'],\n",
       " ['ch1', 'ch6', 'u10', 'blh', 'cape', 'sshf', 'v', 'r850', 'uv10', 'alt'],\n",
       " ['ch1', 'ch6', 'u10', 'blh', 'z', 'sshf', 'v', 'r850', 'uv10', 'alt'],\n",
       " ['ch1', 'u10', 'blh', 'cape', 'z', 'sshf', 'v', 'r850', 'uv10', 'alt'],\n",
       " ['ch1', 'ch6', 'u10', 'blh', 'cape', 'z', 'sshf', 'v', 'r850', 'uv10', 'alt']]"
      ]
     },
     "execution_count": 200,
     "metadata": {},
     "output_type": "execute_result"
    }
   ],
   "source": [
    "combosPass"
   ]
  },
  {
   "cell_type": "code",
   "execution_count": 201,
   "id": "30f2e8a2-97d5-48e3-b3ac-4da68e9c5a05",
   "metadata": {},
   "outputs": [
    {
     "data": {
      "text/plain": [
       "60"
      ]
     },
     "execution_count": 201,
     "metadata": {},
     "output_type": "execute_result"
    }
   ],
   "source": [
    "len(combosPass)"
   ]
  },
  {
   "cell_type": "code",
   "execution_count": 202,
   "id": "569591e6-9ff2-4343-b70d-196194dc773f",
   "metadata": {},
   "outputs": [
    {
     "data": {
      "text/plain": [
       "232"
      ]
     },
     "execution_count": 202,
     "metadata": {},
     "output_type": "execute_result"
    }
   ],
   "source": [
    "len(combos)"
   ]
  },
  {
   "cell_type": "code",
   "execution_count": 203,
   "id": "fa77c799-222c-416a-9e44-15e58ff2ae9c",
   "metadata": {},
   "outputs": [
    {
     "data": {
      "text/plain": [
       "array(['ch1', 'ch6', 'u10', 'blh', 'cape', 'z', 'sshf', 'v', 'r850',\n",
       "       'uv10', 'alt'], dtype='<U5')"
      ]
     },
     "execution_count": 203,
     "metadata": {},
     "output_type": "execute_result"
    }
   ],
   "source": [
    "np.array(varss)[indxIncl]"
   ]
  },
  {
   "cell_type": "code",
   "execution_count": 204,
   "id": "53b435cb-7fbb-4513-91a3-73c46f36024c",
   "metadata": {},
   "outputs": [
    {
     "data": {
      "text/html": [
       "<div>\n",
       "<style scoped>\n",
       "    .dataframe tbody tr th:only-of-type {\n",
       "        vertical-align: middle;\n",
       "    }\n",
       "\n",
       "    .dataframe tbody tr th {\n",
       "        vertical-align: top;\n",
       "    }\n",
       "\n",
       "    .dataframe thead th {\n",
       "        text-align: right;\n",
       "    }\n",
       "</style>\n",
       "<table border=\"1\" class=\"dataframe\">\n",
       "  <thead>\n",
       "    <tr style=\"text-align: right;\">\n",
       "      <th></th>\n",
       "      <th>var</th>\n",
       "      <th>freq</th>\n",
       "    </tr>\n",
       "  </thead>\n",
       "  <tbody>\n",
       "    <tr>\n",
       "      <th>0</th>\n",
       "      <td>alt</td>\n",
       "      <td>44</td>\n",
       "    </tr>\n",
       "    <tr>\n",
       "      <th>1</th>\n",
       "      <td>blh</td>\n",
       "      <td>51</td>\n",
       "    </tr>\n",
       "    <tr>\n",
       "      <th>2</th>\n",
       "      <td>cape</td>\n",
       "      <td>43</td>\n",
       "    </tr>\n",
       "    <tr>\n",
       "      <th>3</th>\n",
       "      <td>ch1</td>\n",
       "      <td>52</td>\n",
       "    </tr>\n",
       "    <tr>\n",
       "      <th>4</th>\n",
       "      <td>ch6</td>\n",
       "      <td>52</td>\n",
       "    </tr>\n",
       "    <tr>\n",
       "      <th>5</th>\n",
       "      <td>r850</td>\n",
       "      <td>51</td>\n",
       "    </tr>\n",
       "    <tr>\n",
       "      <th>6</th>\n",
       "      <td>sshf</td>\n",
       "      <td>41</td>\n",
       "    </tr>\n",
       "    <tr>\n",
       "      <th>7</th>\n",
       "      <td>u10</td>\n",
       "      <td>48</td>\n",
       "    </tr>\n",
       "    <tr>\n",
       "      <th>8</th>\n",
       "      <td>uv10</td>\n",
       "      <td>48</td>\n",
       "    </tr>\n",
       "    <tr>\n",
       "      <th>9</th>\n",
       "      <td>v</td>\n",
       "      <td>44</td>\n",
       "    </tr>\n",
       "    <tr>\n",
       "      <th>10</th>\n",
       "      <td>z</td>\n",
       "      <td>42</td>\n",
       "    </tr>\n",
       "  </tbody>\n",
       "</table>\n",
       "</div>"
      ],
      "text/plain": [
       "     var  freq\n",
       "0    alt    44\n",
       "1    blh    51\n",
       "2   cape    43\n",
       "3    ch1    52\n",
       "4    ch6    52\n",
       "5   r850    51\n",
       "6   sshf    41\n",
       "7    u10    48\n",
       "8   uv10    48\n",
       "9      v    44\n",
       "10     z    42"
      ]
     },
     "execution_count": 204,
     "metadata": {},
     "output_type": "execute_result"
    }
   ],
   "source": [
    "ids, cnts = np.unique(dp.flatten(combosPass), return_counts=True)\n",
    "df_freq = pd.DataFrame({\"var\":ids, \"freq\":cnts})\n",
    "df_freq"
   ]
  },
  {
   "cell_type": "code",
   "execution_count": 205,
   "id": "793089a7-5636-4c25-8bb4-d4437de3b6e8",
   "metadata": {},
   "outputs": [
    {
     "data": {
      "text/plain": [
       "0     44\n",
       "1     51\n",
       "2     43\n",
       "3     52\n",
       "4     52\n",
       "5     51\n",
       "6     41\n",
       "7     48\n",
       "8     48\n",
       "9     44\n",
       "10    42\n",
       "Name: freq, dtype: int64"
      ]
     },
     "execution_count": 205,
     "metadata": {},
     "output_type": "execute_result"
    }
   ],
   "source": [
    "df_freq.freq"
   ]
  },
  {
   "cell_type": "code",
   "execution_count": 206,
   "id": "f4d9bad5-fbef-4649-82da-6030d27a2547",
   "metadata": {},
   "outputs": [
    {
     "data": {
      "text/plain": [
       "<matplotlib.legend.Legend at 0x7ff1780f0c90>"
      ]
     },
     "execution_count": 206,
     "metadata": {},
     "output_type": "execute_result"
    },
    {
     "data": {
      "image/png": "[encoded data removed]",
      "text/plain": [
       "<Figure size 432x288 with 1 Axes>"
      ]
     },
     "metadata": {
      "needs_background": "light"
     },
     "output_type": "display_data"
    }
   ],
   "source": [
    "df_freq2 = df_freq.copy()\n",
    "df_freq2[\"dummy\"] = 1\n",
    "\n",
    "\n",
    "sns.barplot(data=df_freq2, x=\"var\", y=\"freq\", hue=\"dummy\")\n",
    "plt.xticks(rotation=90)\n",
    "plt.xticks(size=12)\n",
    "plt.xlabel(\"variable\",size=20)\n",
    "plt.ylabel(\"frequency\",size=20)\n",
    "plt.legend([],[], frameon=False)\n",
    "\n",
    "\n",
    "#plt.savefig(ML_ready_root+\"results/accepted_sets_freq.png\", format='png', dpi=300)"
   ]
  },
  {
   "cell_type": "code",
   "execution_count": 207,
   "id": "d03b4ed7-5af9-4d9b-b85e-16aea6bb8ef2",
   "metadata": {},
   "outputs": [
    {
     "data": {
      "text/plain": [
       "[]"
      ]
     },
     "execution_count": 207,
     "metadata": {},
     "output_type": "execute_result"
    }
   ],
   "source": [
    "cmb = combosPass[0]\n",
    "for i in range(1,len(combosPass)):\n",
    "    cmb = set(cmb).intersection(combosPass[i])\n",
    "list(cmb)"
   ]
  },
  {
   "cell_type": "code",
   "execution_count": 208,
   "id": "12841625-803f-4b9a-b647-cda95a82846d",
   "metadata": {},
   "outputs": [
    {
     "data": {
      "text/plain": [
       "'/home/emiliano/Documents/FDL/clean_code/results/exhaustiveICP_8_11_v_1Tail_0_accepted_sets.json'"
      ]
     },
     "execution_count": 208,
     "metadata": {},
     "output_type": "execute_result"
    }
   ],
   "source": [
    "results_root = \"/home/emiliano/Documents/FDL/clean_code/results/\"\n",
    "version = \"v_1Tail_0\"\n",
    "file = \"exhaustiveICP_8_11\"\n",
    "fileRes = results_root+file+\"_\"+version+\"_accepted_sets.json\" \n",
    "fileRes"
   ]
  },
  {
   "cell_type": "code",
   "execution_count": 209,
   "id": "d567edd9-afa7-413e-95d9-f59d6f2b64ea",
   "metadata": {},
   "outputs": [],
   "source": [
    "import json\n",
    "#with open(fileRes, 'w') as f:\n",
    "#    json.dump(combosPass, f)"
   ]
  },
  {
   "cell_type": "markdown",
   "id": "c8bb24c3",
   "metadata": {},
   "source": [
    "## Appendix A.2 analysis: cluster variables and apply exhaustive ICP on clusters"
   ]
  },
  {
   "cell_type": "code",
   "execution_count": 210,
   "id": "aeef12fa-d1df-45e4-9b95-73af659faedb",
   "metadata": {},
   "outputs": [],
   "source": [
    "maxSmpl = 100\n",
    "smpl = np.random.choice(cube.shape[0], size=maxSmpl, replace=False)[:,None]"
   ]
  },
  {
   "cell_type": "code",
   "execution_count": 211,
   "id": "b9cdfa9a-3381-4828-bc31-8ceb76c17a9f",
   "metadata": {},
   "outputs": [
    {
     "data": {
      "text/plain": [
       "array(['ch1', 'ch6', 'u10', 'blh', 'cape', 'z', 'sshf', 'v', 'r850',\n",
       "       'uv10', 'alt'], dtype='<U5')"
      ]
     },
     "execution_count": 211,
     "metadata": {},
     "output_type": "execute_result"
    }
   ],
   "source": [
    "np.array(varss)[indxIncl]"
   ]
  },
  {
   "cell_type": "code",
   "execution_count": 212,
   "id": "09604f60-73a9-4102-b32e-57ddaa5a8ce6",
   "metadata": {},
   "outputs": [
    {
     "data": {
      "text/plain": [
       "array([  0,  11,  22,  33,  44,  55,  66,  77,  88,  99, 110, 121, 132,\n",
       "       143, 154, 165, 176, 187, 198, 209, 220, 231, 242, 253, 264, 275,\n",
       "       286, 297, 308, 312, 318])"
      ]
     },
     "execution_count": 212,
     "metadata": {},
     "output_type": "execute_result"
    }
   ],
   "source": [
    "posts"
   ]
  },
  {
   "cell_type": "code",
   "execution_count": 213,
   "id": "be0900c5-3c6a-4d1e-9f9b-418eb8b9d444",
   "metadata": {},
   "outputs": [
    {
     "data": {
      "text/plain": [
       "[array([ 0,  1,  2,  3,  4,  5,  6,  7,  8,  9, 10]),\n",
       " array([55, 56, 57, 58, 59, 60, 61, 62, 63, 64, 65]),\n",
       " array([66, 67, 68, 69, 70, 71, 72, 73, 74, 75, 76]),\n",
       " array([ 99, 100, 101, 102, 103, 104, 105, 106, 107, 108, 109]),\n",
       " array([110, 111, 112, 113, 114, 115, 116, 117, 118, 119, 120]),\n",
       " array([132, 133, 134, 135, 136, 137, 138, 139, 140, 141, 142]),\n",
       " array([154, 155, 156, 157, 158, 159, 160, 161, 162, 163, 164]),\n",
       " array([187, 188, 189, 190, 191, 192, 193, 194, 195, 196, 197]),\n",
       " array([264, 265, 266, 267, 268, 269, 270, 271, 272, 273, 274]),\n",
       " array([275, 276, 277, 278, 279, 280, 281, 282, 283, 284, 285]),\n",
       " array([297, 298, 299, 300, 301, 302, 303, 304, 305, 306, 307])]"
      ]
     },
     "execution_count": 213,
     "metadata": {},
     "output_type": "execute_result"
    }
   ],
   "source": [
    "indxs = [np.arange(posts[indxIncl[i]],posts[indxIncl[i]+1]) for i in range(len(indxIncl))]\n",
    "indxs"
   ]
  },
  {
   "cell_type": "code",
   "execution_count": 214,
   "id": "f274c7a1",
   "metadata": {},
   "outputs": [
    {
     "name": "stderr",
     "output_type": "stream",
     "text": [
      "/home/emiliano/anaconda3/lib/python3.7/site-packages/jax/lib/xla_bridge.py:130: UserWarning: No GPU/TPU found, falling back to CPU.\n",
      "  warnings.warn('No GPU/TPU found, falling back to CPU.')\n"
     ]
    },
    {
     "data": {
      "text/plain": [
       "jax.interpreters.xla.DeviceArray"
      ]
     },
     "execution_count": 214,
     "metadata": {},
     "output_type": "execute_result"
    }
   ],
   "source": [
    "type(hsicRBF_jax(cube[smpl,indxs[1]],cube[smpl,indxs[0]][:,None]))"
   ]
  },
  {
   "cell_type": "code",
   "execution_count": 215,
   "id": "297a5968",
   "metadata": {},
   "outputs": [
    {
     "data": {
      "text/plain": [
       "jax.interpreters.xla.DeviceArray"
      ]
     },
     "execution_count": 215,
     "metadata": {},
     "output_type": "execute_result"
    }
   ],
   "source": [
    "type(sqeuclidean_distance(cube[0,:], cube[1,:]))"
   ]
  },
  {
   "cell_type": "code",
   "execution_count": 216,
   "id": "cb89516b",
   "metadata": {},
   "outputs": [
    {
     "data": {
      "text/plain": [
       "numpy.ndarray"
      ]
     },
     "execution_count": 216,
     "metadata": {},
     "output_type": "execute_result"
    }
   ],
   "source": [
    "type(cube[0,:])"
   ]
  },
  {
   "cell_type": "code",
   "execution_count": 217,
   "id": "126f8f70-01d8-48ae-b802-f1fa9adeb1fd",
   "metadata": {},
   "outputs": [],
   "source": [
    "hsicsVars = np.array([[ float(hsicRBF_jax(cube[smpl,indxs[k]],cube[smpl,indxs[j]][:,None]))  for k in range(len(indxs))] for j in range(len(indxs))])"
   ]
  },
  {
   "cell_type": "code",
   "execution_count": 218,
   "id": "19bab6ec-add0-425e-afab-2634439c9a10",
   "metadata": {},
   "outputs": [],
   "source": [
    "for i in range(hsicsVars.shape[0]):\n",
    "    hsicsVars[i,i] = np.nan"
   ]
  },
  {
   "cell_type": "markdown",
   "id": "33bf6b1f",
   "metadata": {},
   "source": [
    "### Get figure 4 from paper"
   ]
  },
  {
   "cell_type": "code",
   "execution_count": 219,
   "id": "60ebd7d2-22b6-476e-92da-4aa79dc89572",
   "metadata": {},
   "outputs": [
    {
     "data": {
      "text/plain": [
       "[[<matplotlib.axis.YTick at 0x7ff177f74990>,\n",
       "  <matplotlib.axis.YTick at 0x7ff177f64ad0>,\n",
       "  <matplotlib.axis.YTick at 0x7ff1779ecc10>,\n",
       "  <matplotlib.axis.YTick at 0x7ff1779d0510>,\n",
       "  <matplotlib.axis.YTick at 0x7ff1779d0350>,\n",
       "  <matplotlib.axis.YTick at 0x7ff17795a450>,\n",
       "  <matplotlib.axis.YTick at 0x7ff17795a950>,\n",
       "  <matplotlib.axis.YTick at 0x7ff1779652d0>,\n",
       "  <matplotlib.axis.YTick at 0x7ff177ffa690>,\n",
       "  <matplotlib.axis.YTick at 0x7ff17796d650>,\n",
       "  <matplotlib.axis.YTick at 0x7ff17796dc10>],\n",
       " [Text(0, 0, 'ch1'),\n",
       "  Text(0, 1, 'ch6'),\n",
       "  Text(0, 2, 'u10'),\n",
       "  Text(0, 3, 'blh'),\n",
       "  Text(0, 4, 'cape'),\n",
       "  Text(0, 5, 'z'),\n",
       "  Text(0, 6, 'sshf'),\n",
       "  Text(0, 7, 'v'),\n",
       "  Text(0, 8, 'r850'),\n",
       "  Text(0, 9, 'uv10'),\n",
       "  Text(0, 10, 'alt')]]"
      ]
     },
     "execution_count": 219,
     "metadata": {},
     "output_type": "execute_result"
    },
    {
     "data": {
      "image/png": "[encoded data removed]",
      "text/plain": [
       "<Figure size 432x288 with 2 Axes>"
      ]
     },
     "metadata": {
      "needs_background": "light"
     },
     "output_type": "display_data"
    }
   ],
   "source": [
    "fig, ax = plt.subplots()\n",
    "im= ax.imshow(hsicsVars)\n",
    "fig.colorbar(im)\n",
    "plt.xticks(rotation=90)\n",
    "plt.xticks(size=12)\n",
    "plt.yticks(size=12)\n",
    "ax.xaxis.set(ticks=np.arange(0, len(indxIncl)), ticklabels=np.array(varss)[indxIncl])\n",
    "ax.yaxis.set(ticks=np.arange(0, len(indxIncl)), ticklabels=np.array(varss)[indxIncl])\n",
    "#plt.savefig(ML_ready_root+\"results/hsic_12.png\", format='png', dpi=300)"
   ]
  },
  {
   "cell_type": "code",
   "execution_count": 220,
   "id": "639ddfc4-907d-4ddd-8e84-3ea78d48fd2d",
   "metadata": {},
   "outputs": [
    {
     "name": "stderr",
     "output_type": "stream",
     "text": [
      "/home/emiliano/anaconda3/lib/python3.7/site-packages/seaborn/distributions.py:2619: FutureWarning: `distplot` is a deprecated function and will be removed in a future version. Please adapt your code to use either `displot` (a figure-level function with similar flexibility) or `histplot` (an axes-level function for histograms).\n",
      "  warnings.warn(msg, FutureWarning)\n"
     ]
    },
    {
     "data": {
      "text/plain": [
       "<AxesSubplot:ylabel='Density'>"
      ]
     },
     "execution_count": 220,
     "metadata": {},
     "output_type": "execute_result"
    },
    {
     "data": {
      "image/png": "[encoded data removed]",
      "text/plain": [
       "<Figure size 432x288 with 1 Axes>"
      ]
     },
     "metadata": {
      "needs_background": "light"
     },
     "output_type": "display_data"
    }
   ],
   "source": [
    "sns.distplot(hsicsVars)"
   ]
  },
  {
   "cell_type": "markdown",
   "id": "13c0dc57",
   "metadata": {},
   "source": [
    "### Get clusters"
   ]
  },
  {
   "cell_type": "code",
   "execution_count": 221,
   "id": "120baeeb-9a89-43bb-8c1c-889e229977fb",
   "metadata": {},
   "outputs": [],
   "source": [
    "def depVars(x):\n",
    "    indx, = np.where(x>0.25)\n",
    "    return indx\n",
    "\n",
    "depGrps = [[i]+depVars(hsicsVars[i,:]).tolist() for i in range(hsicsVars.shape[0])]"
   ]
  },
  {
   "cell_type": "code",
   "execution_count": 222,
   "id": "a3db2a51-4d56-4f35-869e-23f49022b85b",
   "metadata": {},
   "outputs": [
    {
     "data": {
      "text/plain": [
       "[[0],\n",
       " [1],\n",
       " [2, 9],\n",
       " [3, 6],\n",
       " [4],\n",
       " [5, 9, 10],\n",
       " [6, 3],\n",
       " [7],\n",
       " [8],\n",
       " [9, 2, 5, 10],\n",
       " [10, 5, 9]]"
      ]
     },
     "execution_count": 222,
     "metadata": {},
     "output_type": "execute_result"
    }
   ],
   "source": [
    "depGrps"
   ]
  },
  {
   "cell_type": "code",
   "execution_count": 223,
   "id": "f753afb5-dba8-4618-b715-baec8f3ffb9f",
   "metadata": {},
   "outputs": [
    {
     "data": {
      "text/plain": [
       "False"
      ]
     },
     "execution_count": 223,
     "metadata": {},
     "output_type": "execute_result"
    }
   ],
   "source": [
    "set(depGrps[2]).issubset(depGrps[7])"
   ]
  },
  {
   "cell_type": "code",
   "execution_count": 224,
   "id": "4d4c3352-588d-4031-a046-925cf8867af9",
   "metadata": {},
   "outputs": [
    {
     "data": {
      "text/plain": [
       "array([0, 1, 4, 7, 8, 9])"
      ]
     },
     "execution_count": 224,
     "metadata": {},
     "output_type": "execute_result"
    }
   ],
   "source": [
    "i = 0\n",
    "j = list(set(np.arange(hsicsVars.shape[0]).tolist()).difference([i]))[0]\n",
    "indxKeep, = np.where([np.all(np.logical_not([set(depGrps[i]).issubset(depGrps[j]) for j in list(set(np.arange(hsicsVars.shape[0]).tolist()).difference([i]))])) for i in range(hsicsVars.shape[0])])\n",
    "indxKeep"
   ]
  },
  {
   "cell_type": "code",
   "execution_count": 225,
   "id": "8ad0dcea-999d-42e1-a0b9-0b34b765e38b",
   "metadata": {},
   "outputs": [
    {
     "data": {
      "text/plain": [
       "[[0], [1], [4], [7], [8], [9, 2, 5, 10]]"
      ]
     },
     "execution_count": 225,
     "metadata": {},
     "output_type": "execute_result"
    }
   ],
   "source": [
    "[depGrps[i] for i in indxKeep]"
   ]
  },
  {
   "cell_type": "code",
   "execution_count": 226,
   "id": "6253a9bd-eaef-42d5-b69b-224674f84861",
   "metadata": {},
   "outputs": [
    {
     "data": {
      "text/plain": [
       "[0, 1, 4, 7, 8, 9, 2, 5, 10]"
      ]
     },
     "execution_count": 226,
     "metadata": {},
     "output_type": "execute_result"
    }
   ],
   "source": [
    "dp.flatten([depGrps[i] for i in indxKeep])"
   ]
  },
  {
   "cell_type": "code",
   "execution_count": 227,
   "id": "8555a600-69c9-460c-8dfc-24374502ace6",
   "metadata": {},
   "outputs": [
    {
     "data": {
      "text/plain": [
       "11"
      ]
     },
     "execution_count": 227,
     "metadata": {},
     "output_type": "execute_result"
    }
   ],
   "source": [
    "#depGrps = [depGrps[i] for i in indxKeep]\n",
    "len(depGrps)"
   ]
  },
  {
   "cell_type": "code",
   "execution_count": 228,
   "id": "9591362e-4a89-40ae-992d-3478e195cfa6",
   "metadata": {},
   "outputs": [
    {
     "data": {
      "text/plain": [
       "[array(['ch1'], dtype='<U5'),\n",
       " array(['ch6'], dtype='<U5'),\n",
       " array(['u10', 'uv10'], dtype='<U5'),\n",
       " array(['blh', 'sshf'], dtype='<U5'),\n",
       " array(['cape'], dtype='<U5'),\n",
       " array(['z', 'uv10', 'alt'], dtype='<U5'),\n",
       " array(['sshf', 'blh'], dtype='<U5'),\n",
       " array(['v'], dtype='<U5'),\n",
       " array(['r850'], dtype='<U5'),\n",
       " array(['uv10', 'u10', 'z', 'alt'], dtype='<U5'),\n",
       " array(['alt', 'z', 'uv10'], dtype='<U5')]"
      ]
     },
     "execution_count": 228,
     "metadata": {},
     "output_type": "execute_result"
    }
   ],
   "source": [
    "[np.array(varss)[indxIncl][d] for d in depGrps]"
   ]
  },
  {
   "cell_type": "code",
   "execution_count": 229,
   "id": "48b4e863-96f4-4216-8a3c-1e27d4138263",
   "metadata": {},
   "outputs": [
    {
     "data": {
      "text/plain": [
       "[0, 5, 6, 9, 10, 12, 14, 17, 24, 25, 27]"
      ]
     },
     "execution_count": 229,
     "metadata": {},
     "output_type": "execute_result"
    }
   ],
   "source": [
    "indxIncl"
   ]
  },
  {
   "cell_type": "code",
   "execution_count": 230,
   "id": "a454f553-42fa-4195-95d4-8ce7620bac5b",
   "metadata": {},
   "outputs": [],
   "source": [
    "combosDep = dp.flatten([list(combinations(depGrps, i)) for i in range(1,12)])"
   ]
  },
  {
   "cell_type": "code",
   "execution_count": 231,
   "id": "46ea5861-b675-46de-9fad-e96ac5553957",
   "metadata": {},
   "outputs": [
    {
     "data": {
      "text/plain": [
       "2047"
      ]
     },
     "execution_count": 231,
     "metadata": {},
     "output_type": "execute_result"
    }
   ],
   "source": [
    "len(combosDep)"
   ]
  },
  {
   "cell_type": "code",
   "execution_count": 232,
   "id": "dab62983-0183-436a-aeb1-df808efa721c",
   "metadata": {},
   "outputs": [],
   "source": [
    "combosDep = [np.array(varss)[indxIncl][np.sort(np.unique(np.concatenate(list(c))))].tolist() for c in combosDep]"
   ]
  },
  {
   "cell_type": "code",
   "execution_count": 233,
   "id": "8cb5d020-880f-4f09-8e56-6efdfaa8f3a0",
   "metadata": {},
   "outputs": [],
   "source": [
    "combosDep = np.unique(['-'.join(c) for c in combosDep]).tolist()"
   ]
  },
  {
   "cell_type": "code",
   "execution_count": 234,
   "id": "608d1a3f-51fc-4958-aeb5-2cf87df258e3",
   "metadata": {},
   "outputs": [],
   "source": [
    "combosDep = [c.split(\"-\") for c in combosDep]"
   ]
  },
  {
   "cell_type": "code",
   "execution_count": 235,
   "id": "455b25c3-0036-4718-a180-0e196f1cd82e",
   "metadata": {},
   "outputs": [
    {
     "data": {
      "text/plain": [
       "255"
      ]
     },
     "execution_count": 235,
     "metadata": {},
     "output_type": "execute_result"
    }
   ],
   "source": [
    "len(combosDep)"
   ]
  },
  {
   "cell_type": "code",
   "execution_count": 236,
   "id": "07ed559c-9675-49a8-b02f-c4a8f035f101",
   "metadata": {},
   "outputs": [
    {
     "data": {
      "text/plain": [
       "[['blh', 'cape', 'sshf'],\n",
       " ['blh', 'cape', 'sshf', 'r850'],\n",
       " ['blh', 'cape', 'sshf', 'v'],\n",
       " ['blh', 'cape', 'sshf', 'v', 'r850'],\n",
       " ['blh', 'cape', 'z', 'sshf', 'r850', 'uv10', 'alt'],\n",
       " ['blh', 'cape', 'z', 'sshf', 'uv10', 'alt'],\n",
       " ['blh', 'cape', 'z', 'sshf', 'v', 'r850', 'uv10', 'alt'],\n",
       " ['blh', 'cape', 'z', 'sshf', 'v', 'uv10', 'alt'],\n",
       " ['blh', 'sshf'],\n",
       " ['blh', 'sshf', 'r850'],\n",
       " ['blh', 'sshf', 'v'],\n",
       " ['blh', 'sshf', 'v', 'r850'],\n",
       " ['blh', 'z', 'sshf', 'r850', 'uv10', 'alt'],\n",
       " ['blh', 'z', 'sshf', 'uv10', 'alt'],\n",
       " ['blh', 'z', 'sshf', 'v', 'r850', 'uv10', 'alt'],\n",
       " ['blh', 'z', 'sshf', 'v', 'uv10', 'alt'],\n",
       " ['cape'],\n",
       " ['cape', 'r850'],\n",
       " ['cape', 'v'],\n",
       " ['cape', 'v', 'r850'],\n",
       " ['cape', 'z', 'r850', 'uv10', 'alt'],\n",
       " ['cape', 'z', 'uv10', 'alt'],\n",
       " ['cape', 'z', 'v', 'r850', 'uv10', 'alt'],\n",
       " ['cape', 'z', 'v', 'uv10', 'alt'],\n",
       " ['ch1'],\n",
       " ['ch1', 'blh', 'cape', 'sshf'],\n",
       " ['ch1', 'blh', 'cape', 'sshf', 'r850'],\n",
       " ['ch1', 'blh', 'cape', 'sshf', 'v'],\n",
       " ['ch1', 'blh', 'cape', 'sshf', 'v', 'r850'],\n",
       " ['ch1', 'blh', 'cape', 'z', 'sshf', 'r850', 'uv10', 'alt'],\n",
       " ['ch1', 'blh', 'cape', 'z', 'sshf', 'uv10', 'alt'],\n",
       " ['ch1', 'blh', 'cape', 'z', 'sshf', 'v', 'r850', 'uv10', 'alt'],\n",
       " ['ch1', 'blh', 'cape', 'z', 'sshf', 'v', 'uv10', 'alt'],\n",
       " ['ch1', 'blh', 'sshf'],\n",
       " ['ch1', 'blh', 'sshf', 'r850'],\n",
       " ['ch1', 'blh', 'sshf', 'v'],\n",
       " ['ch1', 'blh', 'sshf', 'v', 'r850'],\n",
       " ['ch1', 'blh', 'z', 'sshf', 'r850', 'uv10', 'alt'],\n",
       " ['ch1', 'blh', 'z', 'sshf', 'uv10', 'alt'],\n",
       " ['ch1', 'blh', 'z', 'sshf', 'v', 'r850', 'uv10', 'alt'],\n",
       " ['ch1', 'blh', 'z', 'sshf', 'v', 'uv10', 'alt'],\n",
       " ['ch1', 'cape'],\n",
       " ['ch1', 'cape', 'r850'],\n",
       " ['ch1', 'cape', 'v'],\n",
       " ['ch1', 'cape', 'v', 'r850'],\n",
       " ['ch1', 'cape', 'z', 'r850', 'uv10', 'alt'],\n",
       " ['ch1', 'cape', 'z', 'uv10', 'alt'],\n",
       " ['ch1', 'cape', 'z', 'v', 'r850', 'uv10', 'alt'],\n",
       " ['ch1', 'cape', 'z', 'v', 'uv10', 'alt'],\n",
       " ['ch1', 'ch6'],\n",
       " ['ch1', 'ch6', 'blh', 'cape', 'sshf'],\n",
       " ['ch1', 'ch6', 'blh', 'cape', 'sshf', 'r850'],\n",
       " ['ch1', 'ch6', 'blh', 'cape', 'sshf', 'v'],\n",
       " ['ch1', 'ch6', 'blh', 'cape', 'sshf', 'v', 'r850'],\n",
       " ['ch1', 'ch6', 'blh', 'cape', 'z', 'sshf', 'r850', 'uv10', 'alt'],\n",
       " ['ch1', 'ch6', 'blh', 'cape', 'z', 'sshf', 'uv10', 'alt'],\n",
       " ['ch1', 'ch6', 'blh', 'cape', 'z', 'sshf', 'v', 'r850', 'uv10', 'alt'],\n",
       " ['ch1', 'ch6', 'blh', 'cape', 'z', 'sshf', 'v', 'uv10', 'alt'],\n",
       " ['ch1', 'ch6', 'blh', 'sshf'],\n",
       " ['ch1', 'ch6', 'blh', 'sshf', 'r850'],\n",
       " ['ch1', 'ch6', 'blh', 'sshf', 'v'],\n",
       " ['ch1', 'ch6', 'blh', 'sshf', 'v', 'r850'],\n",
       " ['ch1', 'ch6', 'blh', 'z', 'sshf', 'r850', 'uv10', 'alt'],\n",
       " ['ch1', 'ch6', 'blh', 'z', 'sshf', 'uv10', 'alt'],\n",
       " ['ch1', 'ch6', 'blh', 'z', 'sshf', 'v', 'r850', 'uv10', 'alt'],\n",
       " ['ch1', 'ch6', 'blh', 'z', 'sshf', 'v', 'uv10', 'alt'],\n",
       " ['ch1', 'ch6', 'cape'],\n",
       " ['ch1', 'ch6', 'cape', 'r850'],\n",
       " ['ch1', 'ch6', 'cape', 'v'],\n",
       " ['ch1', 'ch6', 'cape', 'v', 'r850'],\n",
       " ['ch1', 'ch6', 'cape', 'z', 'r850', 'uv10', 'alt'],\n",
       " ['ch1', 'ch6', 'cape', 'z', 'uv10', 'alt'],\n",
       " ['ch1', 'ch6', 'cape', 'z', 'v', 'r850', 'uv10', 'alt'],\n",
       " ['ch1', 'ch6', 'cape', 'z', 'v', 'uv10', 'alt'],\n",
       " ['ch1', 'ch6', 'r850'],\n",
       " ['ch1', 'ch6', 'u10', 'blh', 'cape', 'sshf', 'r850', 'uv10'],\n",
       " ['ch1', 'ch6', 'u10', 'blh', 'cape', 'sshf', 'uv10'],\n",
       " ['ch1', 'ch6', 'u10', 'blh', 'cape', 'sshf', 'v', 'r850', 'uv10'],\n",
       " ['ch1', 'ch6', 'u10', 'blh', 'cape', 'sshf', 'v', 'uv10'],\n",
       " ['ch1', 'ch6', 'u10', 'blh', 'cape', 'z', 'sshf', 'r850', 'uv10', 'alt'],\n",
       " ['ch1', 'ch6', 'u10', 'blh', 'cape', 'z', 'sshf', 'uv10', 'alt'],\n",
       " ['ch1', 'ch6', 'u10', 'blh', 'cape', 'z', 'sshf', 'v', 'r850', 'uv10', 'alt'],\n",
       " ['ch1', 'ch6', 'u10', 'blh', 'cape', 'z', 'sshf', 'v', 'uv10', 'alt'],\n",
       " ['ch1', 'ch6', 'u10', 'blh', 'sshf', 'r850', 'uv10'],\n",
       " ['ch1', 'ch6', 'u10', 'blh', 'sshf', 'uv10'],\n",
       " ['ch1', 'ch6', 'u10', 'blh', 'sshf', 'v', 'r850', 'uv10'],\n",
       " ['ch1', 'ch6', 'u10', 'blh', 'sshf', 'v', 'uv10'],\n",
       " ['ch1', 'ch6', 'u10', 'blh', 'z', 'sshf', 'r850', 'uv10', 'alt'],\n",
       " ['ch1', 'ch6', 'u10', 'blh', 'z', 'sshf', 'uv10', 'alt'],\n",
       " ['ch1', 'ch6', 'u10', 'blh', 'z', 'sshf', 'v', 'r850', 'uv10', 'alt'],\n",
       " ['ch1', 'ch6', 'u10', 'blh', 'z', 'sshf', 'v', 'uv10', 'alt'],\n",
       " ['ch1', 'ch6', 'u10', 'cape', 'r850', 'uv10'],\n",
       " ['ch1', 'ch6', 'u10', 'cape', 'uv10'],\n",
       " ['ch1', 'ch6', 'u10', 'cape', 'v', 'r850', 'uv10'],\n",
       " ['ch1', 'ch6', 'u10', 'cape', 'v', 'uv10'],\n",
       " ['ch1', 'ch6', 'u10', 'cape', 'z', 'r850', 'uv10', 'alt'],\n",
       " ['ch1', 'ch6', 'u10', 'cape', 'z', 'uv10', 'alt'],\n",
       " ['ch1', 'ch6', 'u10', 'cape', 'z', 'v', 'r850', 'uv10', 'alt'],\n",
       " ['ch1', 'ch6', 'u10', 'cape', 'z', 'v', 'uv10', 'alt'],\n",
       " ['ch1', 'ch6', 'u10', 'r850', 'uv10'],\n",
       " ['ch1', 'ch6', 'u10', 'uv10'],\n",
       " ['ch1', 'ch6', 'u10', 'v', 'r850', 'uv10'],\n",
       " ['ch1', 'ch6', 'u10', 'v', 'uv10'],\n",
       " ['ch1', 'ch6', 'u10', 'z', 'r850', 'uv10', 'alt'],\n",
       " ['ch1', 'ch6', 'u10', 'z', 'uv10', 'alt'],\n",
       " ['ch1', 'ch6', 'u10', 'z', 'v', 'r850', 'uv10', 'alt'],\n",
       " ['ch1', 'ch6', 'u10', 'z', 'v', 'uv10', 'alt'],\n",
       " ['ch1', 'ch6', 'v'],\n",
       " ['ch1', 'ch6', 'v', 'r850'],\n",
       " ['ch1', 'ch6', 'z', 'r850', 'uv10', 'alt'],\n",
       " ['ch1', 'ch6', 'z', 'uv10', 'alt'],\n",
       " ['ch1', 'ch6', 'z', 'v', 'r850', 'uv10', 'alt'],\n",
       " ['ch1', 'ch6', 'z', 'v', 'uv10', 'alt'],\n",
       " ['ch1', 'r850'],\n",
       " ['ch1', 'u10', 'blh', 'cape', 'sshf', 'r850', 'uv10'],\n",
       " ['ch1', 'u10', 'blh', 'cape', 'sshf', 'uv10'],\n",
       " ['ch1', 'u10', 'blh', 'cape', 'sshf', 'v', 'r850', 'uv10'],\n",
       " ['ch1', 'u10', 'blh', 'cape', 'sshf', 'v', 'uv10'],\n",
       " ['ch1', 'u10', 'blh', 'cape', 'z', 'sshf', 'r850', 'uv10', 'alt'],\n",
       " ['ch1', 'u10', 'blh', 'cape', 'z', 'sshf', 'uv10', 'alt'],\n",
       " ['ch1', 'u10', 'blh', 'cape', 'z', 'sshf', 'v', 'r850', 'uv10', 'alt'],\n",
       " ['ch1', 'u10', 'blh', 'cape', 'z', 'sshf', 'v', 'uv10', 'alt'],\n",
       " ['ch1', 'u10', 'blh', 'sshf', 'r850', 'uv10'],\n",
       " ['ch1', 'u10', 'blh', 'sshf', 'uv10'],\n",
       " ['ch1', 'u10', 'blh', 'sshf', 'v', 'r850', 'uv10'],\n",
       " ['ch1', 'u10', 'blh', 'sshf', 'v', 'uv10'],\n",
       " ['ch1', 'u10', 'blh', 'z', 'sshf', 'r850', 'uv10', 'alt'],\n",
       " ['ch1', 'u10', 'blh', 'z', 'sshf', 'uv10', 'alt'],\n",
       " ['ch1', 'u10', 'blh', 'z', 'sshf', 'v', 'r850', 'uv10', 'alt'],\n",
       " ['ch1', 'u10', 'blh', 'z', 'sshf', 'v', 'uv10', 'alt'],\n",
       " ['ch1', 'u10', 'cape', 'r850', 'uv10'],\n",
       " ['ch1', 'u10', 'cape', 'uv10'],\n",
       " ['ch1', 'u10', 'cape', 'v', 'r850', 'uv10'],\n",
       " ['ch1', 'u10', 'cape', 'v', 'uv10'],\n",
       " ['ch1', 'u10', 'cape', 'z', 'r850', 'uv10', 'alt'],\n",
       " ['ch1', 'u10', 'cape', 'z', 'uv10', 'alt'],\n",
       " ['ch1', 'u10', 'cape', 'z', 'v', 'r850', 'uv10', 'alt'],\n",
       " ['ch1', 'u10', 'cape', 'z', 'v', 'uv10', 'alt'],\n",
       " ['ch1', 'u10', 'r850', 'uv10'],\n",
       " ['ch1', 'u10', 'uv10'],\n",
       " ['ch1', 'u10', 'v', 'r850', 'uv10'],\n",
       " ['ch1', 'u10', 'v', 'uv10'],\n",
       " ['ch1', 'u10', 'z', 'r850', 'uv10', 'alt'],\n",
       " ['ch1', 'u10', 'z', 'uv10', 'alt'],\n",
       " ['ch1', 'u10', 'z', 'v', 'r850', 'uv10', 'alt'],\n",
       " ['ch1', 'u10', 'z', 'v', 'uv10', 'alt'],\n",
       " ['ch1', 'v'],\n",
       " ['ch1', 'v', 'r850'],\n",
       " ['ch1', 'z', 'r850', 'uv10', 'alt'],\n",
       " ['ch1', 'z', 'uv10', 'alt'],\n",
       " ['ch1', 'z', 'v', 'r850', 'uv10', 'alt'],\n",
       " ['ch1', 'z', 'v', 'uv10', 'alt'],\n",
       " ['ch6'],\n",
       " ['ch6', 'blh', 'cape', 'sshf'],\n",
       " ['ch6', 'blh', 'cape', 'sshf', 'r850'],\n",
       " ['ch6', 'blh', 'cape', 'sshf', 'v'],\n",
       " ['ch6', 'blh', 'cape', 'sshf', 'v', 'r850'],\n",
       " ['ch6', 'blh', 'cape', 'z', 'sshf', 'r850', 'uv10', 'alt'],\n",
       " ['ch6', 'blh', 'cape', 'z', 'sshf', 'uv10', 'alt'],\n",
       " ['ch6', 'blh', 'cape', 'z', 'sshf', 'v', 'r850', 'uv10', 'alt'],\n",
       " ['ch6', 'blh', 'cape', 'z', 'sshf', 'v', 'uv10', 'alt'],\n",
       " ['ch6', 'blh', 'sshf'],\n",
       " ['ch6', 'blh', 'sshf', 'r850'],\n",
       " ['ch6', 'blh', 'sshf', 'v'],\n",
       " ['ch6', 'blh', 'sshf', 'v', 'r850'],\n",
       " ['ch6', 'blh', 'z', 'sshf', 'r850', 'uv10', 'alt'],\n",
       " ['ch6', 'blh', 'z', 'sshf', 'uv10', 'alt'],\n",
       " ['ch6', 'blh', 'z', 'sshf', 'v', 'r850', 'uv10', 'alt'],\n",
       " ['ch6', 'blh', 'z', 'sshf', 'v', 'uv10', 'alt'],\n",
       " ['ch6', 'cape'],\n",
       " ['ch6', 'cape', 'r850'],\n",
       " ['ch6', 'cape', 'v'],\n",
       " ['ch6', 'cape', 'v', 'r850'],\n",
       " ['ch6', 'cape', 'z', 'r850', 'uv10', 'alt'],\n",
       " ['ch6', 'cape', 'z', 'uv10', 'alt'],\n",
       " ['ch6', 'cape', 'z', 'v', 'r850', 'uv10', 'alt'],\n",
       " ['ch6', 'cape', 'z', 'v', 'uv10', 'alt'],\n",
       " ['ch6', 'r850'],\n",
       " ['ch6', 'u10', 'blh', 'cape', 'sshf', 'r850', 'uv10'],\n",
       " ['ch6', 'u10', 'blh', 'cape', 'sshf', 'uv10'],\n",
       " ['ch6', 'u10', 'blh', 'cape', 'sshf', 'v', 'r850', 'uv10'],\n",
       " ['ch6', 'u10', 'blh', 'cape', 'sshf', 'v', 'uv10'],\n",
       " ['ch6', 'u10', 'blh', 'cape', 'z', 'sshf', 'r850', 'uv10', 'alt'],\n",
       " ['ch6', 'u10', 'blh', 'cape', 'z', 'sshf', 'uv10', 'alt'],\n",
       " ['ch6', 'u10', 'blh', 'cape', 'z', 'sshf', 'v', 'r850', 'uv10', 'alt'],\n",
       " ['ch6', 'u10', 'blh', 'cape', 'z', 'sshf', 'v', 'uv10', 'alt'],\n",
       " ['ch6', 'u10', 'blh', 'sshf', 'r850', 'uv10'],\n",
       " ['ch6', 'u10', 'blh', 'sshf', 'uv10'],\n",
       " ['ch6', 'u10', 'blh', 'sshf', 'v', 'r850', 'uv10'],\n",
       " ['ch6', 'u10', 'blh', 'sshf', 'v', 'uv10'],\n",
       " ['ch6', 'u10', 'blh', 'z', 'sshf', 'r850', 'uv10', 'alt'],\n",
       " ['ch6', 'u10', 'blh', 'z', 'sshf', 'uv10', 'alt'],\n",
       " ['ch6', 'u10', 'blh', 'z', 'sshf', 'v', 'r850', 'uv10', 'alt'],\n",
       " ['ch6', 'u10', 'blh', 'z', 'sshf', 'v', 'uv10', 'alt'],\n",
       " ['ch6', 'u10', 'cape', 'r850', 'uv10'],\n",
       " ['ch6', 'u10', 'cape', 'uv10'],\n",
       " ['ch6', 'u10', 'cape', 'v', 'r850', 'uv10'],\n",
       " ['ch6', 'u10', 'cape', 'v', 'uv10'],\n",
       " ['ch6', 'u10', 'cape', 'z', 'r850', 'uv10', 'alt'],\n",
       " ['ch6', 'u10', 'cape', 'z', 'uv10', 'alt'],\n",
       " ['ch6', 'u10', 'cape', 'z', 'v', 'r850', 'uv10', 'alt'],\n",
       " ['ch6', 'u10', 'cape', 'z', 'v', 'uv10', 'alt'],\n",
       " ['ch6', 'u10', 'r850', 'uv10'],\n",
       " ['ch6', 'u10', 'uv10'],\n",
       " ['ch6', 'u10', 'v', 'r850', 'uv10'],\n",
       " ['ch6', 'u10', 'v', 'uv10'],\n",
       " ['ch6', 'u10', 'z', 'r850', 'uv10', 'alt'],\n",
       " ['ch6', 'u10', 'z', 'uv10', 'alt'],\n",
       " ['ch6', 'u10', 'z', 'v', 'r850', 'uv10', 'alt'],\n",
       " ['ch6', 'u10', 'z', 'v', 'uv10', 'alt'],\n",
       " ['ch6', 'v'],\n",
       " ['ch6', 'v', 'r850'],\n",
       " ['ch6', 'z', 'r850', 'uv10', 'alt'],\n",
       " ['ch6', 'z', 'uv10', 'alt'],\n",
       " ['ch6', 'z', 'v', 'r850', 'uv10', 'alt'],\n",
       " ['ch6', 'z', 'v', 'uv10', 'alt'],\n",
       " ['r850'],\n",
       " ['u10', 'blh', 'cape', 'sshf', 'r850', 'uv10'],\n",
       " ['u10', 'blh', 'cape', 'sshf', 'uv10'],\n",
       " ['u10', 'blh', 'cape', 'sshf', 'v', 'r850', 'uv10'],\n",
       " ['u10', 'blh', 'cape', 'sshf', 'v', 'uv10'],\n",
       " ['u10', 'blh', 'cape', 'z', 'sshf', 'r850', 'uv10', 'alt'],\n",
       " ['u10', 'blh', 'cape', 'z', 'sshf', 'uv10', 'alt'],\n",
       " ['u10', 'blh', 'cape', 'z', 'sshf', 'v', 'r850', 'uv10', 'alt'],\n",
       " ['u10', 'blh', 'cape', 'z', 'sshf', 'v', 'uv10', 'alt'],\n",
       " ['u10', 'blh', 'sshf', 'r850', 'uv10'],\n",
       " ['u10', 'blh', 'sshf', 'uv10'],\n",
       " ['u10', 'blh', 'sshf', 'v', 'r850', 'uv10'],\n",
       " ['u10', 'blh', 'sshf', 'v', 'uv10'],\n",
       " ['u10', 'blh', 'z', 'sshf', 'r850', 'uv10', 'alt'],\n",
       " ['u10', 'blh', 'z', 'sshf', 'uv10', 'alt'],\n",
       " ['u10', 'blh', 'z', 'sshf', 'v', 'r850', 'uv10', 'alt'],\n",
       " ['u10', 'blh', 'z', 'sshf', 'v', 'uv10', 'alt'],\n",
       " ['u10', 'cape', 'r850', 'uv10'],\n",
       " ['u10', 'cape', 'uv10'],\n",
       " ['u10', 'cape', 'v', 'r850', 'uv10'],\n",
       " ['u10', 'cape', 'v', 'uv10'],\n",
       " ['u10', 'cape', 'z', 'r850', 'uv10', 'alt'],\n",
       " ['u10', 'cape', 'z', 'uv10', 'alt'],\n",
       " ['u10', 'cape', 'z', 'v', 'r850', 'uv10', 'alt'],\n",
       " ['u10', 'cape', 'z', 'v', 'uv10', 'alt'],\n",
       " ['u10', 'r850', 'uv10'],\n",
       " ['u10', 'uv10'],\n",
       " ['u10', 'v', 'r850', 'uv10'],\n",
       " ['u10', 'v', 'uv10'],\n",
       " ['u10', 'z', 'r850', 'uv10', 'alt'],\n",
       " ['u10', 'z', 'uv10', 'alt'],\n",
       " ['u10', 'z', 'v', 'r850', 'uv10', 'alt'],\n",
       " ['u10', 'z', 'v', 'uv10', 'alt'],\n",
       " ['v'],\n",
       " ['v', 'r850'],\n",
       " ['z', 'r850', 'uv10', 'alt'],\n",
       " ['z', 'uv10', 'alt'],\n",
       " ['z', 'v', 'r850', 'uv10', 'alt'],\n",
       " ['z', 'v', 'uv10', 'alt']]"
      ]
     },
     "execution_count": 236,
     "metadata": {},
     "output_type": "execute_result"
    }
   ],
   "source": [
    "combosDep"
   ]
  },
  {
   "cell_type": "code",
   "execution_count": 237,
   "id": "535d345e-497d-42eb-9562-554fb71c7677",
   "metadata": {},
   "outputs": [
    {
     "data": {
      "text/plain": [
       "'cluster_random'"
      ]
     },
     "execution_count": 237,
     "metadata": {},
     "output_type": "execute_result"
    }
   ],
   "source": [
    "cluster_var"
   ]
  },
  {
   "cell_type": "markdown",
   "id": "8b8e04cb",
   "metadata": {},
   "source": [
    "### exhaustive ICP based on variables in clusters"
   ]
  },
  {
   "cell_type": "code",
   "execution_count": 238,
   "id": "ba25dc0a-019a-4c68-956e-a491815f2e74",
   "metadata": {},
   "outputs": [
    {
     "name": "stdout",
     "output_type": "stream",
     "text": [
      "elapsed time:  7.843971252441406e-05\n"
     ]
    }
   ],
   "source": [
    "start_time = time.time()\n",
    "#res_ex2 = exhaustiveICP(cube, labels, envVars[:,0:3], event_df, cluster_var, varss, combosDep, posts, numTrees=100)\n",
    "elapsed_time = time.time() - start_time\n",
    "print(\"elapsed time: \", elapsed_time) # for 5 folds, 1 rep each\n",
    "\n"
   ]
  },
  {
   "cell_type": "code",
   "execution_count": 239,
   "id": "c31257b2-1a15-4469-8fe8-383c0eef3f8a",
   "metadata": {},
   "outputs": [],
   "source": [
    "results_root = \"/home/emiliano/Documents/FDL/clean_code/results/\"\n",
    "version = \"v_1Tail_0\"\n",
    "file = \"exhaustiveICP_8_11_grouped\"\n",
    "#file = \"exhaustiveICP_1_12_intersecRF_grouped\"\n",
    "fileRes = results_root+file+\"_\"+version+\"_pvals.pkl\" "
   ]
  },
  {
   "cell_type": "code",
   "execution_count": 240,
   "id": "a7450ec5-2f66-4213-9b71-aa7612772a36",
   "metadata": {},
   "outputs": [],
   "source": [
    "#with open(fileRes, 'wb') as output:  # Overwrites any existing file.\n",
    "#        pickle.dump(res_ex2, output, pickle.HIGHEST_PROTOCOL)\n"
   ]
  },
  {
   "cell_type": "code",
   "execution_count": 241,
   "id": "ae71f4ef-2de5-41c1-bcdc-c18d3909053d",
   "metadata": {},
   "outputs": [],
   "source": [
    "res_ex2 = pickle5.load( open( fileRes, \"rb\" ) )"
   ]
  },
  {
   "cell_type": "code",
   "execution_count": 242,
   "id": "038ebd1e",
   "metadata": {},
   "outputs": [
    {
     "data": {
      "text/plain": [
       "28"
      ]
     },
     "execution_count": 242,
     "metadata": {},
     "output_type": "execute_result"
    }
   ],
   "source": [
    "len(res_ex2)"
   ]
  },
  {
   "cell_type": "code",
   "execution_count": 243,
   "id": "8c321afe-aad0-4fad-a3cd-eab2cc6d4e07",
   "metadata": {},
   "outputs": [],
   "source": [
    "sig = 0.05\n",
    "indxCombos2, = np.where([ (r[\"pval_1tail\"]>sig) for r in res_ex2])"
   ]
  },
  {
   "cell_type": "code",
   "execution_count": 244,
   "id": "bdc531e5-443a-45e5-bb3e-7a623a82a0bf",
   "metadata": {},
   "outputs": [
    {
     "data": {
      "text/plain": [
       "[{'stat': 1.4329013212823132,\n",
       "  'pval_1tail': 0.07594301982010432,\n",
       "  'pval_2tail': 0.15188603964020858,\n",
       "  'auc_E': 0.8906400078993935,\n",
       "  'auc_noE': 0.8886883372262929},\n",
       " {'stat': 1.4632911606073036,\n",
       "  'pval_1tail': 0.07169386271603839,\n",
       "  'pval_2tail': 0.14338772543207676,\n",
       "  'auc_E': 0.8894064637959431,\n",
       "  'auc_noE': 0.8873512028434928},\n",
       " {'stat': 0.027684147735029616,\n",
       "  'pval_1tail': 0.48895703356669584,\n",
       "  'pval_2tail': 0.9779140671333917,\n",
       "  'auc_E': 0.8913090967684594,\n",
       "  'auc_noE': 0.8912748150932789},\n",
       " {'stat': 1.270263883290378,\n",
       "  'pval_1tail': 0.10199532432276803,\n",
       "  'pval_2tail': 0.20399064864553612,\n",
       "  'auc_E': 0.8872583442189821,\n",
       "  'auc_noE': 0.8855411303939635},\n",
       " {'stat': -0.033449295045557575,\n",
       "  'pval_1tail': 0.513341850063552,\n",
       "  'pval_2tail': 0.9733162998728959,\n",
       "  'auc_E': 0.8882657783170032,\n",
       "  'auc_noE': 0.8883107916470228},\n",
       " {'stat': -1.171400033966353,\n",
       "  'pval_1tail': 0.8792809906846688,\n",
       "  'pval_2tail': 0.24143801863066233,\n",
       "  'auc_E': 0.8881121069817375,\n",
       "  'auc_noE': 0.8897333321162508},\n",
       " {'stat': 0.17681242963406674,\n",
       "  'pval_1tail': 0.4298278627234362,\n",
       "  'pval_2tail': 0.8596557254468724,\n",
       "  'auc_E': 0.8706794280001812,\n",
       "  'auc_noE': 0.8704024916850277},\n",
       " {'stat': -1.0821677436858699,\n",
       "  'pval_1tail': 0.8604110007026974,\n",
       "  'pval_2tail': 0.27917799859460524,\n",
       "  'auc_E': 0.8734396990552561,\n",
       "  'auc_noE': 0.8751263574741354},\n",
       " {'stat': 0.40290915181118797,\n",
       "  'pval_1tail': 0.34350752925828,\n",
       "  'pval_2tail': 0.68701505851656,\n",
       "  'auc_E': 0.8731199851715079,\n",
       "  'auc_noE': 0.8725014245106426},\n",
       " {'stat': 0.05512076756473459,\n",
       "  'pval_1tail': 0.4780211255854777,\n",
       "  'pval_2tail': 0.9560422511709554,\n",
       "  'auc_E': 0.8685141675856302,\n",
       "  'auc_noE': 0.8684266747885392},\n",
       " {'stat': 0.940266250768167,\n",
       "  'pval_1tail': 0.1735405032046886,\n",
       "  'pval_2tail': 0.3470810064093772,\n",
       "  'auc_E': 0.874563988950414,\n",
       "  'auc_noE': 0.8731521801360251},\n",
       " {'stat': 0.29529666924877324,\n",
       "  'pval_1tail': 0.3838836303468751,\n",
       "  'pval_2tail': 0.7677672606937502,\n",
       "  'auc_E': 0.8700982790804914,\n",
       "  'auc_noE': 0.869632048298037}]"
      ]
     },
     "execution_count": 244,
     "metadata": {},
     "output_type": "execute_result"
    }
   ],
   "source": [
    "[res_ex2[i] for i in indxCombos2]"
   ]
  },
  {
   "cell_type": "code",
   "execution_count": 245,
   "id": "7b8d8043-5482-479f-b132-3f6528b0f847",
   "metadata": {},
   "outputs": [
    {
     "data": {
      "text/plain": [
       "list"
      ]
     },
     "execution_count": 245,
     "metadata": {},
     "output_type": "execute_result"
    }
   ],
   "source": [
    "type(res_ex2)"
   ]
  },
  {
   "cell_type": "code",
   "execution_count": 246,
   "id": "09593284",
   "metadata": {},
   "outputs": [
    {
     "data": {
      "text/plain": [
       "array([ 0,  3,  7,  9, 10, 11, 14, 15, 16, 18, 20, 21])"
      ]
     },
     "execution_count": 246,
     "metadata": {},
     "output_type": "execute_result"
    }
   ],
   "source": [
    "indxCombos2"
   ]
  },
  {
   "cell_type": "code",
   "execution_count": 247,
   "id": "f9b3b11d-ccb7-4f9b-a273-83f8121f10f2",
   "metadata": {},
   "outputs": [
    {
     "data": {
      "text/plain": [
       "12"
      ]
     },
     "execution_count": 247,
     "metadata": {},
     "output_type": "execute_result"
    }
   ],
   "source": [
    "combosPass2 = [combosDep[i] for i in indxCombos2]\n",
    "len(combosPass2)"
   ]
  },
  {
   "cell_type": "code",
   "execution_count": 248,
   "id": "8b28e748-4ce4-457a-b4fc-e7b6c6243d4d",
   "metadata": {},
   "outputs": [
    {
     "data": {
      "text/plain": [
       "[['blh', 'cape', 'sshf'],\n",
       " ['blh', 'cape', 'sshf', 'v', 'r850'],\n",
       " ['blh', 'cape', 'z', 'sshf', 'v', 'uv10', 'alt'],\n",
       " ['blh', 'sshf', 'r850'],\n",
       " ['blh', 'sshf', 'v'],\n",
       " ['blh', 'sshf', 'v', 'r850'],\n",
       " ['blh', 'z', 'sshf', 'v', 'r850', 'uv10', 'alt'],\n",
       " ['blh', 'z', 'sshf', 'v', 'uv10', 'alt'],\n",
       " ['cape'],\n",
       " ['cape', 'v'],\n",
       " ['cape', 'z', 'r850', 'uv10', 'alt'],\n",
       " ['cape', 'z', 'uv10', 'alt']]"
      ]
     },
     "execution_count": 248,
     "metadata": {},
     "output_type": "execute_result"
    }
   ],
   "source": [
    "combosPass2"
   ]
  },
  {
   "cell_type": "code",
   "execution_count": 249,
   "id": "c102ed34-503f-4ec6-8078-fb865987a116",
   "metadata": {},
   "outputs": [
    {
     "data": {
      "text/plain": [
       "[]"
      ]
     },
     "execution_count": 249,
     "metadata": {},
     "output_type": "execute_result"
    }
   ],
   "source": [
    "cmb2 = combosPass2[0]\n",
    "for i in range(1,len(combosPass2)):\n",
    "    cmb2 = set(cmb2).intersection(combosPass2[i])\n",
    "list(cmb2)"
   ]
  },
  {
   "cell_type": "code",
   "execution_count": 250,
   "id": "134ae8d2-7ae8-4287-aee1-c55d23e4897f",
   "metadata": {},
   "outputs": [
    {
     "data": {
      "text/plain": [
       "14"
      ]
     },
     "execution_count": 250,
     "metadata": {},
     "output_type": "execute_result"
    }
   ],
   "source": [
    "findIndxAux(varss, [\"sshf\"], 0)"
   ]
  },
  {
   "cell_type": "code",
   "execution_count": 251,
   "id": "86caa4c6-f2ef-459b-a9de-ffb427778c1d",
   "metadata": {},
   "outputs": [
    {
     "data": {
      "text/plain": [
       "10"
      ]
     },
     "execution_count": 251,
     "metadata": {},
     "output_type": "execute_result"
    }
   ],
   "source": [
    "findIndxAux(varss, [\"cape\"], 0)"
   ]
  },
  {
   "cell_type": "code",
   "execution_count": 252,
   "id": "a1dc7aa1-1f26-4ab2-98c4-35befcea953a",
   "metadata": {},
   "outputs": [
    {
     "data": {
      "text/plain": [
       "[[0],\n",
       " [1],\n",
       " [2, 9],\n",
       " [3, 6],\n",
       " [4],\n",
       " [5, 9, 10],\n",
       " [6, 3],\n",
       " [7],\n",
       " [8],\n",
       " [9, 2, 5, 10],\n",
       " [10, 5, 9]]"
      ]
     },
     "execution_count": 252,
     "metadata": {},
     "output_type": "execute_result"
    }
   ],
   "source": [
    "depGrps"
   ]
  },
  {
   "cell_type": "code",
   "execution_count": 253,
   "id": "ed04a4ff-43e8-4e30-8e02-aa64f1977530",
   "metadata": {},
   "outputs": [],
   "source": [
    "k = 0\n",
    "j = 0\n",
    "combosPass2_grp = [list(np.where([set(depGrps[k]).issubset([findIndxAux(np.array(varss)[indxIncl],combosPass2[j],i) for i in range(len(combosPass2[j]))]) for k in range(len(depGrps))]))[0].tolist() for j in range(len(combosPass2))]"
   ]
  },
  {
   "cell_type": "code",
   "execution_count": 254,
   "id": "66659d2e-0184-4d59-af29-de2ae05d6a2a",
   "metadata": {},
   "outputs": [
    {
     "data": {
      "text/plain": [
       "[]"
      ]
     },
     "execution_count": 254,
     "metadata": {},
     "output_type": "execute_result"
    }
   ],
   "source": [
    "cmb2_grp = combosPass2_grp[0]\n",
    "for i in range(1,len(combosPass2_grp)):\n",
    "    cmb2_grp = set(cmb2_grp).intersection(combosPass2_grp[i])\n",
    "list(cmb2_grp)"
   ]
  },
  {
   "cell_type": "code",
   "execution_count": 255,
   "id": "960b9d4d-2a21-4768-b978-9b6c1686467c",
   "metadata": {},
   "outputs": [
    {
     "data": {
      "text/plain": [
       "[]"
      ]
     },
     "execution_count": 255,
     "metadata": {},
     "output_type": "execute_result"
    }
   ],
   "source": [
    "[depGrps[c] for c in list(cmb2_grp)]"
   ]
  },
  {
   "cell_type": "code",
   "execution_count": 256,
   "id": "bdad3a09-e830-49a6-a520-5c62affa8a56",
   "metadata": {},
   "outputs": [
    {
     "data": {
      "text/plain": [
       "[]"
      ]
     },
     "execution_count": 256,
     "metadata": {},
     "output_type": "execute_result"
    }
   ],
   "source": [
    "[np.array(varss)[indxIncl][d] for d in list(cmb2_grp)]"
   ]
  },
  {
   "cell_type": "code",
   "execution_count": 257,
   "id": "027e4ff2-113f-41d5-a09c-547e5a3da6bd",
   "metadata": {},
   "outputs": [
    {
     "data": {
      "text/plain": [
       "[]"
      ]
     },
     "execution_count": 257,
     "metadata": {},
     "output_type": "execute_result"
    }
   ],
   "source": [
    "[np.array(varss)[indxIncl][d] for d in [depGrps[c] for c in list(cmb2_grp)]]"
   ]
  },
  {
   "cell_type": "code",
   "execution_count": null,
   "id": "e9744241-dc39-4e4e-a083-c1be5c2764fe",
   "metadata": {},
   "outputs": [],
   "source": []
  },
  {
   "cell_type": "code",
   "execution_count": 258,
   "id": "baa868a0-e105-4217-807f-974992070d5a",
   "metadata": {},
   "outputs": [
    {
     "data": {
      "text/plain": [
       "array(['v10', 'cin', 'ch3', 'uv250', 'ch2', 'ch5', 'slhf', 'r750', 'fg10',\n",
       "       'r650', 'u', 'ch4', 'cvh', 'typeL', 'typeH', 'cvl', 'w', 'blh',\n",
       "       'uv10', 'z', 'ch1', 'u10', 'sshf', 'r850', 'v', 'ch6', 'cape',\n",
       "       'alt'], dtype='<U5')"
      ]
     },
     "execution_count": 258,
     "metadata": {},
     "output_type": "execute_result"
    }
   ],
   "source": [
    "np.array(varss)[res[\"indxVar\"]]"
   ]
  },
  {
   "cell_type": "markdown",
   "id": "12a0d437",
   "metadata": {},
   "source": [
    "## Validation of greedyICP causal ordering using regional cross-validation (Figure 3 from paper)"
   ]
  },
  {
   "cell_type": "code",
   "execution_count": 259,
   "id": "ecda75bf-dfe6-40e2-922f-ec61082db317",
   "metadata": {},
   "outputs": [],
   "source": [
    "# impurity RF order\n",
    "ordVars_RF = ['cvl','typeL','cvh','typeH','w','cin','ch2','sshf','u','slhf','uv250','blh','uv10','r750','r850','v','fg10',\n",
    " 'ch1', 'ch3','ch4','u10','z','v10','alt','r650','ch5','ch6','cape']\n",
    "\n",
    "# greedy-ICP order\n",
    "ordVars_ICP = ['v10', 'cin', 'ch3', 'uv250', 'ch2', 'ch5', 'slhf', 'r750', 'fg10',\n",
    "       'r650', 'u', 'ch4', 'cvh', 'typeL', 'typeH', 'cvl', 'w', 'blh',\n",
    "       'uv10', 'z', 'ch1', 'u10', 'sshf', 'r850', 'v', 'ch6', 'cape',\n",
    "       'alt']"
   ]
  },
  {
   "cell_type": "code",
   "execution_count": 260,
   "id": "003ab864-04b4-45c6-8d5a-9be04b323df0",
   "metadata": {},
   "outputs": [],
   "source": [
    "i = 1\n",
    "unions = [list(set(ordVars_RF[::-1][0:i]).union(ordVars_ICP[::-1][0:i])) for i in range(1, len(ordVars_RF))]"
   ]
  },
  {
   "cell_type": "code",
   "execution_count": 261,
   "id": "39f2067e-c98d-4b75-8c92-b8893f9ec272",
   "metadata": {},
   "outputs": [
    {
     "data": {
      "text/plain": [
       "[2,\n",
       " 3,\n",
       " 4,\n",
       " 6,\n",
       " 7,\n",
       " 9,\n",
       " 11,\n",
       " 12,\n",
       " 13,\n",
       " 15,\n",
       " 16,\n",
       " 18,\n",
       " 19,\n",
       " 20,\n",
       " 22,\n",
       " 23,\n",
       " 23,\n",
       " 25,\n",
       " 26,\n",
       " 26,\n",
       " 26,\n",
       " 27,\n",
       " 28,\n",
       " 28,\n",
       " 28,\n",
       " 28,\n",
       " 28]"
      ]
     },
     "execution_count": 261,
     "metadata": {},
     "output_type": "execute_result"
    }
   ],
   "source": [
    "[len(u) for u in unions]"
   ]
  },
  {
   "cell_type": "code",
   "execution_count": 262,
   "id": "d62126b9-9969-4f61-987c-a39338fa1818",
   "metadata": {},
   "outputs": [
    {
     "data": {
      "text/plain": [
       "4095.0"
      ]
     },
     "execution_count": 262,
     "metadata": {},
     "output_type": "execute_result"
    }
   ],
   "source": [
    "np.sum([comb(12,i) for i in range(12)])"
   ]
  },
  {
   "cell_type": "code",
   "execution_count": 263,
   "id": "6da99784-6e40-4044-9b30-480269214d31",
   "metadata": {},
   "outputs": [
    {
     "data": {
      "text/plain": [
       "['cape',\n",
       " 'u10',\n",
       " 'z',\n",
       " 'alt',\n",
       " 'v',\n",
       " 'ch5',\n",
       " 'ch6',\n",
       " 'sshf',\n",
       " 'r650',\n",
       " 'r850',\n",
       " 'ch1',\n",
       " 'v10']"
      ]
     },
     "execution_count": 263,
     "metadata": {},
     "output_type": "execute_result"
    }
   ],
   "source": [
    "len(unions[7])\n",
    "unions[7]"
   ]
  },
  {
   "cell_type": "code",
   "execution_count": 264,
   "id": "f3a9405b-bb3d-4dea-adc3-26c793804995",
   "metadata": {},
   "outputs": [],
   "source": [
    "ordVars = ordVars_ICP"
   ]
  },
  {
   "cell_type": "code",
   "execution_count": 265,
   "id": "12da43bf-85d2-4c27-918d-7fa54ee62549",
   "metadata": {},
   "outputs": [],
   "source": [
    "combosOrd = [ordVars[i:len(ordVars)] for i in range(len(ordVars))]"
   ]
  },
  {
   "cell_type": "code",
   "execution_count": 266,
   "id": "e4de9c43-bab7-4bd6-af83-b5e1656610b1",
   "metadata": {},
   "outputs": [
    {
     "data": {
      "text/plain": [
       "28"
      ]
     },
     "execution_count": 266,
     "metadata": {},
     "output_type": "execute_result"
    }
   ],
   "source": [
    "len(ordVars)\n",
    "len(combosOrd[0])"
   ]
  },
  {
   "cell_type": "code",
   "execution_count": 267,
   "id": "50a16c30-adfe-45c6-a320-217cd5dd0499",
   "metadata": {},
   "outputs": [
    {
     "data": {
      "text/plain": [
       "'cluster_random'"
      ]
     },
     "execution_count": 267,
     "metadata": {},
     "output_type": "execute_result"
    }
   ],
   "source": [
    "cluster_var"
   ]
  },
  {
   "cell_type": "code",
   "execution_count": 268,
   "id": "9b7033e0-2d3a-4df8-a69b-4ed9fbe31c6a",
   "metadata": {},
   "outputs": [
    {
     "data": {
      "text/plain": [
       "[['v10',\n",
       "  'cin',\n",
       "  'ch3',\n",
       "  'uv250',\n",
       "  'ch2',\n",
       "  'ch5',\n",
       "  'slhf',\n",
       "  'r750',\n",
       "  'fg10',\n",
       "  'r650',\n",
       "  'u',\n",
       "  'ch4',\n",
       "  'cvh',\n",
       "  'typeL',\n",
       "  'typeH',\n",
       "  'cvl',\n",
       "  'w',\n",
       "  'blh',\n",
       "  'uv10',\n",
       "  'z',\n",
       "  'ch1',\n",
       "  'u10',\n",
       "  'sshf',\n",
       "  'r850',\n",
       "  'v',\n",
       "  'ch6',\n",
       "  'cape',\n",
       "  'alt'],\n",
       " ['cin',\n",
       "  'ch3',\n",
       "  'uv250',\n",
       "  'ch2',\n",
       "  'ch5',\n",
       "  'slhf',\n",
       "  'r750',\n",
       "  'fg10',\n",
       "  'r650',\n",
       "  'u',\n",
       "  'ch4',\n",
       "  'cvh',\n",
       "  'typeL',\n",
       "  'typeH',\n",
       "  'cvl',\n",
       "  'w',\n",
       "  'blh',\n",
       "  'uv10',\n",
       "  'z',\n",
       "  'ch1',\n",
       "  'u10',\n",
       "  'sshf',\n",
       "  'r850',\n",
       "  'v',\n",
       "  'ch6',\n",
       "  'cape',\n",
       "  'alt'],\n",
       " ['ch3',\n",
       "  'uv250',\n",
       "  'ch2',\n",
       "  'ch5',\n",
       "  'slhf',\n",
       "  'r750',\n",
       "  'fg10',\n",
       "  'r650',\n",
       "  'u',\n",
       "  'ch4',\n",
       "  'cvh',\n",
       "  'typeL',\n",
       "  'typeH',\n",
       "  'cvl',\n",
       "  'w',\n",
       "  'blh',\n",
       "  'uv10',\n",
       "  'z',\n",
       "  'ch1',\n",
       "  'u10',\n",
       "  'sshf',\n",
       "  'r850',\n",
       "  'v',\n",
       "  'ch6',\n",
       "  'cape',\n",
       "  'alt'],\n",
       " ['uv250',\n",
       "  'ch2',\n",
       "  'ch5',\n",
       "  'slhf',\n",
       "  'r750',\n",
       "  'fg10',\n",
       "  'r650',\n",
       "  'u',\n",
       "  'ch4',\n",
       "  'cvh',\n",
       "  'typeL',\n",
       "  'typeH',\n",
       "  'cvl',\n",
       "  'w',\n",
       "  'blh',\n",
       "  'uv10',\n",
       "  'z',\n",
       "  'ch1',\n",
       "  'u10',\n",
       "  'sshf',\n",
       "  'r850',\n",
       "  'v',\n",
       "  'ch6',\n",
       "  'cape',\n",
       "  'alt'],\n",
       " ['ch2',\n",
       "  'ch5',\n",
       "  'slhf',\n",
       "  'r750',\n",
       "  'fg10',\n",
       "  'r650',\n",
       "  'u',\n",
       "  'ch4',\n",
       "  'cvh',\n",
       "  'typeL',\n",
       "  'typeH',\n",
       "  'cvl',\n",
       "  'w',\n",
       "  'blh',\n",
       "  'uv10',\n",
       "  'z',\n",
       "  'ch1',\n",
       "  'u10',\n",
       "  'sshf',\n",
       "  'r850',\n",
       "  'v',\n",
       "  'ch6',\n",
       "  'cape',\n",
       "  'alt'],\n",
       " ['ch5',\n",
       "  'slhf',\n",
       "  'r750',\n",
       "  'fg10',\n",
       "  'r650',\n",
       "  'u',\n",
       "  'ch4',\n",
       "  'cvh',\n",
       "  'typeL',\n",
       "  'typeH',\n",
       "  'cvl',\n",
       "  'w',\n",
       "  'blh',\n",
       "  'uv10',\n",
       "  'z',\n",
       "  'ch1',\n",
       "  'u10',\n",
       "  'sshf',\n",
       "  'r850',\n",
       "  'v',\n",
       "  'ch6',\n",
       "  'cape',\n",
       "  'alt'],\n",
       " ['slhf',\n",
       "  'r750',\n",
       "  'fg10',\n",
       "  'r650',\n",
       "  'u',\n",
       "  'ch4',\n",
       "  'cvh',\n",
       "  'typeL',\n",
       "  'typeH',\n",
       "  'cvl',\n",
       "  'w',\n",
       "  'blh',\n",
       "  'uv10',\n",
       "  'z',\n",
       "  'ch1',\n",
       "  'u10',\n",
       "  'sshf',\n",
       "  'r850',\n",
       "  'v',\n",
       "  'ch6',\n",
       "  'cape',\n",
       "  'alt'],\n",
       " ['r750',\n",
       "  'fg10',\n",
       "  'r650',\n",
       "  'u',\n",
       "  'ch4',\n",
       "  'cvh',\n",
       "  'typeL',\n",
       "  'typeH',\n",
       "  'cvl',\n",
       "  'w',\n",
       "  'blh',\n",
       "  'uv10',\n",
       "  'z',\n",
       "  'ch1',\n",
       "  'u10',\n",
       "  'sshf',\n",
       "  'r850',\n",
       "  'v',\n",
       "  'ch6',\n",
       "  'cape',\n",
       "  'alt'],\n",
       " ['fg10',\n",
       "  'r650',\n",
       "  'u',\n",
       "  'ch4',\n",
       "  'cvh',\n",
       "  'typeL',\n",
       "  'typeH',\n",
       "  'cvl',\n",
       "  'w',\n",
       "  'blh',\n",
       "  'uv10',\n",
       "  'z',\n",
       "  'ch1',\n",
       "  'u10',\n",
       "  'sshf',\n",
       "  'r850',\n",
       "  'v',\n",
       "  'ch6',\n",
       "  'cape',\n",
       "  'alt'],\n",
       " ['r650',\n",
       "  'u',\n",
       "  'ch4',\n",
       "  'cvh',\n",
       "  'typeL',\n",
       "  'typeH',\n",
       "  'cvl',\n",
       "  'w',\n",
       "  'blh',\n",
       "  'uv10',\n",
       "  'z',\n",
       "  'ch1',\n",
       "  'u10',\n",
       "  'sshf',\n",
       "  'r850',\n",
       "  'v',\n",
       "  'ch6',\n",
       "  'cape',\n",
       "  'alt'],\n",
       " ['u',\n",
       "  'ch4',\n",
       "  'cvh',\n",
       "  'typeL',\n",
       "  'typeH',\n",
       "  'cvl',\n",
       "  'w',\n",
       "  'blh',\n",
       "  'uv10',\n",
       "  'z',\n",
       "  'ch1',\n",
       "  'u10',\n",
       "  'sshf',\n",
       "  'r850',\n",
       "  'v',\n",
       "  'ch6',\n",
       "  'cape',\n",
       "  'alt'],\n",
       " ['ch4',\n",
       "  'cvh',\n",
       "  'typeL',\n",
       "  'typeH',\n",
       "  'cvl',\n",
       "  'w',\n",
       "  'blh',\n",
       "  'uv10',\n",
       "  'z',\n",
       "  'ch1',\n",
       "  'u10',\n",
       "  'sshf',\n",
       "  'r850',\n",
       "  'v',\n",
       "  'ch6',\n",
       "  'cape',\n",
       "  'alt'],\n",
       " ['cvh',\n",
       "  'typeL',\n",
       "  'typeH',\n",
       "  'cvl',\n",
       "  'w',\n",
       "  'blh',\n",
       "  'uv10',\n",
       "  'z',\n",
       "  'ch1',\n",
       "  'u10',\n",
       "  'sshf',\n",
       "  'r850',\n",
       "  'v',\n",
       "  'ch6',\n",
       "  'cape',\n",
       "  'alt'],\n",
       " ['typeL',\n",
       "  'typeH',\n",
       "  'cvl',\n",
       "  'w',\n",
       "  'blh',\n",
       "  'uv10',\n",
       "  'z',\n",
       "  'ch1',\n",
       "  'u10',\n",
       "  'sshf',\n",
       "  'r850',\n",
       "  'v',\n",
       "  'ch6',\n",
       "  'cape',\n",
       "  'alt'],\n",
       " ['typeH',\n",
       "  'cvl',\n",
       "  'w',\n",
       "  'blh',\n",
       "  'uv10',\n",
       "  'z',\n",
       "  'ch1',\n",
       "  'u10',\n",
       "  'sshf',\n",
       "  'r850',\n",
       "  'v',\n",
       "  'ch6',\n",
       "  'cape',\n",
       "  'alt'],\n",
       " ['cvl',\n",
       "  'w',\n",
       "  'blh',\n",
       "  'uv10',\n",
       "  'z',\n",
       "  'ch1',\n",
       "  'u10',\n",
       "  'sshf',\n",
       "  'r850',\n",
       "  'v',\n",
       "  'ch6',\n",
       "  'cape',\n",
       "  'alt'],\n",
       " ['w',\n",
       "  'blh',\n",
       "  'uv10',\n",
       "  'z',\n",
       "  'ch1',\n",
       "  'u10',\n",
       "  'sshf',\n",
       "  'r850',\n",
       "  'v',\n",
       "  'ch6',\n",
       "  'cape',\n",
       "  'alt'],\n",
       " ['blh', 'uv10', 'z', 'ch1', 'u10', 'sshf', 'r850', 'v', 'ch6', 'cape', 'alt'],\n",
       " ['uv10', 'z', 'ch1', 'u10', 'sshf', 'r850', 'v', 'ch6', 'cape', 'alt'],\n",
       " ['z', 'ch1', 'u10', 'sshf', 'r850', 'v', 'ch6', 'cape', 'alt'],\n",
       " ['ch1', 'u10', 'sshf', 'r850', 'v', 'ch6', 'cape', 'alt'],\n",
       " ['u10', 'sshf', 'r850', 'v', 'ch6', 'cape', 'alt'],\n",
       " ['sshf', 'r850', 'v', 'ch6', 'cape', 'alt'],\n",
       " ['r850', 'v', 'ch6', 'cape', 'alt'],\n",
       " ['v', 'ch6', 'cape', 'alt'],\n",
       " ['ch6', 'cape', 'alt'],\n",
       " ['cape', 'alt'],\n",
       " ['alt']]"
      ]
     },
     "execution_count": 268,
     "metadata": {},
     "output_type": "execute_result"
    }
   ],
   "source": [
    "combosOrd"
   ]
  },
  {
   "cell_type": "code",
   "execution_count": 269,
   "id": "6a344d96",
   "metadata": {},
   "outputs": [],
   "source": [
    "from rf import *"
   ]
  },
  {
   "cell_type": "code",
   "execution_count": 270,
   "id": "41b9b052-fcd5-4741-8d01-83946fa45304",
   "metadata": {},
   "outputs": [
    {
     "name": "stdout",
     "output_type": "stream",
     "text": [
      "*********************************\n",
      "FOLD:  0\n",
      "*********************************\n",
      "*********************************\n",
      "REP:  0\n",
      "seed:  92975\n",
      "*********************************\n",
      "num pyrocb train:  750\n",
      "num pyrocb test:  417\n",
      "*********************************\n",
      "FOLD:  1\n",
      "*********************************\n",
      "*********************************\n",
      "REP:  0\n",
      "seed:  92975\n",
      "*********************************\n",
      "num pyrocb train:  861\n",
      "num pyrocb test:  306\n",
      "*********************************\n",
      "FOLD:  2\n",
      "*********************************\n",
      "*********************************\n",
      "REP:  0\n",
      "seed:  92975\n",
      "*********************************\n",
      "num pyrocb train:  991\n",
      "num pyrocb test:  176\n",
      "*********************************\n",
      "FOLD:  3\n",
      "*********************************\n",
      "*********************************\n",
      "REP:  0\n",
      "seed:  92975\n",
      "*********************************\n",
      "num pyrocb train:  997\n",
      "num pyrocb test:  170\n",
      "*********************************\n",
      "FOLD:  4\n",
      "*********************************\n",
      "*********************************\n",
      "REP:  0\n",
      "seed:  92975\n",
      "*********************************\n",
      "num pyrocb train:  1069\n",
      "num pyrocb test:  98\n"
     ]
    }
   ],
   "source": [
    "np.random.seed(1234556)\n",
    "num_reps = 1\n",
    "seed = 1234\n",
    "res = [getFold(cluster, cluster_var, cube, labels, event_df, num_reps, seed, byinistate=False, importance=False, shuffle=True) for cluster in np.unique(event_df[cluster_var])]"
   ]
  },
  {
   "cell_type": "code",
   "execution_count": 271,
   "id": "caaa5e48-79e2-4962-b757-2f3ba4efad8f",
   "metadata": {},
   "outputs": [],
   "source": [
    "def maxAUC(x):\n",
    "    indx = np.argmax(x.auc)\n",
    "    #print(indx)\n",
    "    return x.iloc[indx]"
   ]
  },
  {
   "cell_type": "code",
   "execution_count": 272,
   "id": "7d500e14-12ea-49e5-a8eb-f46418e9192f",
   "metadata": {},
   "outputs": [
    {
     "name": "stdout",
     "output_type": "stream",
     "text": [
      "{'mean': 0.5399690984146767, 'std': 0.07186609105626893}\n"
     ]
    }
   ],
   "source": [
    "res_msrs = [list(rm)[0] for rm in res]\n",
    "res_msrs = pd.concat(res_msrs)\n",
    "resMax = res_msrs[[\"rep\",\"fold\",\"auc\",\"fpr\",\"fnr\"]].groupby([\"fold\"]).apply(maxAUC)#.reset_index()#.rename(columns={0:\"auc\"})\n",
    "res = {\"mean\":np.mean(resMax.auc), \"std\":np.std(resMax.auc)}\n",
    "print(res)\n",
    "# for event {'mean': 0.5444933526439506, 'std': 0.070835034298292}\n",
    "# for spatial {'mean': 0.4433585660768273, 'std': 0.07028088333880186}"
   ]
  },
  {
   "cell_type": "code",
   "execution_count": 273,
   "id": "e606c868-f9f8-4008-ae53-a4fdfc1040d7",
   "metadata": {},
   "outputs": [
    {
     "data": {
      "text/plain": [
       "array([  0,  11,  22,  33,  44,  55,  66,  77,  88,  99, 110, 121, 132,\n",
       "       143, 154, 165, 176, 187, 198, 209, 220, 231, 242, 253, 264, 275,\n",
       "       286, 297, 308, 312, 318])"
      ]
     },
     "execution_count": 273,
     "metadata": {},
     "output_type": "execute_result"
    }
   ],
   "source": [
    "posts =np.arange(0,cube.shape[1]+1-10, 11)\n",
    "posts = np.array(posts.tolist()+[posts[posts.shape[0]-1]+4,posts[posts.shape[0]-1]+10])\n",
    "posts"
   ]
  },
  {
   "cell_type": "code",
   "execution_count": 274,
   "id": "9098c114-fbc8-4459-911d-60c564a674ab",
   "metadata": {},
   "outputs": [
    {
     "data": {
      "text/plain": [
       "'cluster_random'"
      ]
     },
     "execution_count": 274,
     "metadata": {},
     "output_type": "execute_result"
    }
   ],
   "source": [
    "cluster_var"
   ]
  },
  {
   "cell_type": "code",
   "execution_count": 275,
   "id": "f5e8580b-9dc5-41fc-a1bb-20594b93aaf7",
   "metadata": {},
   "outputs": [
    {
     "name": "stdout",
     "output_type": "stream",
     "text": [
      "elapsed time:  3.314018249511719e-05\n"
     ]
    }
   ],
   "source": [
    "num_reps = 1\n",
    "seed = 1234\n",
    "\n",
    "start_time = time.time()\n",
    "#resSeqICP = [getSeqICP(c, varss,posts, \"cluster_regional\", cube, labels, event_df, num_reps, seed) for c in combosOrd]\n",
    "elapsed_time = time.time() - start_time\n",
    "print(\"elapsed time: \", elapsed_time) # for 5 folds, 1 rep each\n",
    "\n"
   ]
  },
  {
   "cell_type": "code",
   "execution_count": 276,
   "id": "51a569e8-21f3-461c-9465-3364b169490a",
   "metadata": {},
   "outputs": [
    {
     "data": {
      "text/plain": [
       "'/home/emiliano/Documents/FDL/clean_code/results/rf_pred_era5_19vs_29vs_vRegion_ICP_selectedICPseq.png'"
      ]
     },
     "execution_count": 276,
     "metadata": {},
     "output_type": "execute_result"
    }
   ],
   "source": [
    "results_root = \"/home/emiliano/Documents/FDL/clean_code/results/\"\n",
    "\n",
    "file = \"rf_pred_era5_19vs_29vs\"\n",
    "\n",
    "\n",
    "version = \"vRegion_ICP_selected\"\n",
    "#version = \"vRand_ICP_selected\"\n",
    "\n",
    "fileRes = results_root+file+\"_\"+version+\"ICPseq.png\"\n",
    "#fileRes = results_root+file+\"_\"+version+\"RFimpurity_seq.png\"\n",
    "fileRes"
   ]
  },
  {
   "cell_type": "code",
   "execution_count": 277,
   "id": "05e411c9-dd1a-42dd-a80f-1cd5f394e271",
   "metadata": {},
   "outputs": [],
   "source": [
    "#with open(fileRes, 'wb') as output:  # Overwrites any existing file.\n",
    "#        pickle.dump(resSeqICP, output, pickle.HIGHEST_PROTOCOL)\n"
   ]
  },
  {
   "cell_type": "code",
   "execution_count": 278,
   "id": "7ea9bd41-137d-4f20-81a7-f45370789e34",
   "metadata": {},
   "outputs": [
    {
     "ename": "NameError",
     "evalue": "name 'resSeqICP' is not defined",
     "output_type": "error",
     "traceback": [
      "\u001b[0;31m---------------------------------------------------------------------------\u001b[0m",
      "\u001b[0;31mNameError\u001b[0m                                 Traceback (most recent call last)",
      "\u001b[0;32m/tmp/ipykernel_1856/3476558066.py\u001b[0m in \u001b[0;36m<module>\u001b[0;34m\u001b[0m\n\u001b[0;32m----> 1\u001b[0;31m \u001b[0mresSeqICP\u001b[0m\u001b[0;34m[\u001b[0m\u001b[0;36m0\u001b[0m\u001b[0;34m]\u001b[0m\u001b[0;34m\u001b[0m\u001b[0;34m\u001b[0m\u001b[0m\n\u001b[0m",
      "\u001b[0;31mNameError\u001b[0m: name 'resSeqICP' is not defined"
     ]
    }
   ],
   "source": [
    "resSeqICP[0]"
   ]
  },
  {
   "cell_type": "code",
   "execution_count": null,
   "id": "d7b9e7f0-416a-4df6-b8df-a2b9cecb70cb",
   "metadata": {},
   "outputs": [],
   "source": [
    "resICP_mean = [r[\"mean\"] for r in resSeqICP]\n",
    "resICP_std = [r[\"std\"] for r in resSeqICP]"
   ]
  },
  {
   "cell_type": "code",
   "execution_count": null,
   "id": "ff737869-fc70-47b3-9466-1473360f9749",
   "metadata": {},
   "outputs": [],
   "source": [
    "plt.scatter(ordVars, resICP_mean)"
   ]
  },
  {
   "cell_type": "code",
   "execution_count": null,
   "id": "fa16423d-e87b-4737-b98f-02f09aa4d2f6",
   "metadata": {},
   "outputs": [],
   "source": [
    "plt.scatter(ordVars, resICP_mean)"
   ]
  },
  {
   "cell_type": "code",
   "execution_count": null,
   "id": "9f2d3f8c-f46f-4ebd-9a8f-6566b9cae3b0",
   "metadata": {},
   "outputs": [],
   "source": [
    "plt.scatter(ordVars, resICP_std)"
   ]
  },
  {
   "cell_type": "code",
   "execution_count": null,
   "id": "1ce773ed-cd37-4b54-a11c-28bde0cf61a8",
   "metadata": {},
   "outputs": [],
   "source": [
    "plt.scatter(ordVars, resICP_std)"
   ]
  },
  {
   "cell_type": "code",
   "execution_count": null,
   "id": "0428566b-de8e-4662-b34e-375c9c54b3f9",
   "metadata": {},
   "outputs": [],
   "source": [
    "len(ordVars)"
   ]
  },
  {
   "cell_type": "code",
   "execution_count": null,
   "id": "01ef6986-8553-46fe-8416-0574bde13155",
   "metadata": {},
   "outputs": [],
   "source": [
    "file"
   ]
  },
  {
   "cell_type": "code",
   "execution_count": null,
   "id": "ebb9e142-673f-4784-ab90-89349975b8dc",
   "metadata": {},
   "outputs": [],
   "source": [
    "\n",
    "# greedy-ICP order\n",
    "ordVars = ['v10', 'cin', 'ch3', 'uv250', 'ch2', 'ch5', 'slhf', 'r750', 'fg10',\n",
    "       'r650', 'u', 'ch4', 'cvh', 'typeL', 'typeH', 'cvl', 'w', 'blh',\n",
    "       'uv10', 'z', 'ch1', 'u10', 'sshf', 'r850', 'v', 'ch6', 'cape',\n",
    "       'alt']\n",
    "\n",
    "results_root = \"/home/emiliano/Documents/FDL/clean_code/results/\"\n",
    "file = \"rf_pred_era5_19vs_29vs\"\n",
    "\n",
    "version = \"vRand_ICP_selected\"\n",
    "fileRes = results_root+file+\"_\"+version+\"ICPseq.pkl\"\n",
    "\n",
    "resSeqICPrand = pickle5.load( open( fileRes, \"rb\" ) )\n",
    "resICPrand_mean = [r[\"mean\"] for r in resSeqICPrand]\n",
    "resICPrand_std = [r[\"std\"] for r in resSeqICPrand]\n",
    "df_rand = pd.DataFrame({\"var\":ordVars,\"mean_AUC\":resICPrand_mean, \"std_AUC\":resICPrand_std})\n",
    "df_rand[\"CV\"] = \"random\"\n",
    "df_rand[\"order\"] = \"ICP\"\n",
    "df_rand[\"idx_var\"] = np.arange(df_rand.shape[0])"
   ]
  },
  {
   "cell_type": "code",
   "execution_count": null,
   "id": "3aa79163-3c25-4814-bdf8-b6122bd54b3a",
   "metadata": {},
   "outputs": [],
   "source": [
    "results_root = \"/home/emiliano/Documents/FDL/clean_code/results/\"\n",
    "file = \"rf_pred_era5_19vs_29vs\"\n",
    "version = \"vRegion_ICP_selected\"\n",
    "\n",
    "fileRes = results_root+file+\"_\"+version+\"ICPseq.pkl\"\n",
    "\n",
    "resSeqICPreg = pickle5.load( open( fileRes, \"rb\" ) )\n",
    "resICPreg_mean = [r[\"mean\"] for r in resSeqICPreg]\n",
    "resICPreg_std = [r[\"std\"] for r in resSeqICPreg]\n",
    "df_region = pd.DataFrame({\"var\":ordVars,\"mean_AUC\":resICPreg_mean, \"std_AUC\":resICPreg_std})\n",
    "df_region[\"CV\"] = \"regional\"\n",
    "df_region[\"order\"] = \"ICP\"\n",
    "df_region[\"idx_var\"] = np.arange(df_region.shape[0])"
   ]
  },
  {
   "cell_type": "code",
   "execution_count": null,
   "id": "557c7ca7-628a-4e24-99b8-809f37891204",
   "metadata": {},
   "outputs": [],
   "source": [
    "df = pd.concat([df_rand, df_region])\n",
    "df = pd.melt(df, id_vars=[\"var\",\"CV\",\"order\",\"idx_var\"])\n",
    "df.head()"
   ]
  },
  {
   "cell_type": "code",
   "execution_count": null,
   "id": "9f982c02-a224-4d21-b8a3-ca374fc66efa",
   "metadata": {},
   "outputs": [],
   "source": [
    "df = pd.concat([df_rand, df_region])\n",
    "df = pd.melt(df, id_vars=[\"var\",\"CV\",\"order\",\"idx_var\"])\n",
    "df.head()"
   ]
  },
  {
   "cell_type": "code",
   "execution_count": null,
   "id": "cdd1592f-2040-49be-92a9-6eda823a39f3",
   "metadata": {},
   "outputs": [],
   "source": [
    "file"
   ]
  },
  {
   "cell_type": "code",
   "execution_count": null,
   "id": "33a59570-d464-464e-ae6f-04a7251b12c2",
   "metadata": {},
   "outputs": [],
   "source": [
    "version1 = \"ICP_selected\""
   ]
  },
  {
   "cell_type": "code",
   "execution_count": null,
   "id": "a71ed266-17e5-4eb0-aba7-ab5e7419379c",
   "metadata": {},
   "outputs": [],
   "source": [
    "fileRes = results_root+file+\"_\"+version1+\"valid_AUC_mean_std.png\"\n",
    "fileRes"
   ]
  },
  {
   "cell_type": "code",
   "execution_count": null,
   "id": "50b7dd85-ce91-4d14-8913-9515a3dc8df6",
   "metadata": {},
   "outputs": [],
   "source": [
    "g = sns.FacetGrid(df, col=\"variable\",hue=\"CV\",margin_titles=True, sharey=False)\n",
    "g.map(sns.stripplot, \"var\", \"value\",  size=7)\n",
    "#g.set(xlabel='variable excluded', ylabel='auc')\n",
    "g.set_titles(col_template=\"{col_name}\",size=16)\n",
    "#g.set_titles(row_template=\"{row_name}\",size=16)\n",
    "\n",
    "    #g.set(xticks=onp.unique(resAux[\"num\"]))\n",
    "    #g.set_xticklabels(par_vals)\n",
    "\n",
    "g.set_xticklabels(rotation=90)\n",
    "g.set_xticklabels(size=10)\n",
    "\n",
    "\n",
    "g.set_axis_labels(\"Seq. of excluded vars.\", \"auc\", size=16)\n",
    "\n",
    "g.add_legend()\n",
    "#plt.legend(title='Team', fontsize='10', title_fontsize='14')\n",
    "\n",
    "plt.setp(g._legend.get_title(), fontsize=20)\n",
    "plt.setp(g._legend.get_texts(), fontsize=15)\n",
    "\n",
    "#plt.legend(bbox_to_anchor=(1.3, 1),borderaxespad=0)\n",
    "#g.savefig(fileRes, format='png', dpi=300)\n",
    "    \n",
    "    "
   ]
  }
 ],
 "metadata": {
  "environment": {
   "kernel": "python3",
   "name": "pytorch-gpu.1-11.m94",
   "type": "gcloud",
   "uri": "gcr.io/deeplearning-platform-release/pytorch-gpu.1-11:m94"
  },
  "kernelspec": {
   "display_name": "Python 3 (ipykernel)",
   "language": "python",
   "name": "python3"
  },
  "language_info": {
   "codemirror_mode": {
    "name": "ipython",
    "version": 3
   },
   "file_extension": ".py",
   "mimetype": "text/x-python",
   "name": "python",
   "nbconvert_exporter": "python",
   "pygments_lexer": "ipython3",
   "version": "3.7.12"
  }
 },
 "nbformat": 4,
 "nbformat_minor": 5
}
