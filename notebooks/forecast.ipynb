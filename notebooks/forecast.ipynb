{
 "cells": [
  {
   "attachments": {},
   "cell_type": "markdown",
   "metadata": {},
   "source": [
    "# Forecast\n",
    "\n",
    "In this notebook, we load the best Random Forest model and make some predictions over the test set. "
   ]
  },
  {
   "cell_type": "code",
   "execution_count": null,
   "metadata": {},
   "outputs": [],
   "source": [
    "import utils.dataprep as dp\n",
    "import utils.metrics as metrics\n",
    "from models import random_forest\n",
    "import joblib\n",
    "import numpy as np"
   ]
  },
  {
   "attachments": {},
   "cell_type": "markdown",
   "metadata": {},
   "source": [
    "## Load data and model\n",
    "\n"
   ]
  },
  {
   "cell_type": "code",
   "execution_count": null,
   "metadata": {},
   "outputs": [],
   "source": [
    "# Load datacubes (you can dowload these from the Pyrocast database)\n",
    "geo_cubes = np.load('')\n",
    "env_cubes =  np.load('')\n",
    "flag_cubes =  np.load('')\n",
    "\n",
    "# Load saved model instance\n",
    "rf_model = joblib.load('')"
   ]
  },
  {
   "attachments": {},
   "cell_type": "markdown",
   "metadata": {},
   "source": [
    "## Prepare data"
   ]
  },
  {
   "cell_type": "code",
   "execution_count": null,
   "metadata": {},
   "outputs": [],
   "source": [
    "# Split the data into the training and test sets \n",
    "xtrain, ytrain, xtest, ytest = dp.load_rfdata()"
   ]
  },
  {
   "attachments": {},
   "cell_type": "markdown",
   "metadata": {},
   "source": [
    "## Make predictions"
   ]
  },
  {
   "cell_type": "code",
   "execution_count": null,
   "metadata": {},
   "outputs": [],
   "source": [
    "ypred = rf_model.predict(x)\n",
    "auc = metrics.auc(ytest, ypred)\n",
    "print(auc)"
   ]
  }
 ],
 "metadata": {
  "kernelspec": {
   "display_name": "base",
   "language": "python",
   "name": "python3"
  },
  "language_info": {
   "name": "python",
   "version": "3.8.11 (default, Jul 29 2021, 14:57:32) \n[Clang 12.0.0 ]"
  },
  "orig_nbformat": 4,
  "vscode": {
   "interpreter": {
    "hash": "5426c688bd3257604544373d620790b2306efd3cd4ed9fb4532f758698a84368"
   }
  }
 },
 "nbformat": 4,
 "nbformat_minor": 2
}
